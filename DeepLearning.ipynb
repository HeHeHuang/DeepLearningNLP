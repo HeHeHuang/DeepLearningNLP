{
  "nbformat": 4,
  "nbformat_minor": 0,
  "metadata": {
    "colab": {
      "name": "DeepLearning.ipynb",
      "provenance": [],
      "collapsed_sections": [
        "j2QQ34mkgewC",
        "pjxqPaCz3gs6"
      ],
      "toc_visible": true,
      "mount_file_id": "1jVcW3rQDwn15_2MgntnKIstKrqv4MBi4",
      "authorship_tag": "ABX9TyPWx7haQdsUqwIudsSknlHE",
      "include_colab_link": true
    },
    "kernelspec": {
      "name": "python3",
      "display_name": "Python 3"
    },
    "language_info": {
      "name": "python"
    }
  },
  "cells": [
    {
      "cell_type": "markdown",
      "metadata": {
        "id": "view-in-github",
        "colab_type": "text"
      },
      "source": [
        "<a href=\"https://colab.research.google.com/github/HeHeHuang/DeepLearningNLP/blob/main/DeepLearning.ipynb\" target=\"_parent\"><img src=\"https://colab.research.google.com/assets/colab-badge.svg\" alt=\"Open In Colab\"/></a>"
      ]
    },
    {
      "cell_type": "code",
      "execution_count": null,
      "metadata": {
        "id": "xnwfvS8ifLwM"
      },
      "outputs": [],
      "source": [
        "# Deep Learning\n"
      ]
    },
    {
      "cell_type": "markdown",
      "source": [
        "## MLP\n"
      ],
      "metadata": {
        "id": "v953sDlzfXgM"
      }
    },
    {
      "cell_type": "markdown",
      "source": [
        "### Demo"
      ],
      "metadata": {
        "id": "j2QQ34mkgewC"
      }
    },
    {
      "cell_type": "code",
      "source": [
        "from sklearn.neural_network import MLPClassifier"
      ],
      "metadata": {
        "id": "ZvHArZXXfe1m"
      },
      "execution_count": null,
      "outputs": []
    },
    {
      "cell_type": "code",
      "source": [
        "X = [[0.,0.],[1.,1.],[2.,2.]]\n",
        "y = [0,1,1]\n"
      ],
      "metadata": {
        "id": "EHJvKyFk1GqO"
      },
      "execution_count": null,
      "outputs": []
    },
    {
      "cell_type": "code",
      "source": [
        "X,y"
      ],
      "metadata": {
        "colab": {
          "base_uri": "https://localhost:8080/"
        },
        "id": "EDtBaVds1RJi",
        "outputId": "687d648a-5d1e-4278-de71-210769409a19"
      },
      "execution_count": null,
      "outputs": [
        {
          "output_type": "execute_result",
          "data": {
            "text/plain": [
              "([[0.0, 0.0], [1.0, 1.0]], [0, 1])"
            ]
          },
          "metadata": {},
          "execution_count": 5
        }
      ]
    },
    {
      "cell_type": "markdown",
      "source": [
        "(5,2) 2 dimension set \n",
        "2 layers\n",
        "5 nodes for 1st hidden layer\n",
        "2 nodes for 2st hidden layer"
      ],
      "metadata": {
        "id": "YDg9Q9OK3ybD"
      }
    },
    {
      "cell_type": "code",
      "source": [
        "clf = MLPClassifier(solver='sgd',alpha = 1e-5,hidden_layer_sizes=(5,2),random_state=1)"
      ],
      "metadata": {
        "id": "hQZya0PY13tk"
      },
      "execution_count": null,
      "outputs": []
    },
    {
      "cell_type": "code",
      "source": [
        "clf.fit(X,y)"
      ],
      "metadata": {
        "colab": {
          "base_uri": "https://localhost:8080/"
        },
        "id": "S80ddzCH2IgE",
        "outputId": "2f22dbf7-5981-45f0-ed50-b7b8a12e387a"
      },
      "execution_count": null,
      "outputs": [
        {
          "output_type": "stream",
          "name": "stderr",
          "text": [
            "/usr/local/lib/python3.7/dist-packages/sklearn/neural_network/_multilayer_perceptron.py:696: ConvergenceWarning: Stochastic Optimizer: Maximum iterations (200) reached and the optimization hasn't converged yet.\n",
            "  ConvergenceWarning,\n"
          ]
        },
        {
          "output_type": "execute_result",
          "data": {
            "text/plain": [
              "MLPClassifier(alpha=1e-05, hidden_layer_sizes=(5, 2), random_state=1,\n",
              "              solver='sgd')"
            ]
          },
          "metadata": {},
          "execution_count": 20
        }
      ]
    },
    {
      "cell_type": "markdown",
      "source": [
        "1. set max_iter increase \n",
        "2. tol = 0.000001\n"
      ],
      "metadata": {
        "id": "Dz_EaEVV4eLn"
      }
    },
    {
      "cell_type": "code",
      "source": [
        "clf = MLPClassifier(solver='sgd',alpha = 1e-5,max_iter = 3000,hidden_layer_sizes=(5,2),random_state=1)\n",
        "clf.fit(X,y)"
      ],
      "metadata": {
        "colab": {
          "base_uri": "https://localhost:8080/"
        },
        "id": "gdyL6jwe4a0t",
        "outputId": "0cb83005-5edd-41c4-d75e-99897eb661b9"
      },
      "execution_count": null,
      "outputs": [
        {
          "output_type": "execute_result",
          "data": {
            "text/plain": [
              "MLPClassifier(alpha=1e-05, hidden_layer_sizes=(5, 2), max_iter=3000,\n",
              "              random_state=1, solver='sgd')"
            ]
          },
          "metadata": {},
          "execution_count": 8
        }
      ]
    },
    {
      "cell_type": "code",
      "source": [
        " batch_size = 200  \n",
        " shuffle = Ture\n"
      ],
      "metadata": {
        "id": "oexk8zhn4xoi"
      },
      "execution_count": null,
      "outputs": []
    },
    {
      "cell_type": "markdown",
      "source": [
        "> regression: fitting the data\n",
        "\n",
        ">classification: find the classifying boundary \n"
      ],
      "metadata": {
        "id": "uKTLCLVt8SsY"
      }
    },
    {
      "cell_type": "code",
      "source": [
        "clf.predict([[2.,2.],[-1,-2]])"
      ],
      "metadata": {
        "colab": {
          "base_uri": "https://localhost:8080/"
        },
        "id": "fLjEqSIE8tXu",
        "outputId": "a32f9e61-992d-4ef0-b95f-d84ce06607a0"
      },
      "execution_count": null,
      "outputs": [
        {
          "output_type": "execute_result",
          "data": {
            "text/plain": [
              "array([1, 0])"
            ]
          },
          "metadata": {},
          "execution_count": 23
        }
      ]
    },
    {
      "cell_type": "code",
      "source": [
        "clf.predict([[2.,2.] ])"
      ],
      "metadata": {
        "id": "bzTJlQQH-dt1"
      },
      "execution_count": null,
      "outputs": []
    },
    {
      "cell_type": "code",
      "source": [
        "[coef.shape for coef in clf.coefs_]"
      ],
      "metadata": {
        "colab": {
          "base_uri": "https://localhost:8080/"
        },
        "id": "qeTY0YSh9wMb",
        "outputId": "6b2210f6-beff-4413-9eec-b8c4691d29c1"
      },
      "execution_count": null,
      "outputs": [
        {
          "output_type": "execute_result",
          "data": {
            "text/plain": [
              "[(2, 5), (5, 2), (2, 1)]"
            ]
          },
          "metadata": {},
          "execution_count": 15
        }
      ]
    },
    {
      "cell_type": "code",
      "source": [
        "clf.predict_proba([[2,2],[1,2]])"
      ],
      "metadata": {
        "colab": {
          "base_uri": "https://localhost:8080/"
        },
        "id": "uLnfdIR3932n",
        "outputId": "6a8b4417-fd97-499c-f176-ee1db365e86f"
      },
      "execution_count": null,
      "outputs": [
        {
          "output_type": "execute_result",
          "data": {
            "text/plain": [
              "array([[0.15882012, 0.84117988],\n",
              "       [0.15882012, 0.84117988]])"
            ]
          },
          "metadata": {},
          "execution_count": 17
        }
      ]
    },
    {
      "cell_type": "markdown",
      "source": [
        "### practical Case with SkLearn"
      ],
      "metadata": {
        "id": "FI33FmBogibT"
      }
    },
    {
      "cell_type": "code",
      "source": [
        "#/content/drive/MyDrive/Colab Notebooks/concrete.csv\n",
        "import pandas as pd\n",
        "from sklearn.neural_network import MLPRegressor\n",
        "import numpy as np\n",
        "from sklearn.metrics import mean_squared_error\n",
        "from sklearn.preprocessing import StandardScaler"
      ],
      "metadata": {
        "id": "0_gOPYMugn6s"
      },
      "execution_count": null,
      "outputs": []
    },
    {
      "cell_type": "code",
      "source": [
        "df = pd.read_csv('/content/drive/MyDrive/Colab Notebooks/concrete.csv')\n",
        "df\n"
      ],
      "metadata": {
        "id": "5M7xeRem-Avm",
        "colab": {
          "base_uri": "https://localhost:8080/",
          "height": 424
        },
        "outputId": "f39722b4-c099-42c3-ccee-1f6024b0b2e8"
      },
      "execution_count": null,
      "outputs": [
        {
          "output_type": "execute_result",
          "data": {
            "text/plain": [
              "      cement   slag    ash  water  superplastic  coarseagg  fineagg  age  \\\n",
              "0      141.3  212.0    0.0  203.5           0.0      971.8    748.5   28   \n",
              "1      168.9   42.2  124.3  158.3          10.8     1080.8    796.2   14   \n",
              "2      250.0    0.0   95.7  187.4           5.5      956.9    861.2   28   \n",
              "3      266.0  114.0    0.0  228.0           0.0      932.0    670.0   28   \n",
              "4      154.8  183.4    0.0  193.3           9.1     1047.4    696.7   28   \n",
              "...      ...    ...    ...    ...           ...        ...      ...  ...   \n",
              "1025   135.0    0.0  166.0  180.0          10.0      961.0    805.0   28   \n",
              "1026   531.3    0.0    0.0  141.8          28.2      852.1    893.7    3   \n",
              "1027   276.4  116.0   90.3  179.6           8.9      870.1    768.3   28   \n",
              "1028   342.0   38.0    0.0  228.0           0.0      932.0    670.0  270   \n",
              "1029   540.0    0.0    0.0  173.0           0.0     1125.0    613.0    7   \n",
              "\n",
              "      strength  \n",
              "0        29.89  \n",
              "1        23.51  \n",
              "2        29.22  \n",
              "3        45.85  \n",
              "4        18.29  \n",
              "...        ...  \n",
              "1025     13.29  \n",
              "1026     41.30  \n",
              "1027     44.28  \n",
              "1028     55.06  \n",
              "1029     52.61  \n",
              "\n",
              "[1030 rows x 9 columns]"
            ],
            "text/html": [
              "\n",
              "  <div id=\"df-73beef56-6c31-4c4f-b076-c1bfd2002228\">\n",
              "    <div class=\"colab-df-container\">\n",
              "      <div>\n",
              "<style scoped>\n",
              "    .dataframe tbody tr th:only-of-type {\n",
              "        vertical-align: middle;\n",
              "    }\n",
              "\n",
              "    .dataframe tbody tr th {\n",
              "        vertical-align: top;\n",
              "    }\n",
              "\n",
              "    .dataframe thead th {\n",
              "        text-align: right;\n",
              "    }\n",
              "</style>\n",
              "<table border=\"1\" class=\"dataframe\">\n",
              "  <thead>\n",
              "    <tr style=\"text-align: right;\">\n",
              "      <th></th>\n",
              "      <th>cement</th>\n",
              "      <th>slag</th>\n",
              "      <th>ash</th>\n",
              "      <th>water</th>\n",
              "      <th>superplastic</th>\n",
              "      <th>coarseagg</th>\n",
              "      <th>fineagg</th>\n",
              "      <th>age</th>\n",
              "      <th>strength</th>\n",
              "    </tr>\n",
              "  </thead>\n",
              "  <tbody>\n",
              "    <tr>\n",
              "      <th>0</th>\n",
              "      <td>141.3</td>\n",
              "      <td>212.0</td>\n",
              "      <td>0.0</td>\n",
              "      <td>203.5</td>\n",
              "      <td>0.0</td>\n",
              "      <td>971.8</td>\n",
              "      <td>748.5</td>\n",
              "      <td>28</td>\n",
              "      <td>29.89</td>\n",
              "    </tr>\n",
              "    <tr>\n",
              "      <th>1</th>\n",
              "      <td>168.9</td>\n",
              "      <td>42.2</td>\n",
              "      <td>124.3</td>\n",
              "      <td>158.3</td>\n",
              "      <td>10.8</td>\n",
              "      <td>1080.8</td>\n",
              "      <td>796.2</td>\n",
              "      <td>14</td>\n",
              "      <td>23.51</td>\n",
              "    </tr>\n",
              "    <tr>\n",
              "      <th>2</th>\n",
              "      <td>250.0</td>\n",
              "      <td>0.0</td>\n",
              "      <td>95.7</td>\n",
              "      <td>187.4</td>\n",
              "      <td>5.5</td>\n",
              "      <td>956.9</td>\n",
              "      <td>861.2</td>\n",
              "      <td>28</td>\n",
              "      <td>29.22</td>\n",
              "    </tr>\n",
              "    <tr>\n",
              "      <th>3</th>\n",
              "      <td>266.0</td>\n",
              "      <td>114.0</td>\n",
              "      <td>0.0</td>\n",
              "      <td>228.0</td>\n",
              "      <td>0.0</td>\n",
              "      <td>932.0</td>\n",
              "      <td>670.0</td>\n",
              "      <td>28</td>\n",
              "      <td>45.85</td>\n",
              "    </tr>\n",
              "    <tr>\n",
              "      <th>4</th>\n",
              "      <td>154.8</td>\n",
              "      <td>183.4</td>\n",
              "      <td>0.0</td>\n",
              "      <td>193.3</td>\n",
              "      <td>9.1</td>\n",
              "      <td>1047.4</td>\n",
              "      <td>696.7</td>\n",
              "      <td>28</td>\n",
              "      <td>18.29</td>\n",
              "    </tr>\n",
              "    <tr>\n",
              "      <th>...</th>\n",
              "      <td>...</td>\n",
              "      <td>...</td>\n",
              "      <td>...</td>\n",
              "      <td>...</td>\n",
              "      <td>...</td>\n",
              "      <td>...</td>\n",
              "      <td>...</td>\n",
              "      <td>...</td>\n",
              "      <td>...</td>\n",
              "    </tr>\n",
              "    <tr>\n",
              "      <th>1025</th>\n",
              "      <td>135.0</td>\n",
              "      <td>0.0</td>\n",
              "      <td>166.0</td>\n",
              "      <td>180.0</td>\n",
              "      <td>10.0</td>\n",
              "      <td>961.0</td>\n",
              "      <td>805.0</td>\n",
              "      <td>28</td>\n",
              "      <td>13.29</td>\n",
              "    </tr>\n",
              "    <tr>\n",
              "      <th>1026</th>\n",
              "      <td>531.3</td>\n",
              "      <td>0.0</td>\n",
              "      <td>0.0</td>\n",
              "      <td>141.8</td>\n",
              "      <td>28.2</td>\n",
              "      <td>852.1</td>\n",
              "      <td>893.7</td>\n",
              "      <td>3</td>\n",
              "      <td>41.30</td>\n",
              "    </tr>\n",
              "    <tr>\n",
              "      <th>1027</th>\n",
              "      <td>276.4</td>\n",
              "      <td>116.0</td>\n",
              "      <td>90.3</td>\n",
              "      <td>179.6</td>\n",
              "      <td>8.9</td>\n",
              "      <td>870.1</td>\n",
              "      <td>768.3</td>\n",
              "      <td>28</td>\n",
              "      <td>44.28</td>\n",
              "    </tr>\n",
              "    <tr>\n",
              "      <th>1028</th>\n",
              "      <td>342.0</td>\n",
              "      <td>38.0</td>\n",
              "      <td>0.0</td>\n",
              "      <td>228.0</td>\n",
              "      <td>0.0</td>\n",
              "      <td>932.0</td>\n",
              "      <td>670.0</td>\n",
              "      <td>270</td>\n",
              "      <td>55.06</td>\n",
              "    </tr>\n",
              "    <tr>\n",
              "      <th>1029</th>\n",
              "      <td>540.0</td>\n",
              "      <td>0.0</td>\n",
              "      <td>0.0</td>\n",
              "      <td>173.0</td>\n",
              "      <td>0.0</td>\n",
              "      <td>1125.0</td>\n",
              "      <td>613.0</td>\n",
              "      <td>7</td>\n",
              "      <td>52.61</td>\n",
              "    </tr>\n",
              "  </tbody>\n",
              "</table>\n",
              "<p>1030 rows × 9 columns</p>\n",
              "</div>\n",
              "      <button class=\"colab-df-convert\" onclick=\"convertToInteractive('df-73beef56-6c31-4c4f-b076-c1bfd2002228')\"\n",
              "              title=\"Convert this dataframe to an interactive table.\"\n",
              "              style=\"display:none;\">\n",
              "        \n",
              "  <svg xmlns=\"http://www.w3.org/2000/svg\" height=\"24px\"viewBox=\"0 0 24 24\"\n",
              "       width=\"24px\">\n",
              "    <path d=\"M0 0h24v24H0V0z\" fill=\"none\"/>\n",
              "    <path d=\"M18.56 5.44l.94 2.06.94-2.06 2.06-.94-2.06-.94-.94-2.06-.94 2.06-2.06.94zm-11 1L8.5 8.5l.94-2.06 2.06-.94-2.06-.94L8.5 2.5l-.94 2.06-2.06.94zm10 10l.94 2.06.94-2.06 2.06-.94-2.06-.94-.94-2.06-.94 2.06-2.06.94z\"/><path d=\"M17.41 7.96l-1.37-1.37c-.4-.4-.92-.59-1.43-.59-.52 0-1.04.2-1.43.59L10.3 9.45l-7.72 7.72c-.78.78-.78 2.05 0 2.83L4 21.41c.39.39.9.59 1.41.59.51 0 1.02-.2 1.41-.59l7.78-7.78 2.81-2.81c.8-.78.8-2.07 0-2.86zM5.41 20L4 18.59l7.72-7.72 1.47 1.35L5.41 20z\"/>\n",
              "  </svg>\n",
              "      </button>\n",
              "      \n",
              "  <style>\n",
              "    .colab-df-container {\n",
              "      display:flex;\n",
              "      flex-wrap:wrap;\n",
              "      gap: 12px;\n",
              "    }\n",
              "\n",
              "    .colab-df-convert {\n",
              "      background-color: #E8F0FE;\n",
              "      border: none;\n",
              "      border-radius: 50%;\n",
              "      cursor: pointer;\n",
              "      display: none;\n",
              "      fill: #1967D2;\n",
              "      height: 32px;\n",
              "      padding: 0 0 0 0;\n",
              "      width: 32px;\n",
              "    }\n",
              "\n",
              "    .colab-df-convert:hover {\n",
              "      background-color: #E2EBFA;\n",
              "      box-shadow: 0px 1px 2px rgba(60, 64, 67, 0.3), 0px 1px 3px 1px rgba(60, 64, 67, 0.15);\n",
              "      fill: #174EA6;\n",
              "    }\n",
              "\n",
              "    [theme=dark] .colab-df-convert {\n",
              "      background-color: #3B4455;\n",
              "      fill: #D2E3FC;\n",
              "    }\n",
              "\n",
              "    [theme=dark] .colab-df-convert:hover {\n",
              "      background-color: #434B5C;\n",
              "      box-shadow: 0px 1px 3px 1px rgba(0, 0, 0, 0.15);\n",
              "      filter: drop-shadow(0px 1px 2px rgba(0, 0, 0, 0.3));\n",
              "      fill: #FFFFFF;\n",
              "    }\n",
              "  </style>\n",
              "\n",
              "      <script>\n",
              "        const buttonEl =\n",
              "          document.querySelector('#df-73beef56-6c31-4c4f-b076-c1bfd2002228 button.colab-df-convert');\n",
              "        buttonEl.style.display =\n",
              "          google.colab.kernel.accessAllowed ? 'block' : 'none';\n",
              "\n",
              "        async function convertToInteractive(key) {\n",
              "          const element = document.querySelector('#df-73beef56-6c31-4c4f-b076-c1bfd2002228');\n",
              "          const dataTable =\n",
              "            await google.colab.kernel.invokeFunction('convertToInteractive',\n",
              "                                                     [key], {});\n",
              "          if (!dataTable) return;\n",
              "\n",
              "          const docLinkHtml = 'Like what you see? Visit the ' +\n",
              "            '<a target=\"_blank\" href=https://colab.research.google.com/notebooks/data_table.ipynb>data table notebook</a>'\n",
              "            + ' to learn more about interactive tables.';\n",
              "          element.innerHTML = '';\n",
              "          dataTable['output_type'] = 'display_data';\n",
              "          await google.colab.output.renderOutput(dataTable, element);\n",
              "          const docLink = document.createElement('div');\n",
              "          docLink.innerHTML = docLinkHtml;\n",
              "          element.appendChild(docLink);\n",
              "        }\n",
              "      </script>\n",
              "    </div>\n",
              "  </div>\n",
              "  "
            ]
          },
          "metadata": {},
          "execution_count": 163
        }
      ]
    },
    {
      "cell_type": "markdown",
      "source": [
        "for machine learning:\n",
        ">for features selection "
      ],
      "metadata": {
        "id": "UPdkm8p-iSI7"
      }
    },
    {
      "cell_type": "code",
      "source": [
        "df.describe()"
      ],
      "metadata": {
        "colab": {
          "base_uri": "https://localhost:8080/",
          "height": 300
        },
        "id": "HZTPFec5h1I3",
        "outputId": "3a698d50-2162-45c1-8f43-a483cc21c399"
      },
      "execution_count": null,
      "outputs": [
        {
          "output_type": "execute_result",
          "data": {
            "text/plain": [
              "            cement         slag          ash        water  superplastic  \\\n",
              "count  1030.000000  1030.000000  1030.000000  1030.000000   1030.000000   \n",
              "mean    281.167864    73.895825    54.188350   181.567282      6.204660   \n",
              "std     104.506364    86.279342    63.997004    21.354219      5.973841   \n",
              "min     102.000000     0.000000     0.000000   121.800000      0.000000   \n",
              "25%     192.375000     0.000000     0.000000   164.900000      0.000000   \n",
              "50%     272.900000    22.000000     0.000000   185.000000      6.400000   \n",
              "75%     350.000000   142.950000   118.300000   192.000000     10.200000   \n",
              "max     540.000000   359.400000   200.100000   247.000000     32.200000   \n",
              "\n",
              "         coarseagg      fineagg          age     strength  \n",
              "count  1030.000000  1030.000000  1030.000000  1030.000000  \n",
              "mean    972.918932   773.580485    45.662136    35.817961  \n",
              "std      77.753954    80.175980    63.169912    16.705742  \n",
              "min     801.000000   594.000000     1.000000     2.330000  \n",
              "25%     932.000000   730.950000     7.000000    23.710000  \n",
              "50%     968.000000   779.500000    28.000000    34.445000  \n",
              "75%    1029.400000   824.000000    56.000000    46.135000  \n",
              "max    1145.000000   992.600000   365.000000    82.600000  "
            ],
            "text/html": [
              "\n",
              "  <div id=\"df-d75a8f05-66f4-4e31-8285-635a6fc71a92\">\n",
              "    <div class=\"colab-df-container\">\n",
              "      <div>\n",
              "<style scoped>\n",
              "    .dataframe tbody tr th:only-of-type {\n",
              "        vertical-align: middle;\n",
              "    }\n",
              "\n",
              "    .dataframe tbody tr th {\n",
              "        vertical-align: top;\n",
              "    }\n",
              "\n",
              "    .dataframe thead th {\n",
              "        text-align: right;\n",
              "    }\n",
              "</style>\n",
              "<table border=\"1\" class=\"dataframe\">\n",
              "  <thead>\n",
              "    <tr style=\"text-align: right;\">\n",
              "      <th></th>\n",
              "      <th>cement</th>\n",
              "      <th>slag</th>\n",
              "      <th>ash</th>\n",
              "      <th>water</th>\n",
              "      <th>superplastic</th>\n",
              "      <th>coarseagg</th>\n",
              "      <th>fineagg</th>\n",
              "      <th>age</th>\n",
              "      <th>strength</th>\n",
              "    </tr>\n",
              "  </thead>\n",
              "  <tbody>\n",
              "    <tr>\n",
              "      <th>count</th>\n",
              "      <td>1030.000000</td>\n",
              "      <td>1030.000000</td>\n",
              "      <td>1030.000000</td>\n",
              "      <td>1030.000000</td>\n",
              "      <td>1030.000000</td>\n",
              "      <td>1030.000000</td>\n",
              "      <td>1030.000000</td>\n",
              "      <td>1030.000000</td>\n",
              "      <td>1030.000000</td>\n",
              "    </tr>\n",
              "    <tr>\n",
              "      <th>mean</th>\n",
              "      <td>281.167864</td>\n",
              "      <td>73.895825</td>\n",
              "      <td>54.188350</td>\n",
              "      <td>181.567282</td>\n",
              "      <td>6.204660</td>\n",
              "      <td>972.918932</td>\n",
              "      <td>773.580485</td>\n",
              "      <td>45.662136</td>\n",
              "      <td>35.817961</td>\n",
              "    </tr>\n",
              "    <tr>\n",
              "      <th>std</th>\n",
              "      <td>104.506364</td>\n",
              "      <td>86.279342</td>\n",
              "      <td>63.997004</td>\n",
              "      <td>21.354219</td>\n",
              "      <td>5.973841</td>\n",
              "      <td>77.753954</td>\n",
              "      <td>80.175980</td>\n",
              "      <td>63.169912</td>\n",
              "      <td>16.705742</td>\n",
              "    </tr>\n",
              "    <tr>\n",
              "      <th>min</th>\n",
              "      <td>102.000000</td>\n",
              "      <td>0.000000</td>\n",
              "      <td>0.000000</td>\n",
              "      <td>121.800000</td>\n",
              "      <td>0.000000</td>\n",
              "      <td>801.000000</td>\n",
              "      <td>594.000000</td>\n",
              "      <td>1.000000</td>\n",
              "      <td>2.330000</td>\n",
              "    </tr>\n",
              "    <tr>\n",
              "      <th>25%</th>\n",
              "      <td>192.375000</td>\n",
              "      <td>0.000000</td>\n",
              "      <td>0.000000</td>\n",
              "      <td>164.900000</td>\n",
              "      <td>0.000000</td>\n",
              "      <td>932.000000</td>\n",
              "      <td>730.950000</td>\n",
              "      <td>7.000000</td>\n",
              "      <td>23.710000</td>\n",
              "    </tr>\n",
              "    <tr>\n",
              "      <th>50%</th>\n",
              "      <td>272.900000</td>\n",
              "      <td>22.000000</td>\n",
              "      <td>0.000000</td>\n",
              "      <td>185.000000</td>\n",
              "      <td>6.400000</td>\n",
              "      <td>968.000000</td>\n",
              "      <td>779.500000</td>\n",
              "      <td>28.000000</td>\n",
              "      <td>34.445000</td>\n",
              "    </tr>\n",
              "    <tr>\n",
              "      <th>75%</th>\n",
              "      <td>350.000000</td>\n",
              "      <td>142.950000</td>\n",
              "      <td>118.300000</td>\n",
              "      <td>192.000000</td>\n",
              "      <td>10.200000</td>\n",
              "      <td>1029.400000</td>\n",
              "      <td>824.000000</td>\n",
              "      <td>56.000000</td>\n",
              "      <td>46.135000</td>\n",
              "    </tr>\n",
              "    <tr>\n",
              "      <th>max</th>\n",
              "      <td>540.000000</td>\n",
              "      <td>359.400000</td>\n",
              "      <td>200.100000</td>\n",
              "      <td>247.000000</td>\n",
              "      <td>32.200000</td>\n",
              "      <td>1145.000000</td>\n",
              "      <td>992.600000</td>\n",
              "      <td>365.000000</td>\n",
              "      <td>82.600000</td>\n",
              "    </tr>\n",
              "  </tbody>\n",
              "</table>\n",
              "</div>\n",
              "      <button class=\"colab-df-convert\" onclick=\"convertToInteractive('df-d75a8f05-66f4-4e31-8285-635a6fc71a92')\"\n",
              "              title=\"Convert this dataframe to an interactive table.\"\n",
              "              style=\"display:none;\">\n",
              "        \n",
              "  <svg xmlns=\"http://www.w3.org/2000/svg\" height=\"24px\"viewBox=\"0 0 24 24\"\n",
              "       width=\"24px\">\n",
              "    <path d=\"M0 0h24v24H0V0z\" fill=\"none\"/>\n",
              "    <path d=\"M18.56 5.44l.94 2.06.94-2.06 2.06-.94-2.06-.94-.94-2.06-.94 2.06-2.06.94zm-11 1L8.5 8.5l.94-2.06 2.06-.94-2.06-.94L8.5 2.5l-.94 2.06-2.06.94zm10 10l.94 2.06.94-2.06 2.06-.94-2.06-.94-.94-2.06-.94 2.06-2.06.94z\"/><path d=\"M17.41 7.96l-1.37-1.37c-.4-.4-.92-.59-1.43-.59-.52 0-1.04.2-1.43.59L10.3 9.45l-7.72 7.72c-.78.78-.78 2.05 0 2.83L4 21.41c.39.39.9.59 1.41.59.51 0 1.02-.2 1.41-.59l7.78-7.78 2.81-2.81c.8-.78.8-2.07 0-2.86zM5.41 20L4 18.59l7.72-7.72 1.47 1.35L5.41 20z\"/>\n",
              "  </svg>\n",
              "      </button>\n",
              "      \n",
              "  <style>\n",
              "    .colab-df-container {\n",
              "      display:flex;\n",
              "      flex-wrap:wrap;\n",
              "      gap: 12px;\n",
              "    }\n",
              "\n",
              "    .colab-df-convert {\n",
              "      background-color: #E8F0FE;\n",
              "      border: none;\n",
              "      border-radius: 50%;\n",
              "      cursor: pointer;\n",
              "      display: none;\n",
              "      fill: #1967D2;\n",
              "      height: 32px;\n",
              "      padding: 0 0 0 0;\n",
              "      width: 32px;\n",
              "    }\n",
              "\n",
              "    .colab-df-convert:hover {\n",
              "      background-color: #E2EBFA;\n",
              "      box-shadow: 0px 1px 2px rgba(60, 64, 67, 0.3), 0px 1px 3px 1px rgba(60, 64, 67, 0.15);\n",
              "      fill: #174EA6;\n",
              "    }\n",
              "\n",
              "    [theme=dark] .colab-df-convert {\n",
              "      background-color: #3B4455;\n",
              "      fill: #D2E3FC;\n",
              "    }\n",
              "\n",
              "    [theme=dark] .colab-df-convert:hover {\n",
              "      background-color: #434B5C;\n",
              "      box-shadow: 0px 1px 3px 1px rgba(0, 0, 0, 0.15);\n",
              "      filter: drop-shadow(0px 1px 2px rgba(0, 0, 0, 0.3));\n",
              "      fill: #FFFFFF;\n",
              "    }\n",
              "  </style>\n",
              "\n",
              "      <script>\n",
              "        const buttonEl =\n",
              "          document.querySelector('#df-d75a8f05-66f4-4e31-8285-635a6fc71a92 button.colab-df-convert');\n",
              "        buttonEl.style.display =\n",
              "          google.colab.kernel.accessAllowed ? 'block' : 'none';\n",
              "\n",
              "        async function convertToInteractive(key) {\n",
              "          const element = document.querySelector('#df-d75a8f05-66f4-4e31-8285-635a6fc71a92');\n",
              "          const dataTable =\n",
              "            await google.colab.kernel.invokeFunction('convertToInteractive',\n",
              "                                                     [key], {});\n",
              "          if (!dataTable) return;\n",
              "\n",
              "          const docLinkHtml = 'Like what you see? Visit the ' +\n",
              "            '<a target=\"_blank\" href=https://colab.research.google.com/notebooks/data_table.ipynb>data table notebook</a>'\n",
              "            + ' to learn more about interactive tables.';\n",
              "          element.innerHTML = '';\n",
              "          dataTable['output_type'] = 'display_data';\n",
              "          await google.colab.output.renderOutput(dataTable, element);\n",
              "          const docLink = document.createElement('div');\n",
              "          docLink.innerHTML = docLinkHtml;\n",
              "          element.appendChild(docLink);\n",
              "        }\n",
              "      </script>\n",
              "    </div>\n",
              "  </div>\n",
              "  "
            ]
          },
          "metadata": {},
          "execution_count": 164
        }
      ]
    },
    {
      "cell_type": "markdown",
      "source": [
        "##### split training set and test set"
      ],
      "metadata": {
        "id": "OTXgjrjljZ3s"
      }
    },
    {
      "cell_type": "code",
      "source": [
        "X_train = df.iloc[:800,:-1 ] # better use X instead of x --> X vector of features\n",
        "X_test = df.iloc[800:,:-1 ] \n",
        "y_train = df.iloc[:800,-1: ]\n",
        "y_test = df.iloc[800:,-1: ] "
      ],
      "metadata": {
        "id": "TfLDVBOhh4eP"
      },
      "execution_count": null,
      "outputs": []
    },
    {
      "cell_type": "code",
      "source": [
        "X_test"
      ],
      "metadata": {
        "colab": {
          "base_uri": "https://localhost:8080/",
          "height": 424
        },
        "id": "ZHpynMmL3C7U",
        "outputId": "c9d1b415-3075-45fd-90a3-32c53ddd27a5"
      },
      "execution_count": null,
      "outputs": [
        {
          "output_type": "execute_result",
          "data": {
            "text/plain": [
              "      cement   slag    ash  water  superplastic  coarseagg  fineagg  age\n",
              "200    166.8  250.2    0.0  203.5           0.0      975.6    692.6   28\n",
              "201    159.8  250.0    0.0  168.4          12.2     1049.3    688.2   28\n",
              "202    397.0    0.0    0.0  185.7           0.0     1040.6    734.3    7\n",
              "203    231.8    0.0  121.6  174.0           6.7     1056.4    778.5  100\n",
              "204    164.6    0.0  150.4  181.6          11.7     1023.3    728.9   28\n",
              "...      ...    ...    ...    ...           ...        ...      ...  ...\n",
              "1025   135.0    0.0  166.0  180.0          10.0      961.0    805.0   28\n",
              "1026   531.3    0.0    0.0  141.8          28.2      852.1    893.7    3\n",
              "1027   276.4  116.0   90.3  179.6           8.9      870.1    768.3   28\n",
              "1028   342.0   38.0    0.0  228.0           0.0      932.0    670.0  270\n",
              "1029   540.0    0.0    0.0  173.0           0.0     1125.0    613.0    7\n",
              "\n",
              "[830 rows x 8 columns]"
            ],
            "text/html": [
              "\n",
              "  <div id=\"df-4e854072-b1ff-413f-bd54-df2a1d04e2bf\">\n",
              "    <div class=\"colab-df-container\">\n",
              "      <div>\n",
              "<style scoped>\n",
              "    .dataframe tbody tr th:only-of-type {\n",
              "        vertical-align: middle;\n",
              "    }\n",
              "\n",
              "    .dataframe tbody tr th {\n",
              "        vertical-align: top;\n",
              "    }\n",
              "\n",
              "    .dataframe thead th {\n",
              "        text-align: right;\n",
              "    }\n",
              "</style>\n",
              "<table border=\"1\" class=\"dataframe\">\n",
              "  <thead>\n",
              "    <tr style=\"text-align: right;\">\n",
              "      <th></th>\n",
              "      <th>cement</th>\n",
              "      <th>slag</th>\n",
              "      <th>ash</th>\n",
              "      <th>water</th>\n",
              "      <th>superplastic</th>\n",
              "      <th>coarseagg</th>\n",
              "      <th>fineagg</th>\n",
              "      <th>age</th>\n",
              "    </tr>\n",
              "  </thead>\n",
              "  <tbody>\n",
              "    <tr>\n",
              "      <th>200</th>\n",
              "      <td>166.8</td>\n",
              "      <td>250.2</td>\n",
              "      <td>0.0</td>\n",
              "      <td>203.5</td>\n",
              "      <td>0.0</td>\n",
              "      <td>975.6</td>\n",
              "      <td>692.6</td>\n",
              "      <td>28</td>\n",
              "    </tr>\n",
              "    <tr>\n",
              "      <th>201</th>\n",
              "      <td>159.8</td>\n",
              "      <td>250.0</td>\n",
              "      <td>0.0</td>\n",
              "      <td>168.4</td>\n",
              "      <td>12.2</td>\n",
              "      <td>1049.3</td>\n",
              "      <td>688.2</td>\n",
              "      <td>28</td>\n",
              "    </tr>\n",
              "    <tr>\n",
              "      <th>202</th>\n",
              "      <td>397.0</td>\n",
              "      <td>0.0</td>\n",
              "      <td>0.0</td>\n",
              "      <td>185.7</td>\n",
              "      <td>0.0</td>\n",
              "      <td>1040.6</td>\n",
              "      <td>734.3</td>\n",
              "      <td>7</td>\n",
              "    </tr>\n",
              "    <tr>\n",
              "      <th>203</th>\n",
              "      <td>231.8</td>\n",
              "      <td>0.0</td>\n",
              "      <td>121.6</td>\n",
              "      <td>174.0</td>\n",
              "      <td>6.7</td>\n",
              "      <td>1056.4</td>\n",
              "      <td>778.5</td>\n",
              "      <td>100</td>\n",
              "    </tr>\n",
              "    <tr>\n",
              "      <th>204</th>\n",
              "      <td>164.6</td>\n",
              "      <td>0.0</td>\n",
              "      <td>150.4</td>\n",
              "      <td>181.6</td>\n",
              "      <td>11.7</td>\n",
              "      <td>1023.3</td>\n",
              "      <td>728.9</td>\n",
              "      <td>28</td>\n",
              "    </tr>\n",
              "    <tr>\n",
              "      <th>...</th>\n",
              "      <td>...</td>\n",
              "      <td>...</td>\n",
              "      <td>...</td>\n",
              "      <td>...</td>\n",
              "      <td>...</td>\n",
              "      <td>...</td>\n",
              "      <td>...</td>\n",
              "      <td>...</td>\n",
              "    </tr>\n",
              "    <tr>\n",
              "      <th>1025</th>\n",
              "      <td>135.0</td>\n",
              "      <td>0.0</td>\n",
              "      <td>166.0</td>\n",
              "      <td>180.0</td>\n",
              "      <td>10.0</td>\n",
              "      <td>961.0</td>\n",
              "      <td>805.0</td>\n",
              "      <td>28</td>\n",
              "    </tr>\n",
              "    <tr>\n",
              "      <th>1026</th>\n",
              "      <td>531.3</td>\n",
              "      <td>0.0</td>\n",
              "      <td>0.0</td>\n",
              "      <td>141.8</td>\n",
              "      <td>28.2</td>\n",
              "      <td>852.1</td>\n",
              "      <td>893.7</td>\n",
              "      <td>3</td>\n",
              "    </tr>\n",
              "    <tr>\n",
              "      <th>1027</th>\n",
              "      <td>276.4</td>\n",
              "      <td>116.0</td>\n",
              "      <td>90.3</td>\n",
              "      <td>179.6</td>\n",
              "      <td>8.9</td>\n",
              "      <td>870.1</td>\n",
              "      <td>768.3</td>\n",
              "      <td>28</td>\n",
              "    </tr>\n",
              "    <tr>\n",
              "      <th>1028</th>\n",
              "      <td>342.0</td>\n",
              "      <td>38.0</td>\n",
              "      <td>0.0</td>\n",
              "      <td>228.0</td>\n",
              "      <td>0.0</td>\n",
              "      <td>932.0</td>\n",
              "      <td>670.0</td>\n",
              "      <td>270</td>\n",
              "    </tr>\n",
              "    <tr>\n",
              "      <th>1029</th>\n",
              "      <td>540.0</td>\n",
              "      <td>0.0</td>\n",
              "      <td>0.0</td>\n",
              "      <td>173.0</td>\n",
              "      <td>0.0</td>\n",
              "      <td>1125.0</td>\n",
              "      <td>613.0</td>\n",
              "      <td>7</td>\n",
              "    </tr>\n",
              "  </tbody>\n",
              "</table>\n",
              "<p>830 rows × 8 columns</p>\n",
              "</div>\n",
              "      <button class=\"colab-df-convert\" onclick=\"convertToInteractive('df-4e854072-b1ff-413f-bd54-df2a1d04e2bf')\"\n",
              "              title=\"Convert this dataframe to an interactive table.\"\n",
              "              style=\"display:none;\">\n",
              "        \n",
              "  <svg xmlns=\"http://www.w3.org/2000/svg\" height=\"24px\"viewBox=\"0 0 24 24\"\n",
              "       width=\"24px\">\n",
              "    <path d=\"M0 0h24v24H0V0z\" fill=\"none\"/>\n",
              "    <path d=\"M18.56 5.44l.94 2.06.94-2.06 2.06-.94-2.06-.94-.94-2.06-.94 2.06-2.06.94zm-11 1L8.5 8.5l.94-2.06 2.06-.94-2.06-.94L8.5 2.5l-.94 2.06-2.06.94zm10 10l.94 2.06.94-2.06 2.06-.94-2.06-.94-.94-2.06-.94 2.06-2.06.94z\"/><path d=\"M17.41 7.96l-1.37-1.37c-.4-.4-.92-.59-1.43-.59-.52 0-1.04.2-1.43.59L10.3 9.45l-7.72 7.72c-.78.78-.78 2.05 0 2.83L4 21.41c.39.39.9.59 1.41.59.51 0 1.02-.2 1.41-.59l7.78-7.78 2.81-2.81c.8-.78.8-2.07 0-2.86zM5.41 20L4 18.59l7.72-7.72 1.47 1.35L5.41 20z\"/>\n",
              "  </svg>\n",
              "      </button>\n",
              "      \n",
              "  <style>\n",
              "    .colab-df-container {\n",
              "      display:flex;\n",
              "      flex-wrap:wrap;\n",
              "      gap: 12px;\n",
              "    }\n",
              "\n",
              "    .colab-df-convert {\n",
              "      background-color: #E8F0FE;\n",
              "      border: none;\n",
              "      border-radius: 50%;\n",
              "      cursor: pointer;\n",
              "      display: none;\n",
              "      fill: #1967D2;\n",
              "      height: 32px;\n",
              "      padding: 0 0 0 0;\n",
              "      width: 32px;\n",
              "    }\n",
              "\n",
              "    .colab-df-convert:hover {\n",
              "      background-color: #E2EBFA;\n",
              "      box-shadow: 0px 1px 2px rgba(60, 64, 67, 0.3), 0px 1px 3px 1px rgba(60, 64, 67, 0.15);\n",
              "      fill: #174EA6;\n",
              "    }\n",
              "\n",
              "    [theme=dark] .colab-df-convert {\n",
              "      background-color: #3B4455;\n",
              "      fill: #D2E3FC;\n",
              "    }\n",
              "\n",
              "    [theme=dark] .colab-df-convert:hover {\n",
              "      background-color: #434B5C;\n",
              "      box-shadow: 0px 1px 3px 1px rgba(0, 0, 0, 0.15);\n",
              "      filter: drop-shadow(0px 1px 2px rgba(0, 0, 0, 0.3));\n",
              "      fill: #FFFFFF;\n",
              "    }\n",
              "  </style>\n",
              "\n",
              "      <script>\n",
              "        const buttonEl =\n",
              "          document.querySelector('#df-4e854072-b1ff-413f-bd54-df2a1d04e2bf button.colab-df-convert');\n",
              "        buttonEl.style.display =\n",
              "          google.colab.kernel.accessAllowed ? 'block' : 'none';\n",
              "\n",
              "        async function convertToInteractive(key) {\n",
              "          const element = document.querySelector('#df-4e854072-b1ff-413f-bd54-df2a1d04e2bf');\n",
              "          const dataTable =\n",
              "            await google.colab.kernel.invokeFunction('convertToInteractive',\n",
              "                                                     [key], {});\n",
              "          if (!dataTable) return;\n",
              "\n",
              "          const docLinkHtml = 'Like what you see? Visit the ' +\n",
              "            '<a target=\"_blank\" href=https://colab.research.google.com/notebooks/data_table.ipynb>data table notebook</a>'\n",
              "            + ' to learn more about interactive tables.';\n",
              "          element.innerHTML = '';\n",
              "          dataTable['output_type'] = 'display_data';\n",
              "          await google.colab.output.renderOutput(dataTable, element);\n",
              "          const docLink = document.createElement('div');\n",
              "          docLink.innerHTML = docLinkHtml;\n",
              "          element.appendChild(docLink);\n",
              "        }\n",
              "      </script>\n",
              "    </div>\n",
              "  </div>\n",
              "  "
            ]
          },
          "metadata": {},
          "execution_count": 36
        }
      ]
    },
    {
      "cell_type": "code",
      "source": [
        "y_test"
      ],
      "metadata": {
        "colab": {
          "base_uri": "https://localhost:8080/",
          "height": 424
        },
        "id": "sDU7KmPh2-ZF",
        "outputId": "10445141-73eb-4da2-fbd2-ad8643fa8563"
      },
      "execution_count": null,
      "outputs": [
        {
          "output_type": "execute_result",
          "data": {
            "text/plain": [
              "     strength\n",
              "0       29.89\n",
              "1       23.51\n",
              "2       29.22\n",
              "3       45.85\n",
              "4       18.29\n",
              "..        ...\n",
              "195     22.44\n",
              "196     26.77\n",
              "197     68.10\n",
              "198     52.91\n",
              "199     32.33\n",
              "\n",
              "[200 rows x 1 columns]"
            ],
            "text/html": [
              "\n",
              "  <div id=\"df-42bcabcc-3870-46bc-9feb-99abfb4d3ec1\">\n",
              "    <div class=\"colab-df-container\">\n",
              "      <div>\n",
              "<style scoped>\n",
              "    .dataframe tbody tr th:only-of-type {\n",
              "        vertical-align: middle;\n",
              "    }\n",
              "\n",
              "    .dataframe tbody tr th {\n",
              "        vertical-align: top;\n",
              "    }\n",
              "\n",
              "    .dataframe thead th {\n",
              "        text-align: right;\n",
              "    }\n",
              "</style>\n",
              "<table border=\"1\" class=\"dataframe\">\n",
              "  <thead>\n",
              "    <tr style=\"text-align: right;\">\n",
              "      <th></th>\n",
              "      <th>strength</th>\n",
              "    </tr>\n",
              "  </thead>\n",
              "  <tbody>\n",
              "    <tr>\n",
              "      <th>0</th>\n",
              "      <td>29.89</td>\n",
              "    </tr>\n",
              "    <tr>\n",
              "      <th>1</th>\n",
              "      <td>23.51</td>\n",
              "    </tr>\n",
              "    <tr>\n",
              "      <th>2</th>\n",
              "      <td>29.22</td>\n",
              "    </tr>\n",
              "    <tr>\n",
              "      <th>3</th>\n",
              "      <td>45.85</td>\n",
              "    </tr>\n",
              "    <tr>\n",
              "      <th>4</th>\n",
              "      <td>18.29</td>\n",
              "    </tr>\n",
              "    <tr>\n",
              "      <th>...</th>\n",
              "      <td>...</td>\n",
              "    </tr>\n",
              "    <tr>\n",
              "      <th>195</th>\n",
              "      <td>22.44</td>\n",
              "    </tr>\n",
              "    <tr>\n",
              "      <th>196</th>\n",
              "      <td>26.77</td>\n",
              "    </tr>\n",
              "    <tr>\n",
              "      <th>197</th>\n",
              "      <td>68.10</td>\n",
              "    </tr>\n",
              "    <tr>\n",
              "      <th>198</th>\n",
              "      <td>52.91</td>\n",
              "    </tr>\n",
              "    <tr>\n",
              "      <th>199</th>\n",
              "      <td>32.33</td>\n",
              "    </tr>\n",
              "  </tbody>\n",
              "</table>\n",
              "<p>200 rows × 1 columns</p>\n",
              "</div>\n",
              "      <button class=\"colab-df-convert\" onclick=\"convertToInteractive('df-42bcabcc-3870-46bc-9feb-99abfb4d3ec1')\"\n",
              "              title=\"Convert this dataframe to an interactive table.\"\n",
              "              style=\"display:none;\">\n",
              "        \n",
              "  <svg xmlns=\"http://www.w3.org/2000/svg\" height=\"24px\"viewBox=\"0 0 24 24\"\n",
              "       width=\"24px\">\n",
              "    <path d=\"M0 0h24v24H0V0z\" fill=\"none\"/>\n",
              "    <path d=\"M18.56 5.44l.94 2.06.94-2.06 2.06-.94-2.06-.94-.94-2.06-.94 2.06-2.06.94zm-11 1L8.5 8.5l.94-2.06 2.06-.94-2.06-.94L8.5 2.5l-.94 2.06-2.06.94zm10 10l.94 2.06.94-2.06 2.06-.94-2.06-.94-.94-2.06-.94 2.06-2.06.94z\"/><path d=\"M17.41 7.96l-1.37-1.37c-.4-.4-.92-.59-1.43-.59-.52 0-1.04.2-1.43.59L10.3 9.45l-7.72 7.72c-.78.78-.78 2.05 0 2.83L4 21.41c.39.39.9.59 1.41.59.51 0 1.02-.2 1.41-.59l7.78-7.78 2.81-2.81c.8-.78.8-2.07 0-2.86zM5.41 20L4 18.59l7.72-7.72 1.47 1.35L5.41 20z\"/>\n",
              "  </svg>\n",
              "      </button>\n",
              "      \n",
              "  <style>\n",
              "    .colab-df-container {\n",
              "      display:flex;\n",
              "      flex-wrap:wrap;\n",
              "      gap: 12px;\n",
              "    }\n",
              "\n",
              "    .colab-df-convert {\n",
              "      background-color: #E8F0FE;\n",
              "      border: none;\n",
              "      border-radius: 50%;\n",
              "      cursor: pointer;\n",
              "      display: none;\n",
              "      fill: #1967D2;\n",
              "      height: 32px;\n",
              "      padding: 0 0 0 0;\n",
              "      width: 32px;\n",
              "    }\n",
              "\n",
              "    .colab-df-convert:hover {\n",
              "      background-color: #E2EBFA;\n",
              "      box-shadow: 0px 1px 2px rgba(60, 64, 67, 0.3), 0px 1px 3px 1px rgba(60, 64, 67, 0.15);\n",
              "      fill: #174EA6;\n",
              "    }\n",
              "\n",
              "    [theme=dark] .colab-df-convert {\n",
              "      background-color: #3B4455;\n",
              "      fill: #D2E3FC;\n",
              "    }\n",
              "\n",
              "    [theme=dark] .colab-df-convert:hover {\n",
              "      background-color: #434B5C;\n",
              "      box-shadow: 0px 1px 3px 1px rgba(0, 0, 0, 0.15);\n",
              "      filter: drop-shadow(0px 1px 2px rgba(0, 0, 0, 0.3));\n",
              "      fill: #FFFFFF;\n",
              "    }\n",
              "  </style>\n",
              "\n",
              "      <script>\n",
              "        const buttonEl =\n",
              "          document.querySelector('#df-42bcabcc-3870-46bc-9feb-99abfb4d3ec1 button.colab-df-convert');\n",
              "        buttonEl.style.display =\n",
              "          google.colab.kernel.accessAllowed ? 'block' : 'none';\n",
              "\n",
              "        async function convertToInteractive(key) {\n",
              "          const element = document.querySelector('#df-42bcabcc-3870-46bc-9feb-99abfb4d3ec1');\n",
              "          const dataTable =\n",
              "            await google.colab.kernel.invokeFunction('convertToInteractive',\n",
              "                                                     [key], {});\n",
              "          if (!dataTable) return;\n",
              "\n",
              "          const docLinkHtml = 'Like what you see? Visit the ' +\n",
              "            '<a target=\"_blank\" href=https://colab.research.google.com/notebooks/data_table.ipynb>data table notebook</a>'\n",
              "            + ' to learn more about interactive tables.';\n",
              "          element.innerHTML = '';\n",
              "          dataTable['output_type'] = 'display_data';\n",
              "          await google.colab.output.renderOutput(dataTable, element);\n",
              "          const docLink = document.createElement('div');\n",
              "          docLink.innerHTML = docLinkHtml;\n",
              "          element.appendChild(docLink);\n",
              "        }\n",
              "      </script>\n",
              "    </div>\n",
              "  </div>\n",
              "  "
            ]
          },
          "metadata": {},
          "execution_count": 27
        }
      ]
    },
    {
      "cell_type": "markdown",
      "source": [
        "#### build MLP Regressor "
      ],
      "metadata": {
        "id": "y5mW0Rjvklyz"
      }
    },
    {
      "cell_type": "code",
      "source": [
        "reg = MLPRegressor()\n",
        "reg.fit(X_train,y_train)"
      ],
      "metadata": {
        "colab": {
          "base_uri": "https://localhost:8080/"
        },
        "id": "M6K1DyLw3FYu",
        "outputId": "c8b8c76c-3a83-4741-c36b-4df36f1b55ea"
      },
      "execution_count": null,
      "outputs": [
        {
          "output_type": "stream",
          "name": "stderr",
          "text": [
            "/usr/local/lib/python3.7/dist-packages/sklearn/neural_network/_multilayer_perceptron.py:1599: DataConversionWarning: A column-vector y was passed when a 1d array was expected. Please change the shape of y to (n_samples, ), for example using ravel().\n",
            "  y = column_or_1d(y, warn=True)\n",
            "/usr/local/lib/python3.7/dist-packages/sklearn/neural_network/_multilayer_perceptron.py:696: ConvergenceWarning: Stochastic Optimizer: Maximum iterations (200) reached and the optimization hasn't converged yet.\n",
            "  ConvergenceWarning,\n"
          ]
        },
        {
          "output_type": "execute_result",
          "data": {
            "text/plain": [
              "MLPRegressor()"
            ]
          },
          "metadata": {},
          "execution_count": 166
        }
      ]
    },
    {
      "cell_type": "markdown",
      "source": [
        "##### two problem here \n",
        "1. Maximum iterations (200) reached and the optimization hasn't converged yet. > increase max_iteration\n",
        "\n",
        "2. A column-vector y was passed when a 1d array was expected. Please change the shape of y to (n_samples, ),"
      ],
      "metadata": {
        "id": "pjxqPaCz3gs6"
      }
    },
    {
      "cell_type": "code",
      "source": [
        "y_train = np.array(y_train).ravel()\n",
        "y_train"
      ],
      "metadata": {
        "colab": {
          "base_uri": "https://localhost:8080/"
        },
        "id": "tijVV7yh38PS",
        "outputId": "28f6f553-9779-44e5-eebc-0fc58e10b5b9"
      },
      "execution_count": null,
      "outputs": [
        {
          "output_type": "execute_result",
          "data": {
            "text/plain": [
              "array([29.89, 23.51, 29.22, 45.85, 18.29, 21.86, 15.75, 36.64, 21.65,\n",
              "       28.99, 36.35,  6.94, 27.92, 26.26, 23.89, 49.97, 30.08, 44.86,\n",
              "       15.04, 25.1 , 13.36, 21.92, 20.42, 33.3 , 31.74, 45.3 , 49.19,\n",
              "       65.2 , 21.54, 33.8 , 32.04, 39.29, 23.74, 44.52, 37.91, 39.16,\n",
              "       16.88, 47.71, 17.54, 41.41, 24.28, 60.32, 37.42, 23.52, 59.2 ,\n",
              "       61.46, 17.2 , 40.68, 49.9 , 33.4 , 49.25, 39.  , 37.27, 39.3 ,\n",
              "       38.22, 20.28, 48.67, 34.57, 35.23, 42.35, 20.73, 10.38, 37.34,\n",
              "       54.9 , 41.05, 29.98, 28.63, 44.3 , 52.04, 49.8 , 11.41, 50.46,\n",
              "       28.1 , 26.92, 45.08, 36.94, 24.13, 19.42, 27.42, 39.15, 28.47,\n",
              "       31.02, 31.25, 43.06, 12.84, 32.24, 67.57, 26.31, 35.3 , 23.8 ,\n",
              "       14.59, 55.9 , 21.5 , 41.84,  4.9 , 57.23, 71.3 , 33.4 , 33.4 ,\n",
              "       36.25, 32.96, 61.89, 36.8 , 53.1 , 11.98, 23.85,  9.74, 14.5 ,\n",
              "       12.18, 38.63, 55.65, 12.05, 27.68, 31.35, 18.13, 12.79, 37.36,\n",
              "       39.4 , 29.45, 33.36, 16.26, 39.64, 23.79, 45.94, 61.07, 31.03,\n",
              "       33.19, 21.86, 74.7 , 62.5 , 27.77, 31.88,  9.99, 25.08, 13.22,\n",
              "       56.34, 43.57, 46.68,  6.88, 30.65, 33.72, 30.39, 37.72, 42.8 ,\n",
              "       26.74, 32.53, 33.21, 55.51, 46.68, 41.15, 29.59, 32.84, 29.59,\n",
              "       33.01, 11.47, 23.84, 56.4 , 44.3 , 22.35, 55.26, 31.45, 67.7 ,\n",
              "       18.13, 60.28, 33.4 , 17.24, 44.42, 37.68, 35.34, 52.42, 57.03,\n",
              "       48.59, 12.47, 44.28, 48.85, 17.58, 10.03, 40.6 , 43.38, 14.2 ,\n",
              "       24.48, 59.49, 63.4 ,  7.68,  9.85, 22.53, 32.88, 13.71, 60.95,\n",
              "       44.87, 77.3 , 61.99, 81.75, 30.88, 23.79, 22.44, 26.77, 68.1 ,\n",
              "       52.91, 32.33, 33.95, 39.46, 25.45, 45.84, 18.03, 24.29, 29.07,\n",
              "       46.93, 59.89, 39.49, 22.93, 39.  , 52.2 , 19.52, 37.36, 26.97,\n",
              "       66.42, 11.96, 14.7 , 13.62, 26.94, 23.64, 35.34, 24.  , 25.75,\n",
              "       36.8 , 51.72, 29.87, 35.76, 64.9 ,  2.33, 18.02, 69.3 , 27.83,\n",
              "       50.51,  6.47, 18.  ,  9.73, 24.58, 71.7 , 41.05, 41.54, 26.2 ,\n",
              "       52.43, 48.79, 79.3 ,  3.32, 40.15, 12.25, 29.23, 40.23, 34.74,\n",
              "       26.86, 31.35, 33.27, 20.77, 67.11, 79.4 , 42.29, 37.8 , 49.77,\n",
              "       17.24, 51.73, 28.63, 65.91, 15.62, 61.23, 32.72, 13.66, 36.97,\n",
              "       55.16, 12.46, 40.86, 74.5 , 33.76, 55.64, 37.91, 43.58, 33.4 ,\n",
              "       66.  , 41.64, 43.94, 37.42, 42.23, 29.72, 51.86, 64.9 , 12.37,\n",
              "       26.23, 39.38, 17.54, 52.91, 70.7 , 56.83, 26.91, 17.6 , 37.4 ,\n",
              "       42.13, 33.4 ,  9.13, 37.92, 51.04, 52.12, 45.9 , 26.86, 22.44,\n",
              "       38.07, 55.55, 34.67, 15.42, 42.22, 19.77, 24.1 , 74.17, 14.8 ,\n",
              "       13.46, 30.22, 22.14, 51.06, 31.84, 64.02, 31.54, 34.4 , 44.7 ,\n",
              "       17.96, 40.39, 25.62, 32.66, 16.89, 47.81, 31.81, 33.42,  7.32,\n",
              "       19.69, 28.3 , 31.35, 52.96, 76.8 , 29.87, 47.78, 33.73, 45.37,\n",
              "       42.03, 32.63, 37.27, 46.24, 53.52, 50.73, 51.26, 40.86, 32.1 ,\n",
              "       17.37, 37.81, 40.93,  7.51, 52.5 , 29.07,  8.06, 24.92, 42.62,\n",
              "       23.69, 33.7 , 11.17, 46.25, 54.32, 26.32, 42.7 , 17.34, 19.42,\n",
              "       33.69, 48.7 , 31.64, 35.85, 50.7 , 25.97,  4.83, 35.17, 32.07,\n",
              "        9.74, 43.89, 28.02, 25.72,  9.01, 65.91, 21.95, 43.38, 47.13,\n",
              "       35.96, 15.69, 32.76, 25.46, 10.73, 49.2 , 56.14, 23.08, 56.62,\n",
              "       55.5 , 30.12, 39.42, 33.09, 35.3 , 39.36, 37.43, 45.3 , 15.52,\n",
              "       41.68, 31.35,  4.57, 54.6 , 24.05, 31.42, 58.61, 65.7 , 10.76,\n",
              "       53.52, 57.22, 41.68, 17.28, 57.6 , 54.28, 35.3 , 13.29, 13.82,\n",
              "       44.52, 27.74, 74.19, 42.92, 17.22, 51.33,  6.9 , 15.82, 61.09,\n",
              "       24.24, 60.29, 39.38, 48.4 , 53.39, 23.84, 17.84,  8.2 , 38.77,\n",
              "       37.44, 35.75, 31.72, 33.04, 40.56, 55.02, 45.7 , 41.24, 43.57,\n",
              "       37.26, 64.9 , 74.99, 56.14, 21.18, 38.  , 50.53, 25.37, 43.7 ,\n",
              "       28.99, 32.72, 44.33, 39.23, 77.3 , 32.05, 43.7 , 39.3 , 33.72,\n",
              "       19.69, 71.99, 12.45, 26.92, 38.8 , 66.78, 40.87, 11.47, 73.3 ,\n",
              "       41.54, 21.06, 50.94, 40.06, 42.14, 65.2 , 25.12, 39.  , 27.87,\n",
              "       37.43, 39.84, 44.14, 64.3 , 33.49, 76.24, 10.54, 79.3 , 30.45,\n",
              "       13.54, 46.23, 36.99, 31.97, 52.82, 49.99, 31.65, 12.64, 22.9 ,\n",
              "       29.  , 24.  , 78.8 , 33.94, 39.7 ,  8.37, 25.2 , 25.18, 38.46,\n",
              "       15.09, 51.96, 15.44, 19.54, 64.3 , 33.69, 40.66, 24.39, 35.87,\n",
              "       51.02, 14.54, 58.52, 71.3 , 26.06, 65.2 , 32.4 , 68.75, 33.12,\n",
              "       19.2 , 72.99, 50.77, 48.99, 19.93, 24.43, 47.97, 46.9 , 50.95,\n",
              "       58.78, 29.16,  6.81, 46.2 , 18.03, 72.1 , 37.43, 15.03, 19.77,\n",
              "       43.73,  6.28, 49.77, 31.97, 47.1 , 27.66, 27.94, 47.22, 32.9 ,\n",
              "       13.33, 47.4 , 25.56, 24.28, 42.42, 25.57, 39.7 , 43.5 , 26.14,\n",
              "       18.28, 13.12, 72.3 , 50.66, 33.66, 44.03, 23.25, 55.25, 66.7 ,\n",
              "       55.9 , 60.29, 40.57, 30.57, 44.21, 61.92, 42.55, 32.96, 60.2 ,\n",
              "       56.06, 36.56,  7.75, 33.05, 32.25, 45.37, 25.18, 10.34, 74.36,\n",
              "       36.45, 13.52, 28.94, 24.9 , 53.72, 13.2 , 11.36, 38.89, 15.42,\n",
              "       21.82, 77.3 , 32.4 , 14.14, 33.54, 69.84, 38.6 , 40.86, 56.1 ,\n",
              "       19.11, 30.23, 61.86, 59.59, 55.2 , 14.84, 38.33, 27.04, 39.78,\n",
              "       15.52, 40.76, 53.3 , 42.13, 47.74, 43.25, 25.51, 18.91, 31.18,\n",
              "       29.93, 35.36, 54.38, 11.85, 52.3 , 57.21, 14.2 , 23.52,  8.  ,\n",
              "       39.3 , 54.1 , 14.31, 41.72, 40.71, 29.55, 18.75, 33.8 , 31.18,\n",
              "       39.42, 24.4 ,  8.49, 26.4 , 38.6 , 66.95, 55.55, 12.54, 39.94,\n",
              "       23.52, 55.94, 12.73, 39.27, 59.76, 24.85, 36.84, 11.39, 28.63,\n",
              "       27.92,  9.31, 22.72, 10.54, 23.14, 11.65, 31.9 ,  7.84, 25.22,\n",
              "       20.08, 46.8 , 39.59, 13.4 , 15.05, 36.35, 35.31, 15.07, 12.18,\n",
              "       29.41, 24.45, 26.15, 48.15, 47.03, 33.96, 33.61, 32.82, 15.57,\n",
              "       16.28, 38.5 ,  9.87, 34.49, 37.92, 11.48, 68.3 , 24.54,  9.62,\n",
              "       36.44, 14.99,  9.69, 10.35, 26.05, 37.23, 25.18, 53.77, 39.06,\n",
              "       43.8 , 42.64, 53.69, 34.29, 33.42, 27.34,  7.4 , 21.16, 21.78,\n",
              "       43.7 , 51.04, 30.85, 53.46, 22.49, 44.09, 33.  , 10.22, 13.09,\n",
              "       39.32, 50.08,  9.45, 79.99, 79.3 , 52.2 , 14.6 , 20.59, 37.81,\n",
              "       71.3 , 25.73, 35.23, 69.66, 18.2 , 15.57, 54.9 , 48.97, 56.81,\n",
              "       19.35, 18.42, 21.48, 47.28, 21.07, 50.6 , 38.02, 29.79, 42.13,\n",
              "       15.61, 29.65, 43.39, 21.91, 48.28, 43.58, 22.75, 33.8 , 13.46,\n",
              "       19.99, 79.3 , 41.05, 36.96, 39.05, 33.06, 31.12, 20.92, 30.14,\n",
              "       44.4 , 24.5 , 71.62, 36.3 , 38.46, 35.86, 40.15, 31.42, 20.73,\n",
              "        4.78, 46.23, 33.56, 23.35, 32.92, 41.37, 32.85, 35.08, 38.2 ,\n",
              "       23.4 , 20.97, 12.18, 13.18, 19.01, 14.64, 11.58, 30.12])"
            ]
          },
          "metadata": {},
          "execution_count": 167
        }
      ]
    },
    {
      "cell_type": "code",
      "source": [
        "reg2 = MLPRegressor(hidden_layer_sizes=(5,2),solver = 'sgd', max_iter=2000,random_state=40)"
      ],
      "metadata": {
        "id": "VVySVLPv6dr4"
      },
      "execution_count": null,
      "outputs": []
    },
    {
      "cell_type": "code",
      "source": [
        "reg2.fit(X_train,y_train)   #2 hidden layer: 5nodes and 2 nodes"
      ],
      "metadata": {
        "colab": {
          "base_uri": "https://localhost:8080/"
        },
        "id": "AyavxQz34RDa",
        "outputId": "c663c1ba-64b1-4374-dac2-0c0945565337"
      },
      "execution_count": null,
      "outputs": [
        {
          "output_type": "execute_result",
          "data": {
            "text/plain": [
              "MLPRegressor(hidden_layer_sizes=(5, 2), max_iter=2000, random_state=40,\n",
              "             solver='sgd')"
            ]
          },
          "metadata": {},
          "execution_count": 169
        }
      ]
    },
    {
      "cell_type": "code",
      "source": [
        "X_test"
      ],
      "metadata": {
        "colab": {
          "base_uri": "https://localhost:8080/",
          "height": 424
        },
        "id": "LNrPYKpF9AUq",
        "outputId": "9d045722-6b42-40ec-86f6-29e3ec823aca"
      },
      "execution_count": null,
      "outputs": [
        {
          "output_type": "execute_result",
          "data": {
            "text/plain": [
              "      cement   slag    ash  water  superplastic  coarseagg  fineagg  age\n",
              "800    375.0    0.0    0.0  186.0           0.0     1038.0    758.0    7\n",
              "801    297.2    0.0  117.5  174.8           9.5     1022.8    753.5  100\n",
              "802    148.5  139.4  108.6  192.7           6.1      892.4    780.0   28\n",
              "803    272.8  105.1   81.8  209.7           9.0      904.0    679.7   28\n",
              "804    424.0   22.0  132.0  168.0           8.9      822.0    750.0    3\n",
              "...      ...    ...    ...    ...           ...        ...      ...  ...\n",
              "1025   135.0    0.0  166.0  180.0          10.0      961.0    805.0   28\n",
              "1026   531.3    0.0    0.0  141.8          28.2      852.1    893.7    3\n",
              "1027   276.4  116.0   90.3  179.6           8.9      870.1    768.3   28\n",
              "1028   342.0   38.0    0.0  228.0           0.0      932.0    670.0  270\n",
              "1029   540.0    0.0    0.0  173.0           0.0     1125.0    613.0    7\n",
              "\n",
              "[230 rows x 8 columns]"
            ],
            "text/html": [
              "\n",
              "  <div id=\"df-c98f662c-94ca-421c-852a-c713754f8823\">\n",
              "    <div class=\"colab-df-container\">\n",
              "      <div>\n",
              "<style scoped>\n",
              "    .dataframe tbody tr th:only-of-type {\n",
              "        vertical-align: middle;\n",
              "    }\n",
              "\n",
              "    .dataframe tbody tr th {\n",
              "        vertical-align: top;\n",
              "    }\n",
              "\n",
              "    .dataframe thead th {\n",
              "        text-align: right;\n",
              "    }\n",
              "</style>\n",
              "<table border=\"1\" class=\"dataframe\">\n",
              "  <thead>\n",
              "    <tr style=\"text-align: right;\">\n",
              "      <th></th>\n",
              "      <th>cement</th>\n",
              "      <th>slag</th>\n",
              "      <th>ash</th>\n",
              "      <th>water</th>\n",
              "      <th>superplastic</th>\n",
              "      <th>coarseagg</th>\n",
              "      <th>fineagg</th>\n",
              "      <th>age</th>\n",
              "    </tr>\n",
              "  </thead>\n",
              "  <tbody>\n",
              "    <tr>\n",
              "      <th>800</th>\n",
              "      <td>375.0</td>\n",
              "      <td>0.0</td>\n",
              "      <td>0.0</td>\n",
              "      <td>186.0</td>\n",
              "      <td>0.0</td>\n",
              "      <td>1038.0</td>\n",
              "      <td>758.0</td>\n",
              "      <td>7</td>\n",
              "    </tr>\n",
              "    <tr>\n",
              "      <th>801</th>\n",
              "      <td>297.2</td>\n",
              "      <td>0.0</td>\n",
              "      <td>117.5</td>\n",
              "      <td>174.8</td>\n",
              "      <td>9.5</td>\n",
              "      <td>1022.8</td>\n",
              "      <td>753.5</td>\n",
              "      <td>100</td>\n",
              "    </tr>\n",
              "    <tr>\n",
              "      <th>802</th>\n",
              "      <td>148.5</td>\n",
              "      <td>139.4</td>\n",
              "      <td>108.6</td>\n",
              "      <td>192.7</td>\n",
              "      <td>6.1</td>\n",
              "      <td>892.4</td>\n",
              "      <td>780.0</td>\n",
              "      <td>28</td>\n",
              "    </tr>\n",
              "    <tr>\n",
              "      <th>803</th>\n",
              "      <td>272.8</td>\n",
              "      <td>105.1</td>\n",
              "      <td>81.8</td>\n",
              "      <td>209.7</td>\n",
              "      <td>9.0</td>\n",
              "      <td>904.0</td>\n",
              "      <td>679.7</td>\n",
              "      <td>28</td>\n",
              "    </tr>\n",
              "    <tr>\n",
              "      <th>804</th>\n",
              "      <td>424.0</td>\n",
              "      <td>22.0</td>\n",
              "      <td>132.0</td>\n",
              "      <td>168.0</td>\n",
              "      <td>8.9</td>\n",
              "      <td>822.0</td>\n",
              "      <td>750.0</td>\n",
              "      <td>3</td>\n",
              "    </tr>\n",
              "    <tr>\n",
              "      <th>...</th>\n",
              "      <td>...</td>\n",
              "      <td>...</td>\n",
              "      <td>...</td>\n",
              "      <td>...</td>\n",
              "      <td>...</td>\n",
              "      <td>...</td>\n",
              "      <td>...</td>\n",
              "      <td>...</td>\n",
              "    </tr>\n",
              "    <tr>\n",
              "      <th>1025</th>\n",
              "      <td>135.0</td>\n",
              "      <td>0.0</td>\n",
              "      <td>166.0</td>\n",
              "      <td>180.0</td>\n",
              "      <td>10.0</td>\n",
              "      <td>961.0</td>\n",
              "      <td>805.0</td>\n",
              "      <td>28</td>\n",
              "    </tr>\n",
              "    <tr>\n",
              "      <th>1026</th>\n",
              "      <td>531.3</td>\n",
              "      <td>0.0</td>\n",
              "      <td>0.0</td>\n",
              "      <td>141.8</td>\n",
              "      <td>28.2</td>\n",
              "      <td>852.1</td>\n",
              "      <td>893.7</td>\n",
              "      <td>3</td>\n",
              "    </tr>\n",
              "    <tr>\n",
              "      <th>1027</th>\n",
              "      <td>276.4</td>\n",
              "      <td>116.0</td>\n",
              "      <td>90.3</td>\n",
              "      <td>179.6</td>\n",
              "      <td>8.9</td>\n",
              "      <td>870.1</td>\n",
              "      <td>768.3</td>\n",
              "      <td>28</td>\n",
              "    </tr>\n",
              "    <tr>\n",
              "      <th>1028</th>\n",
              "      <td>342.0</td>\n",
              "      <td>38.0</td>\n",
              "      <td>0.0</td>\n",
              "      <td>228.0</td>\n",
              "      <td>0.0</td>\n",
              "      <td>932.0</td>\n",
              "      <td>670.0</td>\n",
              "      <td>270</td>\n",
              "    </tr>\n",
              "    <tr>\n",
              "      <th>1029</th>\n",
              "      <td>540.0</td>\n",
              "      <td>0.0</td>\n",
              "      <td>0.0</td>\n",
              "      <td>173.0</td>\n",
              "      <td>0.0</td>\n",
              "      <td>1125.0</td>\n",
              "      <td>613.0</td>\n",
              "      <td>7</td>\n",
              "    </tr>\n",
              "  </tbody>\n",
              "</table>\n",
              "<p>230 rows × 8 columns</p>\n",
              "</div>\n",
              "      <button class=\"colab-df-convert\" onclick=\"convertToInteractive('df-c98f662c-94ca-421c-852a-c713754f8823')\"\n",
              "              title=\"Convert this dataframe to an interactive table.\"\n",
              "              style=\"display:none;\">\n",
              "        \n",
              "  <svg xmlns=\"http://www.w3.org/2000/svg\" height=\"24px\"viewBox=\"0 0 24 24\"\n",
              "       width=\"24px\">\n",
              "    <path d=\"M0 0h24v24H0V0z\" fill=\"none\"/>\n",
              "    <path d=\"M18.56 5.44l.94 2.06.94-2.06 2.06-.94-2.06-.94-.94-2.06-.94 2.06-2.06.94zm-11 1L8.5 8.5l.94-2.06 2.06-.94-2.06-.94L8.5 2.5l-.94 2.06-2.06.94zm10 10l.94 2.06.94-2.06 2.06-.94-2.06-.94-.94-2.06-.94 2.06-2.06.94z\"/><path d=\"M17.41 7.96l-1.37-1.37c-.4-.4-.92-.59-1.43-.59-.52 0-1.04.2-1.43.59L10.3 9.45l-7.72 7.72c-.78.78-.78 2.05 0 2.83L4 21.41c.39.39.9.59 1.41.59.51 0 1.02-.2 1.41-.59l7.78-7.78 2.81-2.81c.8-.78.8-2.07 0-2.86zM5.41 20L4 18.59l7.72-7.72 1.47 1.35L5.41 20z\"/>\n",
              "  </svg>\n",
              "      </button>\n",
              "      \n",
              "  <style>\n",
              "    .colab-df-container {\n",
              "      display:flex;\n",
              "      flex-wrap:wrap;\n",
              "      gap: 12px;\n",
              "    }\n",
              "\n",
              "    .colab-df-convert {\n",
              "      background-color: #E8F0FE;\n",
              "      border: none;\n",
              "      border-radius: 50%;\n",
              "      cursor: pointer;\n",
              "      display: none;\n",
              "      fill: #1967D2;\n",
              "      height: 32px;\n",
              "      padding: 0 0 0 0;\n",
              "      width: 32px;\n",
              "    }\n",
              "\n",
              "    .colab-df-convert:hover {\n",
              "      background-color: #E2EBFA;\n",
              "      box-shadow: 0px 1px 2px rgba(60, 64, 67, 0.3), 0px 1px 3px 1px rgba(60, 64, 67, 0.15);\n",
              "      fill: #174EA6;\n",
              "    }\n",
              "\n",
              "    [theme=dark] .colab-df-convert {\n",
              "      background-color: #3B4455;\n",
              "      fill: #D2E3FC;\n",
              "    }\n",
              "\n",
              "    [theme=dark] .colab-df-convert:hover {\n",
              "      background-color: #434B5C;\n",
              "      box-shadow: 0px 1px 3px 1px rgba(0, 0, 0, 0.15);\n",
              "      filter: drop-shadow(0px 1px 2px rgba(0, 0, 0, 0.3));\n",
              "      fill: #FFFFFF;\n",
              "    }\n",
              "  </style>\n",
              "\n",
              "      <script>\n",
              "        const buttonEl =\n",
              "          document.querySelector('#df-c98f662c-94ca-421c-852a-c713754f8823 button.colab-df-convert');\n",
              "        buttonEl.style.display =\n",
              "          google.colab.kernel.accessAllowed ? 'block' : 'none';\n",
              "\n",
              "        async function convertToInteractive(key) {\n",
              "          const element = document.querySelector('#df-c98f662c-94ca-421c-852a-c713754f8823');\n",
              "          const dataTable =\n",
              "            await google.colab.kernel.invokeFunction('convertToInteractive',\n",
              "                                                     [key], {});\n",
              "          if (!dataTable) return;\n",
              "\n",
              "          const docLinkHtml = 'Like what you see? Visit the ' +\n",
              "            '<a target=\"_blank\" href=https://colab.research.google.com/notebooks/data_table.ipynb>data table notebook</a>'\n",
              "            + ' to learn more about interactive tables.';\n",
              "          element.innerHTML = '';\n",
              "          dataTable['output_type'] = 'display_data';\n",
              "          await google.colab.output.renderOutput(dataTable, element);\n",
              "          const docLink = document.createElement('div');\n",
              "          docLink.innerHTML = docLinkHtml;\n",
              "          element.appendChild(docLink);\n",
              "        }\n",
              "      </script>\n",
              "    </div>\n",
              "  </div>\n",
              "  "
            ]
          },
          "metadata": {},
          "execution_count": 170
        }
      ]
    },
    {
      "cell_type": "code",
      "source": [
        "y_prediction= reg2.predict(X_test)\n"
      ],
      "metadata": {
        "id": "C2SR5A0x7bWE"
      },
      "execution_count": null,
      "outputs": []
    },
    {
      "cell_type": "code",
      "source": [
        "y_prediction"
      ],
      "metadata": {
        "colab": {
          "base_uri": "https://localhost:8080/"
        },
        "id": "njjQsxxJ8p91",
        "outputId": "945fb10a-be62-4dcd-b8bc-a64151fa2bbd"
      },
      "execution_count": null,
      "outputs": [
        {
          "output_type": "execute_result",
          "data": {
            "text/plain": [
              "array([35.44654008, 35.44654008, 35.44654008, 35.44654008, 35.44654008,\n",
              "       35.44654008, 35.44654008, 35.44654008, 35.44654008, 35.44654008,\n",
              "       35.44654008, 35.44654008, 35.44654008, 35.44654008, 35.44654008,\n",
              "       35.44654008, 35.44654008, 35.44654008, 35.44654008, 35.44654008,\n",
              "       35.44654008, 35.44654008, 35.44654008, 35.44654008, 35.44654008,\n",
              "       35.44654008, 35.44654008, 35.44654008, 35.44654008, 35.44654008,\n",
              "       35.44654008, 35.44654008, 35.44654008, 35.44654008, 35.44654008,\n",
              "       35.44654008, 35.44654008, 35.44654008, 35.44654008, 35.44654008,\n",
              "       35.44654008, 35.44654008, 35.44654008, 35.44654008, 35.44654008,\n",
              "       35.44654008, 35.44654008, 35.44654008, 35.44654008, 35.44654008,\n",
              "       35.44654008, 35.44654008, 35.44654008, 35.44654008, 35.44654008,\n",
              "       35.44654008, 35.44654008, 35.44654008, 35.44654008, 35.44654008,\n",
              "       35.44654008, 35.44654008, 35.44654008, 35.44654008, 35.44654008,\n",
              "       35.44654008, 35.44654008, 35.44654008, 35.44654008, 35.44654008,\n",
              "       35.44654008, 35.44654008, 35.44654008, 35.44654008, 35.44654008,\n",
              "       35.44654008, 35.44654008, 35.44654008, 35.44654008, 35.44654008,\n",
              "       35.44654008, 35.44654008, 35.44654008, 35.44654008, 35.44654008,\n",
              "       35.44654008, 35.44654008, 35.44654008, 35.44654008, 35.44654008,\n",
              "       35.44654008, 35.44654008, 35.44654008, 35.44654008, 35.44654008,\n",
              "       35.44654008, 35.44654008, 35.44654008, 35.44654008, 35.44654008,\n",
              "       35.44654008, 35.44654008, 35.44654008, 35.44654008, 35.44654008,\n",
              "       35.44654008, 35.44654008, 35.44654008, 35.44654008, 35.44654008,\n",
              "       35.44654008, 35.44654008, 35.44654008, 35.44654008, 35.44654008,\n",
              "       35.44654008, 35.44654008, 35.44654008, 35.44654008, 35.44654008,\n",
              "       35.44654008, 35.44654008, 35.44654008, 35.44654008, 35.44654008,\n",
              "       35.44654008, 35.44654008, 35.44654008, 35.44654008, 35.44654008,\n",
              "       35.44654008, 35.44654008, 35.44654008, 35.44654008, 35.44654008,\n",
              "       35.44654008, 35.44654008, 35.44654008, 35.44654008, 35.44654008,\n",
              "       35.44654008, 35.44654008, 35.44654008, 35.44654008, 35.44654008,\n",
              "       35.44654008, 35.44654008, 35.44654008, 35.44654008, 35.44654008,\n",
              "       35.44654008, 35.44654008, 35.44654008, 35.44654008, 35.44654008,\n",
              "       35.44654008, 35.44654008, 35.44654008, 35.44654008, 35.44654008,\n",
              "       35.44654008, 35.44654008, 35.44654008, 35.44654008, 35.44654008,\n",
              "       35.44654008, 35.44654008, 35.44654008, 35.44654008, 35.44654008,\n",
              "       35.44654008, 35.44654008, 35.44654008, 35.44654008, 35.44654008,\n",
              "       35.44654008, 35.44654008, 35.44654008, 35.44654008, 35.44654008,\n",
              "       35.44654008, 35.44654008, 35.44654008, 35.44654008, 35.44654008,\n",
              "       35.44654008, 35.44654008, 35.44654008, 35.44654008, 35.44654008,\n",
              "       35.44654008, 35.44654008, 35.44654008, 35.44654008, 35.44654008,\n",
              "       35.44654008, 35.44654008, 35.44654008, 35.44654008, 35.44654008,\n",
              "       35.44654008, 35.44654008, 35.44654008, 35.44654008, 35.44654008,\n",
              "       35.44654008, 35.44654008, 35.44654008, 35.44654008, 35.44654008,\n",
              "       35.44654008, 35.44654008, 35.44654008, 35.44654008, 35.44654008,\n",
              "       35.44654008, 35.44654008, 35.44654008, 35.44654008, 35.44654008,\n",
              "       35.44654008, 35.44654008, 35.44654008, 35.44654008, 35.44654008,\n",
              "       35.44654008, 35.44654008, 35.44654008, 35.44654008, 35.44654008])"
            ]
          },
          "metadata": {},
          "execution_count": 172
        }
      ]
    },
    {
      "cell_type": "code",
      "source": [
        "len(y_prediction)"
      ],
      "metadata": {
        "colab": {
          "base_uri": "https://localhost:8080/"
        },
        "id": "1GVtIRdP8oLh",
        "outputId": "1228c6bf-790c-4256-8a67-fdfd035b4148"
      },
      "execution_count": null,
      "outputs": [
        {
          "output_type": "execute_result",
          "data": {
            "text/plain": [
              "230"
            ]
          },
          "metadata": {},
          "execution_count": 173
        }
      ]
    },
    {
      "cell_type": "markdown",
      "source": [
        "#### evaluate model\n"
      ],
      "metadata": {
        "id": "rnKb0a74lwhj"
      }
    },
    {
      "cell_type": "code",
      "source": [
        " mean_squared_error(y_true=y_test,y_pred=y_prediction)\n"
      ],
      "metadata": {
        "colab": {
          "base_uri": "https://localhost:8080/"
        },
        "id": "AbiKWbdKl0op",
        "outputId": "e41b0007-6a1a-4de9-bd28-00e12856c26d"
      },
      "execution_count": null,
      "outputs": [
        {
          "output_type": "execute_result",
          "data": {
            "text/plain": [
              "270.298500997026"
            ]
          },
          "metadata": {},
          "execution_count": 174
        }
      ]
    },
    {
      "cell_type": "markdown",
      "source": [
        "#### Normalization\n",
        "> normalize the features:\n",
        "in sklearn.preprocessing import StandardScaler \n",
        "> mean, variance\n",
        "\n",
        "> import accuracy \n"
      ],
      "metadata": {
        "id": "zQC4w2dni8gR"
      }
    },
    {
      "cell_type": "code",
      "source": [
        "scale= StandardScaler(with_mean=True,with_std= True)"
      ],
      "metadata": {
        "id": "QH5PuHCD-TO-"
      },
      "execution_count": null,
      "outputs": []
    },
    {
      "cell_type": "code",
      "source": [
        "X_train_n = scale.fit_transform(X_train)\n",
        "X_train_n"
      ],
      "metadata": {
        "colab": {
          "base_uri": "https://localhost:8080/"
        },
        "id": "QV7yns-sh3Nk",
        "outputId": "86ace62a-0766-425d-894f-8409ec60e9b4"
      },
      "execution_count": null,
      "outputs": [
        {
          "output_type": "execute_result",
          "data": {
            "text/plain": [
              "array([[-1.32367522,  1.61702386, -0.83310929, ..., -0.04672674,\n",
              "        -0.31363575, -0.28844798],\n",
              "       [-1.06019885, -0.35098824,  1.12611406, ...,  1.34929609,\n",
              "         0.27910576, -0.50990516],\n",
              "       [-0.28599835, -0.84009372,  0.67531931, ..., -0.23755922,\n",
              "         1.08682479, -0.28844798],\n",
              "       ...,\n",
              "       [-0.77667536,  0.69444575, -0.83310929, ...,  0.03780308,\n",
              "         0.64320064, -0.62063375],\n",
              "       [-0.54947472, -0.84009372,  0.69108136, ..., -0.10692222,\n",
              "         1.19990545, -0.68390723],\n",
              "       [ 0.23904514, -0.84009372,  0.74309614, ..., -0.21066337,\n",
              "        -0.85418618, -0.28844798]])"
            ]
          },
          "metadata": {},
          "execution_count": 178
        }
      ]
    },
    {
      "cell_type": "code",
      "source": [
        "X_test_n = scale.transform(X_test)\n",
        "X_test_n"
      ],
      "metadata": {
        "colab": {
          "base_uri": "https://localhost:8080/"
        },
        "id": "6AS8_77e-itY",
        "outputId": "cf159920-6438-4955-92d2-6505b96d6b04"
      },
      "execution_count": null,
      "outputs": [
        {
          "output_type": "execute_result",
          "data": {
            "text/plain": [
              "array([[ 0.90728232, -0.84009372, -0.83310929, ...,  0.80113299,\n",
              "        -0.1955845 , -0.62063375],\n",
              "       [ 0.16458443, -0.84009372,  1.01893209, ...,  0.60645825,\n",
              "        -0.25150351,  0.85047467],\n",
              "       [-1.25494226,  0.77557699,  0.87864981, ..., -1.06364612,\n",
              "         0.07779732, -0.28844798],\n",
              "       ...,\n",
              "       [-0.03397747,  0.50436685,  0.59020421, ..., -1.34925446,\n",
              "        -0.0675921 , -0.28844798],\n",
              "       [ 0.59225622, -0.39966698, -0.83310929, ..., -0.55646719,\n",
              "        -1.28911181,  3.53959759],\n",
              "       [ 2.48241281, -0.84009372, -0.83310929, ...,  1.91538975,\n",
              "        -1.99741927, -0.62063375]])"
            ]
          },
          "metadata": {},
          "execution_count": 180
        }
      ]
    },
    {
      "cell_type": "code",
      "source": [
        "reg3 =MLPRegressor(hidden_layer_sizes=(5,2),solver = 'sgd', max_iter=2000,random_state=40)"
      ],
      "metadata": {
        "id": "2ofUYWxM-pi5"
      },
      "execution_count": null,
      "outputs": []
    },
    {
      "cell_type": "code",
      "source": [
        ""
      ],
      "metadata": {
        "id": "2sPIA_5QCLib"
      },
      "execution_count": null,
      "outputs": []
    },
    {
      "cell_type": "code",
      "source": [
        "reg3.fit(X_train_n,y_train)"
      ],
      "metadata": {
        "colab": {
          "base_uri": "https://localhost:8080/"
        },
        "id": "CE6jx-4--4wo",
        "outputId": "febe0929-be82-426e-a54f-6d34ad756aef"
      },
      "execution_count": null,
      "outputs": [
        {
          "output_type": "execute_result",
          "data": {
            "text/plain": [
              "MLPRegressor(hidden_layer_sizes=(5, 2), max_iter=2000, random_state=40,\n",
              "             solver='sgd')"
            ]
          },
          "metadata": {},
          "execution_count": 183
        }
      ]
    },
    {
      "cell_type": "code",
      "source": [
        "y_prediction_n=reg3.predict(X_test_n)"
      ],
      "metadata": {
        "id": "6h6Yfo5M-_uy"
      },
      "execution_count": null,
      "outputs": []
    },
    {
      "cell_type": "markdown",
      "source": [
        "##### the MSE decrease"
      ],
      "metadata": {
        "id": "MtpVB4MkCxyG"
      }
    },
    {
      "cell_type": "code",
      "source": [
        "mean_squared_error(y_true=y_test,y_pred=y_prediction_n)"
      ],
      "metadata": {
        "colab": {
          "base_uri": "https://localhost:8080/"
        },
        "id": "IO_pWUbx_K_g",
        "outputId": "71872145-32e1-4ed5-9a00-e38431c4c5a1"
      },
      "execution_count": null,
      "outputs": [
        {
          "output_type": "execute_result",
          "data": {
            "text/plain": [
              "49.437998820911794"
            ]
          },
          "metadata": {},
          "execution_count": 187
        }
      ]
    },
    {
      "cell_type": "markdown",
      "source": [
        "### Tensorflow "
      ],
      "metadata": {
        "id": "XIZ96S46BeWT"
      }
    },
    {
      "cell_type": "code",
      "source": [
        "import tensorflow as tf"
      ],
      "metadata": {
        "id": "QCGxmnkrBhK2"
      },
      "execution_count": null,
      "outputs": []
    },
    {
      "cell_type": "code",
      "source": [
        "print(tf.__version__)"
      ],
      "metadata": {
        "colab": {
          "base_uri": "https://localhost:8080/"
        },
        "id": "YpcsmksGaw68",
        "outputId": "b0dd4ac9-90e5-4140-b225-67e6b31aa02b"
      },
      "execution_count": null,
      "outputs": [
        {
          "output_type": "stream",
          "name": "stdout",
          "text": [
            "2.8.2\n"
          ]
        }
      ]
    }
  ]
}