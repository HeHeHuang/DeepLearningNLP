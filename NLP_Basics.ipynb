{
  "nbformat": 4,
  "nbformat_minor": 0,
  "metadata": {
    "colab": {
      "name": "NLP Basics.ipynb",
      "provenance": [],
      "authorship_tag": "ABX9TyNGAL9rcrIVWqxNZlePOjvp",
      "include_colab_link": true
    },
    "kernelspec": {
      "name": "python3",
      "display_name": "Python 3"
    },
    "language_info": {
      "name": "python"
    }
  },
  "cells": [
    {
      "cell_type": "markdown",
      "metadata": {
        "id": "view-in-github",
        "colab_type": "text"
      },
      "source": [
        "<a href=\"https://colab.research.google.com/github/HeHeHuang/NLP/blob/main/NLP_Basics.ipynb\" target=\"_parent\"><img src=\"https://colab.research.google.com/assets/colab-badge.svg\" alt=\"Open In Colab\"/></a>"
      ]
    },
    {
      "cell_type": "markdown",
      "source": [
        "## Tokenization\n"
      ],
      "metadata": {
        "id": "H8OaGAbbmyR-"
      }
    },
    {
      "cell_type": "markdown",
      "source": [
        "### Spacy"
      ],
      "metadata": {
        "id": "uvhl_NdCnQKi"
      }
    },
    {
      "cell_type": "code",
      "source": [
        "import spacy"
      ],
      "metadata": {
        "id": "YNmK1-QVnSSR"
      },
      "execution_count": 1,
      "outputs": []
    },
    {
      "cell_type": "code",
      "source": [
        "nlp = spacy.load(name = 'en_core_web_sm')"
      ],
      "metadata": {
        "id": "JYtBD8CBnkH4"
      },
      "execution_count": 2,
      "outputs": []
    },
    {
      "cell_type": "code",
      "source": [
        ""
      ],
      "metadata": {
        "id": "bkK-dsTnnpBR"
      },
      "execution_count": null,
      "outputs": []
    },
    {
      "cell_type": "markdown",
      "source": [
        "## Stemming & Lemmatization"
      ],
      "metadata": {
        "id": "lEMZx5gCm2VX"
      }
    },
    {
      "cell_type": "markdown",
      "source": [
        "## Stop Words\n"
      ],
      "metadata": {
        "id": "Sz0cmd0km5j7"
      }
    },
    {
      "cell_type": "markdown",
      "source": [
        "## Vocabulary and Matching\n"
      ],
      "metadata": {
        "id": "5mwS3Pqym736"
      }
    },
    {
      "cell_type": "markdown",
      "source": [
        "## Parts of Speech Tagging\n"
      ],
      "metadata": {
        "id": "6RhIq2EQm-MJ"
      }
    },
    {
      "cell_type": "markdown",
      "source": [
        "## Named Entity Recognition\n"
      ],
      "metadata": {
        "id": "NN6PV-usnA8_"
      }
    },
    {
      "cell_type": "markdown",
      "source": [
        "## Sentence Segmentation\n"
      ],
      "metadata": {
        "id": "a_yhv0-rnDtX"
      }
    },
    {
      "cell_type": "code",
      "execution_count": null,
      "metadata": {
        "id": "hogxvvD5mnRI"
      },
      "outputs": [],
      "source": [
        ""
      ]
    }
  ]
}