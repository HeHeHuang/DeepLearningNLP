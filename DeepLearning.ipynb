{
  "nbformat": 4,
  "nbformat_minor": 0,
  "metadata": {
    "colab": {
      "name": "DeepLearning.ipynb",
      "provenance": [],
      "authorship_tag": "ABX9TyMiz7gsCSKIW78944bhzekz",
      "include_colab_link": true
    },
    "kernelspec": {
      "name": "python3",
      "display_name": "Python 3"
    },
    "language_info": {
      "name": "python"
    }
  },
  "cells": [
    {
      "cell_type": "markdown",
      "metadata": {
        "id": "view-in-github",
        "colab_type": "text"
      },
      "source": [
        "<a href=\"https://colab.research.google.com/github/HeHeHuang/DeepLearningNLP/blob/main/DeepLearning.ipynb\" target=\"_parent\"><img src=\"https://colab.research.google.com/assets/colab-badge.svg\" alt=\"Open In Colab\"/></a>"
      ]
    },
    {
      "cell_type": "code",
      "execution_count": null,
      "metadata": {
        "id": "xnwfvS8ifLwM"
      },
      "outputs": [],
      "source": [
        "# Deep Learning\n"
      ]
    },
    {
      "cell_type": "markdown",
      "source": [
        "## MLP\n"
      ],
      "metadata": {
        "id": "v953sDlzfXgM"
      }
    },
    {
      "cell_type": "code",
      "source": [
        "from sklearn.neural_network import MLPClassifier"
      ],
      "metadata": {
        "id": "ZvHArZXXfe1m"
      },
      "execution_count": null,
      "outputs": []
    },
    {
      "cell_type": "code",
      "source": [
        "X = [[0.,0.],[1.,1.],[2.,2.]]\n",
        "y = [0,1,1]\n"
      ],
      "metadata": {
        "id": "EHJvKyFk1GqO"
      },
      "execution_count": null,
      "outputs": []
    },
    {
      "cell_type": "code",
      "source": [
        "X,y"
      ],
      "metadata": {
        "colab": {
          "base_uri": "https://localhost:8080/"
        },
        "id": "EDtBaVds1RJi",
        "outputId": "687d648a-5d1e-4278-de71-210769409a19"
      },
      "execution_count": null,
      "outputs": [
        {
          "output_type": "execute_result",
          "data": {
            "text/plain": [
              "([[0.0, 0.0], [1.0, 1.0]], [0, 1])"
            ]
          },
          "metadata": {},
          "execution_count": 5
        }
      ]
    },
    {
      "cell_type": "markdown",
      "source": [
        "(5,2) 2 dimension set \n",
        "2 layers\n",
        "5 nodes for 1st hidden layer\n",
        "2 nodes for 2st hidden layer"
      ],
      "metadata": {
        "id": "YDg9Q9OK3ybD"
      }
    },
    {
      "cell_type": "code",
      "source": [
        ""
      ],
      "metadata": {
        "id": "7Hoahc9x3xuw"
      },
      "execution_count": null,
      "outputs": []
    },
    {
      "cell_type": "code",
      "source": [
        "clf = MLPClassifier(solver='sgd',alpha = 1e-5,hidden_layer_sizes=(5,2),random_state=1)"
      ],
      "metadata": {
        "id": "hQZya0PY13tk"
      },
      "execution_count": null,
      "outputs": []
    },
    {
      "cell_type": "code",
      "source": [
        "clf.fit(X,y)"
      ],
      "metadata": {
        "colab": {
          "base_uri": "https://localhost:8080/"
        },
        "id": "S80ddzCH2IgE",
        "outputId": "2f22dbf7-5981-45f0-ed50-b7b8a12e387a"
      },
      "execution_count": null,
      "outputs": [
        {
          "output_type": "stream",
          "name": "stderr",
          "text": [
            "/usr/local/lib/python3.7/dist-packages/sklearn/neural_network/_multilayer_perceptron.py:696: ConvergenceWarning: Stochastic Optimizer: Maximum iterations (200) reached and the optimization hasn't converged yet.\n",
            "  ConvergenceWarning,\n"
          ]
        },
        {
          "output_type": "execute_result",
          "data": {
            "text/plain": [
              "MLPClassifier(alpha=1e-05, hidden_layer_sizes=(5, 2), random_state=1,\n",
              "              solver='sgd')"
            ]
          },
          "metadata": {},
          "execution_count": 20
        }
      ]
    },
    {
      "cell_type": "markdown",
      "source": [
        "1. set max_iter increase \n",
        "2. tol = 0.000001\n"
      ],
      "metadata": {
        "id": "Dz_EaEVV4eLn"
      }
    },
    {
      "cell_type": "code",
      "source": [
        "clf = MLPClassifier(solver='sgd',alpha = 1e-5,max_iter = 3000,hidden_layer_sizes=(5,2),random_state=1)\n",
        "clf.fit(X,y)"
      ],
      "metadata": {
        "colab": {
          "base_uri": "https://localhost:8080/"
        },
        "id": "gdyL6jwe4a0t",
        "outputId": "0cb83005-5edd-41c4-d75e-99897eb661b9"
      },
      "execution_count": null,
      "outputs": [
        {
          "output_type": "execute_result",
          "data": {
            "text/plain": [
              "MLPClassifier(alpha=1e-05, hidden_layer_sizes=(5, 2), max_iter=3000,\n",
              "              random_state=1, solver='sgd')"
            ]
          },
          "metadata": {},
          "execution_count": 8
        }
      ]
    },
    {
      "cell_type": "code",
      "source": [
        " batch_size = 200  \n",
        " shuffle = Ture\n"
      ],
      "metadata": {
        "id": "oexk8zhn4xoi"
      },
      "execution_count": null,
      "outputs": []
    },
    {
      "cell_type": "markdown",
      "source": [
        "> regression: fitting the data\n",
        "\n",
        ">classification: find the classifying boundary \n"
      ],
      "metadata": {
        "id": "uKTLCLVt8SsY"
      }
    },
    {
      "cell_type": "code",
      "source": [
        "clf.predict([[2.,2.],[-1,-2]])"
      ],
      "metadata": {
        "colab": {
          "base_uri": "https://localhost:8080/"
        },
        "id": "fLjEqSIE8tXu",
        "outputId": "a32f9e61-992d-4ef0-b95f-d84ce06607a0"
      },
      "execution_count": null,
      "outputs": [
        {
          "output_type": "execute_result",
          "data": {
            "text/plain": [
              "array([1, 0])"
            ]
          },
          "metadata": {},
          "execution_count": 23
        }
      ]
    },
    {
      "cell_type": "code",
      "source": [
        "clf.predict([[2.,2.] ])"
      ],
      "metadata": {
        "id": "bzTJlQQH-dt1"
      },
      "execution_count": null,
      "outputs": []
    },
    {
      "cell_type": "code",
      "source": [
        "[coef.shape for coef in clf.coefs_]"
      ],
      "metadata": {
        "colab": {
          "base_uri": "https://localhost:8080/"
        },
        "id": "qeTY0YSh9wMb",
        "outputId": "6b2210f6-beff-4413-9eec-b8c4691d29c1"
      },
      "execution_count": null,
      "outputs": [
        {
          "output_type": "execute_result",
          "data": {
            "text/plain": [
              "[(2, 5), (5, 2), (2, 1)]"
            ]
          },
          "metadata": {},
          "execution_count": 15
        }
      ]
    },
    {
      "cell_type": "code",
      "source": [
        "clf.predict_proba([[2,2],[1,2]])"
      ],
      "metadata": {
        "colab": {
          "base_uri": "https://localhost:8080/"
        },
        "id": "uLnfdIR3932n",
        "outputId": "6a8b4417-fd97-499c-f176-ee1db365e86f"
      },
      "execution_count": null,
      "outputs": [
        {
          "output_type": "execute_result",
          "data": {
            "text/plain": [
              "array([[0.15882012, 0.84117988],\n",
              "       [0.15882012, 0.84117988]])"
            ]
          },
          "metadata": {},
          "execution_count": 17
        }
      ]
    },
    {
      "cell_type": "code",
      "source": [
        ""
      ],
      "metadata": {
        "id": "5M7xeRem-Avm"
      },
      "execution_count": null,
      "outputs": []
    }
  ]
}