{
  "nbformat": 4,
  "nbformat_minor": 0,
  "metadata": {
    "colab": {
      "name": "TextClassification-from ML to DL.ipynb",
      "provenance": [],
      "toc_visible": true,
      "mount_file_id": "1hJFuKgERXLrCJdvx9S6temBmTrV7s_Q5",
      "authorship_tag": "ABX9TyN7OYzS5AglTVeahtq+PzAZ",
      "include_colab_link": true
    },
    "kernelspec": {
      "name": "python3",
      "display_name": "Python 3"
    },
    "language_info": {
      "name": "python"
    }
  },
  "cells": [
    {
      "cell_type": "markdown",
      "metadata": {
        "id": "view-in-github",
        "colab_type": "text"
      },
      "source": [
        "<a href=\"https://colab.research.google.com/github/HeHeHuang/DeepLearningNLP/blob/main/TextClassification_from_ML_to_DL.ipynb\" target=\"_parent\"><img src=\"https://colab.research.google.com/assets/colab-badge.svg\" alt=\"Open In Colab\"/></a>"
      ]
    },
    {
      "cell_type": "markdown",
      "source": [
        "# Using TensorFlow to do Text classification\n",
        "\n",
        "> https://www.youtube.com/watch?v=VtRLrQ3Ev-U&t=4685s"
      ],
      "metadata": {
        "id": "6QqeNG1iPAAn"
      }
    },
    {
      "cell_type": "code",
      "source": [
        ""
      ],
      "metadata": {
        "id": "rr6dNN4mPLMb"
      },
      "execution_count": null,
      "outputs": []
    },
    {
      "cell_type": "code",
      "source": [
        ""
      ],
      "metadata": {
        "id": "Z9RlLK5nPLZq"
      },
      "execution_count": null,
      "outputs": []
    },
    {
      "cell_type": "code",
      "source": [
        ""
      ],
      "metadata": {
        "id": "wF30tTyOPLhb"
      },
      "execution_count": null,
      "outputs": []
    }
  ]
}