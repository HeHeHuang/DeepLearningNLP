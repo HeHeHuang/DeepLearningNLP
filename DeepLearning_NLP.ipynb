{
  "nbformat": 4,
  "nbformat_minor": 0,
  "metadata": {
    "colab": {
      "name": "DeepLearning_NLP.ipynb",
      "provenance": [],
      "collapsed_sections": [
        "ACj7rgi1msfw",
        "PWkZSy-GC3FW"
      ],
      "toc_visible": true,
      "history_visible": true,
      "authorship_tag": "ABX9TyMzmB4DKlahnpBgG2tQvPsN",
      "include_colab_link": true
    },
    "kernelspec": {
      "name": "python3",
      "display_name": "Python 3"
    },
    "language_info": {
      "name": "python"
    }
  },
  "cells": [
    {
      "cell_type": "markdown",
      "metadata": {
        "id": "view-in-github",
        "colab_type": "text"
      },
      "source": [
        "<a href=\"https://colab.research.google.com/github/HeHeHuang/DeepLearningNLP/blob/main/DeepLearning_NLP.ipynb\" target=\"_parent\"><img src=\"https://colab.research.google.com/assets/colab-badge.svg\" alt=\"Open In Colab\"/></a>"
      ]
    },
    {
      "cell_type": "code",
      "source": [
        "import numpy as np"
      ],
      "metadata": {
        "id": "XpmbIYZiq3Px"
      },
      "execution_count": null,
      "outputs": []
    },
    {
      "cell_type": "markdown",
      "source": [
        "## Charpter 1 Numpy & Nural Network\n"
      ],
      "metadata": {
        "id": "uulGig6ByY38"
      }
    },
    {
      "cell_type": "markdown",
      "source": [
        "### NUMPY"
      ],
      "metadata": {
        "id": "ACj7rgi1msfw"
      }
    },
    {
      "cell_type": "markdown",
      "source": [
        "#### Numpy dimension: vector & matirx\n"
      ],
      "metadata": {
        "id": "H2nlPLy97jvh"
      }
    },
    {
      "cell_type": "code",
      "source": [
        "import numpy as np"
      ],
      "metadata": {
        "id": "0iZ6bV8Sh2D5"
      },
      "execution_count": null,
      "outputs": []
    },
    {
      "cell_type": "code",
      "execution_count": null,
      "metadata": {
        "colab": {
          "base_uri": "https://localhost:8080/"
        },
        "id": "GrU0AYZr3k6l",
        "outputId": "ddba46eb-443b-4ddc-dc6a-25e76981e4f6"
      },
      "outputs": [
        {
          "output_type": "execute_result",
          "data": {
            "text/plain": [
              "(3,)"
            ]
          },
          "metadata": {},
          "execution_count": 2
        }
      ],
      "source": [
        "import numpy as np\n",
        "x = np.array([1,2,3])\n",
        "x.shape\n",
        "\n"
      ]
    },
    {
      "cell_type": "code",
      "source": [
        "W = np.array([[1,2,3],[4,5,6]])\n",
        "W.shape"
      ],
      "metadata": {
        "colab": {
          "base_uri": "https://localhost:8080/"
        },
        "id": "xz0cmL_a4mPW",
        "outputId": "ea8f753e-8699-4795-c8ed-174b9074bbdf"
      },
      "execution_count": null,
      "outputs": [
        {
          "output_type": "execute_result",
          "data": {
            "text/plain": [
              "(2, 3)"
            ]
          },
          "metadata": {},
          "execution_count": 3
        }
      ]
    },
    {
      "cell_type": "code",
      "source": [
        "W.ndim"
      ],
      "metadata": {
        "colab": {
          "base_uri": "https://localhost:8080/"
        },
        "id": "3A1t0KUG5JSo",
        "outputId": "7e4039de-6cf3-48b7-f9c7-8222621b2b9a"
      },
      "execution_count": null,
      "outputs": [
        {
          "output_type": "execute_result",
          "data": {
            "text/plain": [
              "2"
            ]
          },
          "metadata": {},
          "execution_count": 4
        }
      ]
    },
    {
      "cell_type": "code",
      "source": [
        "W2 = np.array([[1,2,3], [4,5]])\n",
        "W2.shape"
      ],
      "metadata": {
        "colab": {
          "base_uri": "https://localhost:8080/"
        },
        "id": "T60DqNJn7O6i",
        "outputId": "008b54a8-b117-4b06-8a6b-c7a5f25a36c2"
      },
      "execution_count": null,
      "outputs": [
        {
          "output_type": "stream",
          "name": "stderr",
          "text": [
            "/usr/local/lib/python3.7/dist-packages/ipykernel_launcher.py:1: VisibleDeprecationWarning: Creating an ndarray from ragged nested sequences (which is a list-or-tuple of lists-or-tuples-or ndarrays with different lengths or shapes) is deprecated. If you meant to do this, you must specify 'dtype=object' when creating the ndarray.\n",
            "  \"\"\"Entry point for launching an IPython kernel.\n"
          ]
        },
        {
          "output_type": "execute_result",
          "data": {
            "text/plain": [
              "(2,)"
            ]
          },
          "metadata": {},
          "execution_count": 5
        }
      ]
    },
    {
      "cell_type": "markdown",
      "source": [
        "#### Element-wise\n"
      ],
      "metadata": {
        "id": "nWeWzMuX7i9V"
      }
    },
    {
      "cell_type": "code",
      "source": [
        "W = np.array([[1,2,3],[4,5,6]])\n",
        "X = np.array([[0,1,2],[3,4,5]])"
      ],
      "metadata": {
        "id": "YiaDb2ql8JJm"
      },
      "execution_count": null,
      "outputs": []
    },
    {
      "cell_type": "code",
      "source": [
        "W + X"
      ],
      "metadata": {
        "colab": {
          "base_uri": "https://localhost:8080/"
        },
        "id": "C8U8IXyO8I4c",
        "outputId": "53c43e7b-63cb-495c-be2c-025811cc20e9"
      },
      "execution_count": null,
      "outputs": [
        {
          "output_type": "execute_result",
          "data": {
            "text/plain": [
              "array([[ 1,  3,  5],\n",
              "       [ 7,  9, 11]])"
            ]
          },
          "metadata": {},
          "execution_count": 7
        }
      ]
    },
    {
      "cell_type": "code",
      "source": [
        "W * X"
      ],
      "metadata": {
        "colab": {
          "base_uri": "https://localhost:8080/"
        },
        "id": "N0mBK6O78lVp",
        "outputId": "cfc0f689-7fe2-4dd7-a634-6c1cc13218a6"
      },
      "execution_count": null,
      "outputs": [
        {
          "output_type": "execute_result",
          "data": {
            "text/plain": [
              "array([[ 0,  2,  6],\n",
              "       [12, 20, 30]])"
            ]
          },
          "metadata": {},
          "execution_count": 8
        }
      ]
    },
    {
      "cell_type": "code",
      "source": [
        "X2 = np.array([[0,1],[3,4],[3,6]])\n",
        "np.dot(W,X2)"
      ],
      "metadata": {
        "colab": {
          "base_uri": "https://localhost:8080/"
        },
        "id": "KPHF8sno8pW_",
        "outputId": "d1a60b06-4275-43c8-9630-106035150db1"
      },
      "execution_count": null,
      "outputs": [
        {
          "output_type": "execute_result",
          "data": {
            "text/plain": [
              "array([[15, 27],\n",
              "       [33, 60]])"
            ]
          },
          "metadata": {},
          "execution_count": 9
        }
      ]
    },
    {
      "cell_type": "markdown",
      "source": [
        "#### Broadcast\n"
      ],
      "metadata": {
        "id": "QsHCdJpf9Y46"
      }
    },
    {
      "cell_type": "code",
      "source": [
        "A = np.array([[1,2],[3,4]])\n",
        "A * 10 "
      ],
      "metadata": {
        "colab": {
          "base_uri": "https://localhost:8080/"
        },
        "id": "PGSVw-JshqxE",
        "outputId": "8efc542b-210a-47cb-cff6-dc24b54a36bc"
      },
      "execution_count": null,
      "outputs": [
        {
          "output_type": "execute_result",
          "data": {
            "text/plain": [
              "array([[10, 20],\n",
              "       [30, 40]])"
            ]
          },
          "metadata": {},
          "execution_count": 10
        }
      ]
    },
    {
      "cell_type": "code",
      "source": [
        "A = np.array([[1,2],[3,4]])\n",
        "B = np.array([1,2])  # become to [[1,2],[1,2]] first and then A * B\n",
        "A * B"
      ],
      "metadata": {
        "colab": {
          "base_uri": "https://localhost:8080/"
        },
        "id": "7IOSLLOdh4fD",
        "outputId": "3062402c-6d9b-433b-99ba-03824af7d4bc"
      },
      "execution_count": null,
      "outputs": [
        {
          "output_type": "execute_result",
          "data": {
            "text/plain": [
              "array([[1, 4],\n",
              "       [3, 8]])"
            ]
          },
          "metadata": {},
          "execution_count": 11
        }
      ]
    },
    {
      "cell_type": "markdown",
      "source": [
        "##### more example of broadcast\n"
      ],
      "metadata": {
        "id": "otkCKIIlihMv"
      }
    },
    {
      "cell_type": "markdown",
      "source": [
        "#### vector  dot product\n",
        "\n",
        "\n",
        "> *  向量内积直观的表示为\" 两个向量在多大程度上指向同一个方向\"\n",
        "*   矩阵乘积:\n",
        "\"左侧矩阵的行向量(水平方向) \" 和\"右侧矩阵的列向量(垂直方向) 的内积 \n",
        "\n"
      ],
      "metadata": {
        "id": "ptZCQ1iIio1g"
      }
    },
    {
      "cell_type": "code",
      "source": [
        "A = np.array([1,2,3])\n",
        "B = np.array([4,5,6])\n",
        "np.dot(A,B)"
      ],
      "metadata": {
        "colab": {
          "base_uri": "https://localhost:8080/"
        },
        "id": "a6ungfmKkxIV",
        "outputId": "e09b157f-93cc-429a-dd63-54caa0088251"
      },
      "execution_count": null,
      "outputs": [
        {
          "output_type": "execute_result",
          "data": {
            "text/plain": [
              "32"
            ]
          },
          "metadata": {},
          "execution_count": 12
        }
      ]
    },
    {
      "cell_type": "code",
      "source": [
        "A = np.array([[1,2],[3,4]])\n",
        "B = np.array([[5,6],[7,8]])\n",
        "np.dot(A,B)"
      ],
      "metadata": {
        "colab": {
          "base_uri": "https://localhost:8080/"
        },
        "id": "2o7vLkYGi4ny",
        "outputId": "31111034-353c-42a5-e59c-09eb152e3c72"
      },
      "execution_count": null,
      "outputs": [
        {
          "output_type": "execute_result",
          "data": {
            "text/plain": [
              "array([[19, 22],\n",
              "       [43, 50]])"
            ]
          },
          "metadata": {},
          "execution_count": 13
        }
      ]
    },
    {
      "cell_type": "markdown",
      "source": [
        "#### Numpy 100 exercises\n",
        "[Numpy 100 exercises](https://github.com/rougier/numpy-100)"
      ],
      "metadata": {
        "id": "u-P3KW_xlXNh"
      }
    },
    {
      "cell_type": "markdown",
      "source": [
        "#### check shape of matrix\n",
        "\n",
        "> 3X2 matrix * 2X4 matrix = 3X4 matrix\n",
        "\n",
        "\n",
        "\n",
        "\n"
      ],
      "metadata": {
        "id": "y4EXuImvlz0I"
      }
    },
    {
      "cell_type": "code",
      "source": [
        "A = np.array([[1,2],[3,4],[5,6]])\n",
        "B = np.array([[5,6,7,8],[6,7,8,9]])\n",
        "np.dot(A,B)"
      ],
      "metadata": {
        "colab": {
          "base_uri": "https://localhost:8080/"
        },
        "id": "PZDenUP9l3jn",
        "outputId": "f0c6e068-38df-45bf-eb00-33cf749982a4"
      },
      "execution_count": null,
      "outputs": [
        {
          "output_type": "execute_result",
          "data": {
            "text/plain": [
              "array([[17, 20, 23, 26],\n",
              "       [39, 46, 53, 60],\n",
              "       [61, 72, 83, 94]])"
            ]
          },
          "metadata": {},
          "execution_count": 14
        }
      ]
    },
    {
      "cell_type": "markdown",
      "source": [
        "### 神经网络 = 推理+ 学习"
      ],
      "metadata": {
        "id": "PWkZSy-GC3FW"
      }
    },
    {
      "cell_type": "markdown",
      "source": [
        "#### 神经网络的推理: 设定概念图\n"
      ],
      "metadata": {
        "id": "mkOCczAEmCzT"
      }
    },
    {
      "cell_type": "markdown",
      "source": [
        "#### 例子\n",
        "输入层2 隐藏层4 输出层3\n",
        "![image.png](data:image/png;base64,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)\n"
      ],
      "metadata": {
        "id": "A2sOFpSfm7pR"
      }
    },
    {
      "cell_type": "markdown",
      "source": [
        "输入层 2维数据 权重 2X4 \n",
        "隐藏层 1x4    权重: 4X3\n",
        "输出层:3维数据\n",
        "\n"
      ],
      "metadata": {
        "id": "1YsECcb_uwli"
      }
    },
    {
      "cell_type": "code",
      "source": [
        "def sigmoid(x):\n",
        "  return 1/ (1+np.exp(-x))\n",
        "x= np.random.randn(10,2) # mini-batch 10笔二维数据 组成了 一个mini -batch 一次性处理了.\n",
        "W1=np.random.randn(2,4)\n",
        "B1=np.random.randn(4)\n",
        "W2=np.random.randn(4,3)\n",
        "B2=np.random.randn(3)\n",
        "h =np.dot(x,W1)+B1\n",
        "print(h)\n",
        "a = sigmoid(h)\n",
        "s =np.dot(a,W2)+B2\n",
        "s"
      ],
      "metadata": {
        "colab": {
          "base_uri": "https://localhost:8080/"
        },
        "id": "IQ72gKNYioA1",
        "outputId": "1e37529c-4ccc-47bd-adf4-029cea5a24b2"
      },
      "execution_count": null,
      "outputs": [
        {
          "output_type": "stream",
          "name": "stdout",
          "text": [
            "[[-3.26831395  1.8545134   0.80020323  0.59460428]\n",
            " [ 2.54218948 -0.98607205 -0.03152353 -2.07267584]\n",
            " [-4.19232522  2.31297785  0.87941593  1.18616416]\n",
            " [ 2.53020823 -0.96456577 -0.15294276 -1.67864501]\n",
            " [-0.24159801  0.34703522  0.58573825 -1.48513525]\n",
            " [ 1.43916043 -0.46884398  0.29955696 -2.11281276]\n",
            " [ 1.11675921 -0.33511879  0.53366392 -2.55788778]\n",
            " [ 2.5751108  -0.907584   -0.78045769  0.26048729]\n",
            " [ 2.56642679 -0.99297116 -0.07394048 -1.96090886]\n",
            " [-3.12613596  1.84217533  0.33002002  1.94871151]]\n"
          ]
        },
        {
          "output_type": "execute_result",
          "data": {
            "text/plain": [
              "array([[ 1.78276409,  0.22129988,  0.89431358],\n",
              "       [ 1.72083944, -0.79137243,  0.14171526],\n",
              "       [ 1.83552054,  0.08874823,  0.89169851],\n",
              "       [ 1.6953986 , -0.88521302,  0.11755   ],\n",
              "       [ 1.76571718,  0.13424761,  0.60782623],\n",
              "       [ 1.80865048, -0.49437631,  0.26563628],\n",
              "       [ 1.84928357, -0.28931269,  0.34780512],\n",
              "       [ 1.59351502, -1.64156563, -0.02401488],\n",
              "       [ 1.7106329 , -0.82110903,  0.13307176],\n",
              "       [ 1.69402873, -0.23469137,  0.79963171]])"
            ]
          },
          "metadata": {},
          "execution_count": 17
        }
      ]
    },
    {
      "cell_type": "markdown",
      "source": [
        "#### Python中  层的类化 & 正向传播\n",
        "\n",
        "> *  Affine 层: WX + b\n",
        "* Sigmoid 层: 激活函数\n",
        "* forward():  params 实例变量\n",
        "\n",
        " \n",
        "\n",
        "\n"
      ],
      "metadata": {
        "id": "6UEZAADgyegf"
      }
    },
    {
      "cell_type": "code",
      "source": [
        "class Sigmoid:\n",
        " def __init__ (self):\n",
        "  self.params = []\n",
        " def forward(self,x):\n",
        "  return 1 / (1+np.exp(-x))"
      ],
      "metadata": {
        "id": "_BSFPM000hzy"
      },
      "execution_count": null,
      "outputs": []
    },
    {
      "cell_type": "code",
      "source": [
        "class Affine:\n",
        "  def __init__(self,W,b):\n",
        "    self.params = [W,b]\n",
        "  \n",
        "  def forward(self,x):\n",
        "    W,b = self.params\n",
        "    out = np.dot(x,W) + b\n",
        "    return out "
      ],
      "metadata": {
        "id": "1XQEmv5m6h9L"
      },
      "execution_count": null,
      "outputs": []
    },
    {
      "cell_type": "markdown",
      "source": [
        "在这个类的初始化方法中，首先对权重进行初始化，生成3个层。然后，将要学习的权重参数一起保存在params列表中。这里，因为各个层的实例变量params中都保存了学习参数，所以只需要将它们拼接起来即可。这样一来，TwoLayerNet的params变量中就保存了所有的学习参数。像这样，通过将参数整理到一个列表中，可以很轻松地进行参数的更新和保存。"
      ],
      "metadata": {
        "id": "oNguHCmm9kCd"
      }
    },
    {
      "cell_type": "code",
      "source": [
        "class TwoLayerNet:\n",
        "  def __init__(self,input_size,hidden_size,output_size):\n",
        "    I,H,O = input_size,hidden_size,output_size\n",
        "    W1 = np.random.randn(I,H)\n",
        "    b1 = np.random.randn(H)\n",
        "    W2 = np.random.randn(H,O)    #\n",
        "    b2 = np.random.randn(O)\n",
        "    \n",
        "  # 类实例存入list\n",
        "    self.layers = [\n",
        "                   Affine(W1,b1),\n",
        "                   Sigmoid(),\n",
        "                   Affine(W2,b2)\n",
        "                   ]\n",
        "    self.params = []\n",
        "    for layer in self.layers:\n",
        "      self.params += layer.params\n",
        "    \n",
        "  def predict(self,x):\n",
        "    for layer in self.layers:\n",
        "      x = layer.forward(x) \n",
        "    return x \n",
        "  "
      ],
      "metadata": {
        "id": "McVFlExC9ikt"
      },
      "execution_count": null,
      "outputs": []
    },
    {
      "cell_type": "code",
      "source": [
        "x = np.random.randn(10,2)\n",
        "model = TwoLayerNet(2,4,3)\n",
        "s = model.predict(x)\n",
        "s  # 10X3\n"
      ],
      "metadata": {
        "colab": {
          "base_uri": "https://localhost:8080/"
        },
        "id": "-6KtcqA-wIQh",
        "outputId": "1dc07594-79e8-4c44-f9ec-5f7644cf3e18"
      },
      "execution_count": null,
      "outputs": [
        {
          "output_type": "execute_result",
          "data": {
            "text/plain": [
              "array([[-1.29170745,  2.81519404, -2.98217872],\n",
              "       [-1.52099523,  2.45911373, -2.5306044 ],\n",
              "       [-1.19685801,  2.91779655, -2.49370409],\n",
              "       [-1.32811945,  2.72538488, -2.76048189],\n",
              "       [-1.77059304,  2.35516719, -1.97550776],\n",
              "       [-1.27441759,  2.8086111 , -2.80651138],\n",
              "       [-1.66320102,  2.28687606, -2.143104  ],\n",
              "       [-1.72349242,  2.25905541, -2.04043855],\n",
              "       [-1.76337306,  2.30763863, -1.97678084],\n",
              "       [-1.45618276,  2.55476842, -2.79243348]])"
            ]
          },
          "metadata": {},
          "execution_count": 41
        }
      ]
    },
    {
      "cell_type": "markdown",
      "source": [
        "#### 神经网络的学习: 找出最优的参数\n",
        "\n",
        "\n",
        " Loss 是一个指标=>衡量学习阶段的某个时间点神经网络的性能--> loss function\n",
        "\n",
        "\n",
        "> Cross entropy error-> loss function -> 多类别分类 (各类别的概率+监督标签)\n",
        "\n",
        "![image.png](data:image/png;base64,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)\n",
        "\n",
        "监督标签以 one-hot 向量的形式表示 比如 t =(0,0,1) 1 为正解"
      ],
      "metadata": {
        "id": "KV6tEZgCCiwa"
      }
    },
    {
      "cell_type": "markdown",
      "source": [
        "* 损失\n",
        "* 梯度\n",
        "* 误差反向传播\n",
        "* 链式法则\n",
        "\n"
      ],
      "metadata": {
        "id": "2-H1R_fXI9QA"
      }
    },
    {
      "cell_type": "markdown",
      "source": [
        "反向传播： 复合函数的导数可以由他们各自的导数来求复合导数的导数\n",
        "假设L是最终的结果。 那么， 目标就是求L 关于每个变量的导数"
      ],
      "metadata": {
        "id": "TdWbCDf2Kpnp"
      }
    },
    {
      "cell_type": "markdown",
      "source": [
        "#### 计算图\n",
        "* 变量\n",
        "    * 单变量\n",
        "    * 多变量\n",
        "* 节点\n",
        "    * 乘法节点\n",
        "    * 加法节点\n",
        "    * 分支节点（复制节点）两个分叉 复制两份\n",
        "    * repeat 节点：  复制了N份\n",
        "    * Sum 节点\n",
        "    * Mulmul 节点 （矩阵乘积）\n",
        "* 箭头\n",
        "\n"
      ],
      "metadata": {
        "id": "r0atrR3DNC_r"
      }
    },
    {
      "cell_type": "markdown",
      "source": [
        "反向传播中流动的导数的值是根据上游传来的导数 和 各个运算节点的局部导数之积 求得的"
      ],
      "metadata": {
        "id": "_MayflymUI-M"
      }
    },
    {
      "cell_type": "markdown",
      "source": [
        "### 疑问? L(Z) 我们追求的是他的最小值, 所以当更新 parameter的时候 他是确定的? \n"
      ],
      "metadata": {
        "id": "u0OSNZRRUdsW"
      }
    },
    {
      "cell_type": "markdown",
      "source": [
        "#### repeat 节点\n"
      ],
      "metadata": {
        "id": "mZp6vPcGVLBU"
      }
    },
    {
      "cell_type": "code",
      "source": [
        "import numpy as np \n",
        "D,N = 8, 7 \n",
        "x= np.random.randn(1,D)\n",
        "x"
      ],
      "metadata": {
        "id": "N7wQ9UTEH2VC",
        "colab": {
          "base_uri": "https://localhost:8080/"
        },
        "outputId": "3123e1e5-a778-4778-c613-5c06b3d765eb"
      },
      "execution_count": null,
      "outputs": [
        {
          "output_type": "execute_result",
          "data": {
            "text/plain": [
              "array([[-1.52024334,  1.12076087, -0.43960726, -0.63735499,  2.00224635,\n",
              "         0.45218   , -0.24525707, -1.08173484]])"
            ]
          },
          "metadata": {},
          "execution_count": 2
        }
      ]
    },
    {
      "cell_type": "code",
      "source": [
        "x.shape"
      ],
      "metadata": {
        "id": "RinOoqL4CtV9",
        "colab": {
          "base_uri": "https://localhost:8080/"
        },
        "outputId": "4140eecd-48b0-4256-95b1-4362be2d3ac9"
      },
      "execution_count": null,
      "outputs": [
        {
          "output_type": "execute_result",
          "data": {
            "text/plain": [
              "(1, 8)"
            ]
          },
          "metadata": {},
          "execution_count": 3
        }
      ]
    },
    {
      "cell_type": "code",
      "source": [
        "y = np.repeat(x, N , axis =0)\n",
        "y"
      ],
      "metadata": {
        "colab": {
          "base_uri": "https://localhost:8080/"
        },
        "id": "HkL4xQA7cMOa",
        "outputId": "b2e51231-098d-40be-970d-27a6253b369d"
      },
      "execution_count": null,
      "outputs": [
        {
          "output_type": "execute_result",
          "data": {
            "text/plain": [
              "array([[-1.52024334,  1.12076087, -0.43960726, -0.63735499,  2.00224635,\n",
              "         0.45218   , -0.24525707, -1.08173484],\n",
              "       [-1.52024334,  1.12076087, -0.43960726, -0.63735499,  2.00224635,\n",
              "         0.45218   , -0.24525707, -1.08173484],\n",
              "       [-1.52024334,  1.12076087, -0.43960726, -0.63735499,  2.00224635,\n",
              "         0.45218   , -0.24525707, -1.08173484],\n",
              "       [-1.52024334,  1.12076087, -0.43960726, -0.63735499,  2.00224635,\n",
              "         0.45218   , -0.24525707, -1.08173484],\n",
              "       [-1.52024334,  1.12076087, -0.43960726, -0.63735499,  2.00224635,\n",
              "         0.45218   , -0.24525707, -1.08173484],\n",
              "       [-1.52024334,  1.12076087, -0.43960726, -0.63735499,  2.00224635,\n",
              "         0.45218   , -0.24525707, -1.08173484],\n",
              "       [-1.52024334,  1.12076087, -0.43960726, -0.63735499,  2.00224635,\n",
              "         0.45218   , -0.24525707, -1.08173484]])"
            ]
          },
          "metadata": {},
          "execution_count": 6
        }
      ]
    },
    {
      "cell_type": "code",
      "source": [
        "y1 = np.repeat(x, N , axis =1)\n",
        "y1"
      ],
      "metadata": {
        "colab": {
          "base_uri": "https://localhost:8080/"
        },
        "id": "mT1tUkJpcYS5",
        "outputId": "09c857b6-65ca-4184-bada-05ad5bc05a24"
      },
      "execution_count": null,
      "outputs": [
        {
          "output_type": "execute_result",
          "data": {
            "text/plain": [
              "array([[-1.52024334, -1.52024334, -1.52024334, -1.52024334, -1.52024334,\n",
              "        -1.52024334, -1.52024334,  1.12076087,  1.12076087,  1.12076087,\n",
              "         1.12076087,  1.12076087,  1.12076087,  1.12076087, -0.43960726,\n",
              "        -0.43960726, -0.43960726, -0.43960726, -0.43960726, -0.43960726,\n",
              "        -0.43960726, -0.63735499, -0.63735499, -0.63735499, -0.63735499,\n",
              "        -0.63735499, -0.63735499, -0.63735499,  2.00224635,  2.00224635,\n",
              "         2.00224635,  2.00224635,  2.00224635,  2.00224635,  2.00224635,\n",
              "         0.45218   ,  0.45218   ,  0.45218   ,  0.45218   ,  0.45218   ,\n",
              "         0.45218   ,  0.45218   , -0.24525707, -0.24525707, -0.24525707,\n",
              "        -0.24525707, -0.24525707, -0.24525707, -0.24525707, -1.08173484,\n",
              "        -1.08173484, -1.08173484, -1.08173484, -1.08173484, -1.08173484,\n",
              "        -1.08173484]])"
            ]
          },
          "metadata": {},
          "execution_count": 8
        }
      ]
    },
    {
      "cell_type": "code",
      "source": [
        "dy = np.random.randn(N,D)\n",
        "dy\n"
      ],
      "metadata": {
        "id": "9nbHVHhZAHV6",
        "colab": {
          "base_uri": "https://localhost:8080/"
        },
        "outputId": "c47d1eb3-bb61-4024-97fc-7d1709de5cdb"
      },
      "execution_count": null,
      "outputs": [
        {
          "output_type": "execute_result",
          "data": {
            "text/plain": [
              "array([[ 0.87340922, -0.10480915,  0.92577066,  1.59509251, -0.79398424,\n",
              "         0.47781619,  0.71672852,  0.15334379],\n",
              "       [-0.1911213 ,  0.12732101,  1.47604204, -1.04710059,  1.81883732,\n",
              "         0.35310412,  0.58303388,  0.14718359],\n",
              "       [-0.57765993,  0.54764417, -1.39217422,  0.42923251,  0.70364897,\n",
              "         0.63827304, -0.73335994,  0.13243546],\n",
              "       [ 0.71740553,  0.54996188, -1.50063431, -0.31682714, -0.44215425,\n",
              "         1.29228662, -0.80524447,  0.1629665 ],\n",
              "       [ 0.3227421 , -0.28149178,  1.89192727,  0.94844882, -0.59856519,\n",
              "        -0.20543484, -0.4521932 ,  0.72327876],\n",
              "       [ 0.11406736,  1.0064567 ,  0.5497729 ,  1.60513292,  0.90977248,\n",
              "        -0.59960321,  0.2512177 ,  1.02000203],\n",
              "       [ 0.7704773 , -1.59201597, -0.08697192, -1.14861119, -0.54969505,\n",
              "         1.46795555,  0.46856497,  0.01432146]])"
            ]
          },
          "metadata": {},
          "execution_count": 5
        }
      ]
    },
    {
      "cell_type": "code",
      "source": [
        "dx = np.sum(dy,axis = 0 , keepdims = True)\n",
        "dx"
      ],
      "metadata": {
        "colab": {
          "base_uri": "https://localhost:8080/"
        },
        "id": "ljYP4BSidV0G",
        "outputId": "c6397094-451d-43f3-e091-2cff96abf06d"
      },
      "execution_count": null,
      "outputs": [
        {
          "output_type": "execute_result",
          "data": {
            "text/plain": [
              "array([[2.02932029, 0.25306685, 1.86373241, 2.06536783, 1.04786004,\n",
              "        3.42439746, 0.02874747, 2.35353159]])"
            ]
          },
          "metadata": {},
          "execution_count": 11
        }
      ]
    },
    {
      "cell_type": "code",
      "source": [
        "dx = np.sum(dy,axis = 0 , keepdims = False)\n",
        "dx.shape"
      ],
      "metadata": {
        "colab": {
          "base_uri": "https://localhost:8080/"
        },
        "id": "CHnCyKt-dmVj",
        "outputId": "13330c40-d413-4773-f26b-ad9423ba2518"
      },
      "execution_count": null,
      "outputs": [
        {
          "output_type": "execute_result",
          "data": {
            "text/plain": [
              "(8,)"
            ]
          },
          "metadata": {},
          "execution_count": 14
        }
      ]
    },
    {
      "cell_type": "markdown",
      "source": [
        "### 什么是优化， 为什么更新权重可以影响 loss\n"
      ],
      "metadata": {
        "id": "85qLWv51m7de"
      }
    },
    {
      "cell_type": "markdown",
      "source": [
        "了解如何通过改变权重来改变网络的输出后，我们接下来要知道如何最小化损失。改变权重就会改变输出，而改变输出就会改变损失——因为损失就是一个预测 (Y_pred) 值的函数，而这个值本质上就是网络的输出。所以，我们可以得出的结论是，改变权重最终会让损失也发生改变。\n",
        "\n",
        "我们已经展示了权重和最终的损失之间的关系，但是目前为止我们还仅仅探讨了改变。改变可以是增加的意思，也可以是减少的意思，而在这里我们需要的是减少损失。所以，我们需要探索以这种方式来改变权重究竟如何能够能让损失减少。这一过程就叫做优化。\n",
        "\n",
        "从数学的角度来看，我们可以通过使用偏导数（Partial Derivatives）来实现这个过程。偏导数能够让我们理解两个数学表达式如何相互影响。让我们先假设 X 和 Y，它们之间存在某些任意的数学关系，如果我们能够得到 X 对 Y 的偏导数，我们就能够知道 X 的改变如何影响 Y。如果偏导数为正，就意味着 Y 会随着 X 的增大而增大；如果为负，则意味着 Y 随 X 的增大而减小。\n",
        "\n",
        "如此一来，我们需要得到神经网络中的每个权重对损失的偏导数。在某个特定案例中，如果权重的偏导数为正，那我们就减小权重从而减小损失；如果为负，我们就增大权重以减小损失——毕竟优化最终的目标就是：减小损失！\n",
        "\n",
        "数学公式、可视化图齐齐上阵，神经网络如何一步步走向最优化「看得见」！\n",
        "![image.png](data:image/png;base64,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)"
      ],
      "metadata": {
        "id": "SaKL-qLcnAwe"
      }
    },
    {
      "cell_type": "markdown",
      "source": [
        "#### matmul: Matrix multiple\n"
      ],
      "metadata": {
        "id": "zHzcrYv8i1Ja"
      }
    },
    {
      "cell_type": "code",
      "source": [
        "class MatMul:\n",
        "  def __init__(self,W):\n",
        "    self.params = [W]\n",
        "    self.grads = [np.zeros_like(W)]  #Return an array of zeros with the same shape and type as a given array.\n",
        "    self.x = None \n",
        "  \n",
        "  def forward(self,x):\n",
        "    W, = self.params\n",
        "    out = np.dot(x,w)\n",
        "    self.x = x\n",
        "    return out\n",
        "  \n",
        "  def backward(self,dout):  # 求更新的 W  \n",
        "    W, = self.params\n",
        "    dx = np.dot(dout, W.T)    \n",
        "    dw = np.dot(self.x.T, dout)\n",
        "    self.grads[0][...] = dw\n",
        "    return dx\n",
        "\n",
        "\n"
      ],
      "metadata": {
        "id": "JGUiQfAAi65n"
      },
      "execution_count": null,
      "outputs": []
    },
    {
      "cell_type": "code",
      "source": [
        ""
      ],
      "metadata": {
        "id": "J6fQREdlAje-"
      },
      "execution_count": null,
      "outputs": []
    },
    {
      "cell_type": "markdown",
      "source": [
        "#### Affine 层\n"
      ],
      "metadata": {
        "id": "lvN2RUVZFDya"
      }
    },
    {
      "cell_type": "code",
      "source": [
        "class Affine:\n",
        "    def __init__(self, W, b):\n",
        "        self.params = [W, b]\n",
        "        self.grads = [np.zeros_like(W), np.zeros_like(b)]\n",
        "        self.x = None\n",
        "\n",
        "    def forward(self, x):\n",
        "        W, b = self.params\n",
        "        out = np.dot(x, W) + b\n",
        "        self.x = x\n",
        "        return out\n",
        "\n",
        "    def backward(self, dout):\n",
        "        W, b = self.params\n",
        "        dx = np.dot(dout, W.T)\n",
        "        dW = np.dot(self.x.T, dout)\n",
        "        db = np.sum(dout, axis=0)\n",
        "\n",
        "        self.grads[0][...] = dW\n",
        "        self.grads[1][...] = db\n",
        "        return dx"
      ],
      "metadata": {
        "id": "HsAjqUR0FHcH"
      },
      "execution_count": null,
      "outputs": []
    },
    {
      "cell_type": "markdown",
      "source": [
        "#### Sigmoid 层\n"
      ],
      "metadata": {
        "id": "4_UHXeTakDx3"
      }
    },
    {
      "cell_type": "code",
      "source": [
        "class Sigmoid:\n",
        "  def __init__ (self):\n",
        "  self.params,\n",
        "  self.grads = [],[]"
      ],
      "metadata": {
        "id": "ew2JtOGPnTnL"
      },
      "execution_count": null,
      "outputs": []
    },
    {
      "cell_type": "markdown",
      "source": [
        "###### softmax"
      ],
      "metadata": {
        "id": "s4MT4MFSBGDZ"
      }
    },
    {
      "cell_type": "code",
      "source": [
        "def softmax(x):\n",
        "    if x.ndim == 2:\n",
        "        x = x - x.max(axis=1, keepdims=True)\n",
        "        x = np.exp(x)\n",
        "        x /= x.sum(axis=1, keepdims=True)\n",
        "    elif x.ndim == 1:\n",
        "        x = x - np.max(x)\n",
        "        x = np.exp(x) / np.sum(np.exp(x))\n",
        "\n",
        "    return x"
      ],
      "metadata": {
        "id": "glbxy-MUBBWv"
      },
      "execution_count": null,
      "outputs": []
    },
    {
      "cell_type": "markdown",
      "source": [
        "###### Cross entropy error "
      ],
      "metadata": {
        "id": "X_aJlD_jBIpa"
      }
    },
    {
      "cell_type": "code",
      "source": [
        "def cross_entropy_error(y, t):\n",
        "    if y.ndim == 1:\n",
        "        t = t.reshape(1, t.size)\n",
        "        y = y.reshape(1, y.size)\n",
        "        \n",
        "    # 教師データがone-hot-vectorの場合、正解ラベルのインデックスに変換\n",
        "    if t.size == y.size:\n",
        "        t = t.argmax(axis=1)\n",
        "             \n",
        "    batch_size = y.shape[0]\n",
        "\n",
        "    return -np.sum(np.log(y[np.arange(batch_size), t] + 1e-7)) / batch_size"
      ],
      "metadata": {
        "id": "rMBa9GOSBEbq"
      },
      "execution_count": null,
      "outputs": []
    },
    {
      "cell_type": "code",
      "source": [
        "!pip install dataset"
      ],
      "metadata": {
        "colab": {
          "base_uri": "https://localhost:8080/"
        },
        "id": "wFNusKDGZrq5",
        "outputId": "16e50c8a-5bb7-4fcf-b2be-5824593ae83a"
      },
      "execution_count": null,
      "outputs": [
        {
          "output_type": "stream",
          "name": "stdout",
          "text": [
            "Requirement already satisfied: dataset in /usr/local/lib/python3.7/dist-packages (1.5.2)\n",
            "Requirement already satisfied: alembic>=0.6.2 in /usr/local/lib/python3.7/dist-packages (from dataset) (1.7.7)\n",
            "Requirement already satisfied: banal>=1.0.1 in /usr/local/lib/python3.7/dist-packages (from dataset) (1.0.6)\n",
            "Requirement already satisfied: sqlalchemy>=1.3.2 in /usr/local/lib/python3.7/dist-packages (from dataset) (1.4.32)\n",
            "Requirement already satisfied: Mako in /usr/local/lib/python3.7/dist-packages (from alembic>=0.6.2->dataset) (1.2.0)\n",
            "Requirement already satisfied: importlib-resources in /usr/local/lib/python3.7/dist-packages (from alembic>=0.6.2->dataset) (5.4.0)\n",
            "Requirement already satisfied: importlib-metadata in /usr/local/lib/python3.7/dist-packages (from alembic>=0.6.2->dataset) (4.11.3)\n",
            "Requirement already satisfied: greenlet!=0.4.17 in /usr/local/lib/python3.7/dist-packages (from sqlalchemy>=1.3.2->dataset) (1.1.2)\n",
            "Requirement already satisfied: zipp>=0.5 in /usr/local/lib/python3.7/dist-packages (from importlib-metadata->alembic>=0.6.2->dataset) (3.7.0)\n",
            "Requirement already satisfied: typing-extensions>=3.6.4 in /usr/local/lib/python3.7/dist-packages (from importlib-metadata->alembic>=0.6.2->dataset) (3.10.0.2)\n",
            "Requirement already satisfied: MarkupSafe>=0.9.2 in /usr/local/lib/python3.7/dist-packages (from Mako->alembic>=0.6.2->dataset) (2.0.1)\n"
          ]
        }
      ]
    },
    {
      "cell_type": "code",
      "source": [
        "!pip dataset"
      ],
      "metadata": {
        "colab": {
          "base_uri": "https://localhost:8080/"
        },
        "id": "-Q799Ln5ZX1s",
        "outputId": "5c73a6b6-a2f0-466e-9f68-af61403dd613"
      },
      "execution_count": null,
      "outputs": [
        {
          "output_type": "stream",
          "name": "stdout",
          "text": [
            "Collecting dataset\n",
            "  Downloading dataset-1.5.2-py2.py3-none-any.whl (18 kB)\n",
            "Collecting alembic>=0.6.2\n",
            "  Downloading alembic-1.7.7-py3-none-any.whl (210 kB)\n",
            "\u001b[K     |████████████████████████████████| 210 kB 15.0 MB/s \n",
            "\u001b[?25hCollecting banal>=1.0.1\n",
            "  Downloading banal-1.0.6-py2.py3-none-any.whl (6.1 kB)\n",
            "Requirement already satisfied: sqlalchemy>=1.3.2 in /usr/local/lib/python3.7/dist-packages (from dataset) (1.4.32)\n",
            "Requirement already satisfied: importlib-resources in /usr/local/lib/python3.7/dist-packages (from alembic>=0.6.2->dataset) (5.4.0)\n",
            "Collecting Mako\n",
            "  Downloading Mako-1.2.0-py3-none-any.whl (78 kB)\n",
            "\u001b[K     |████████████████████████████████| 78 kB 8.4 MB/s \n",
            "\u001b[?25hRequirement already satisfied: importlib-metadata in /usr/local/lib/python3.7/dist-packages (from alembic>=0.6.2->dataset) (4.11.3)\n",
            "Requirement already satisfied: greenlet!=0.4.17 in /usr/local/lib/python3.7/dist-packages (from sqlalchemy>=1.3.2->dataset) (1.1.2)\n",
            "Requirement already satisfied: typing-extensions>=3.6.4 in /usr/local/lib/python3.7/dist-packages (from importlib-metadata->alembic>=0.6.2->dataset) (3.10.0.2)\n",
            "Requirement already satisfied: zipp>=0.5 in /usr/local/lib/python3.7/dist-packages (from importlib-metadata->alembic>=0.6.2->dataset) (3.7.0)\n",
            "Requirement already satisfied: MarkupSafe>=0.9.2 in /usr/local/lib/python3.7/dist-packages (from Mako->alembic>=0.6.2->dataset) (2.0.1)\n",
            "Installing collected packages: Mako, banal, alembic, dataset\n",
            "Successfully installed Mako-1.2.0 alembic-1.7.7 banal-1.0.6 dataset-1.5.2\n"
          ]
        }
      ]
    },
    {
      "cell_type": "markdown",
      "source": [
        "#### SoftmaxWithLoss"
      ],
      "metadata": {
        "id": "HA8UkP1SBQz8"
      }
    },
    {
      "cell_type": "code",
      "source": [
        "class SoftmaxWithLoss:\n",
        "    def __init__(self):\n",
        "        self.params, self.grads = [], []\n",
        "        self.y = None  # softmaxの出力\n",
        "        self.t = None  # 教師ラベル\n",
        "\n",
        "    def forward(self, x, t):\n",
        "        self.t = t\n",
        "        self.y = softmax(x)\n",
        "\n",
        "        # 教師ラベルがone-hotベクトルの場合、正解のインデックスに変換\n",
        "        if self.t.size == self.y.size:\n",
        "            self.t = self.t.argmax(axis=1)\n",
        "\n",
        "        loss = cross_entropy_error(self.y, self.t)\n",
        "        return loss\n",
        "\n",
        "    def backward(self, dout=1):\n",
        "        batch_size = self.t.shape[0]\n",
        "\n",
        "        dx = self.y.copy()\n",
        "        dx[np.arange(batch_size), self.t] -= 1\n",
        "        dx *= dout\n",
        "        dx = dx / batch_size\n",
        "\n",
        "        return dx"
      ],
      "metadata": {
        "id": "L0RAnUpLBUEj"
      },
      "execution_count": null,
      "outputs": []
    },
    {
      "cell_type": "markdown",
      "source": [
        "### 使用神经网络解决问题\n"
      ],
      "metadata": {
        "id": "0ceezK_TXjSD"
      }
    },
    {
      "cell_type": "code",
      "source": [
        "import sys\n",
        "sys.path.append('..')\n",
        "from dataset import spiral\n"
      ],
      "metadata": {
        "colab": {
          "base_uri": "https://localhost:8080/",
          "height": 339
        },
        "id": "B0k41mxMXiv7",
        "outputId": "a846e829-afd0-4b73-b7e4-982d542cec6c"
      },
      "execution_count": null,
      "outputs": [
        {
          "output_type": "error",
          "ename": "ImportError",
          "evalue": "ignored",
          "traceback": [
            "\u001b[0;31m---------------------------------------------------------------------------\u001b[0m",
            "\u001b[0;31mImportError\u001b[0m                               Traceback (most recent call last)",
            "\u001b[0;32m<ipython-input-11-8cc61c762251>\u001b[0m in \u001b[0;36m<module>\u001b[0;34m()\u001b[0m\n\u001b[1;32m      1\u001b[0m \u001b[0;32mimport\u001b[0m \u001b[0msys\u001b[0m\u001b[0;34m\u001b[0m\u001b[0;34m\u001b[0m\u001b[0m\n\u001b[1;32m      2\u001b[0m \u001b[0msys\u001b[0m\u001b[0;34m.\u001b[0m\u001b[0mpath\u001b[0m\u001b[0;34m.\u001b[0m\u001b[0mappend\u001b[0m\u001b[0;34m(\u001b[0m\u001b[0;34m'..'\u001b[0m\u001b[0;34m)\u001b[0m\u001b[0;34m\u001b[0m\u001b[0;34m\u001b[0m\u001b[0m\n\u001b[0;32m----> 3\u001b[0;31m \u001b[0;32mfrom\u001b[0m \u001b[0mdataset\u001b[0m \u001b[0;32mimport\u001b[0m \u001b[0mspiral\u001b[0m\u001b[0;34m\u001b[0m\u001b[0;34m\u001b[0m\u001b[0m\n\u001b[0m",
            "\u001b[0;31mImportError\u001b[0m: cannot import name 'spiral' from 'dataset' (/usr/local/lib/python3.7/dist-packages/dataset/__init__.py)",
            "",
            "\u001b[0;31m---------------------------------------------------------------------------\u001b[0;32m\nNOTE: If your import is failing due to a missing package, you can\nmanually install dependencies using either !pip or !apt.\n\nTo view examples of installing some common dependencies, click the\n\"Open Examples\" button below.\n\u001b[0;31m---------------------------------------------------------------------------\u001b[0m\n"
          ],
          "errorDetails": {
            "actions": [
              {
                "action": "open_url",
                "actionText": "Open Examples",
                "url": "/notebooks/snippets/importing_libraries.ipynb"
              }
            ]
          }
        }
      ]
    },
    {
      "cell_type": "code",
      "source": [
        "# coding: utf-8\n",
        "import numpy as np\n",
        "\n",
        "\n",
        "def load_data(seed=1984):\n",
        "    np.random.seed(seed)\n",
        "    N = 100  # クラスごとのサンプル数\n",
        "    DIM = 2  # 二维数据\n",
        "    CLS_NUM = 3  # t 三个类别\n",
        "\n",
        "    x = np.zeros((N*CLS_NUM, DIM))\n",
        "    t = np.zeros((N*CLS_NUM, CLS_NUM), dtype=np.int)\n",
        "\n",
        "    for j in range(CLS_NUM):\n",
        "        for i in range(N):#N*j, N*(j+1)):\n",
        "            rate = i / N\n",
        "            radius = 1.0*rate\n",
        "            theta = j*4.0 + 4.0*rate + np.random.randn()*0.2\n",
        "\n",
        "            ix = N*j + i\n",
        "            x[ix] = np.array([radius*np.sin(theta),\n",
        "                              radius*np.cos(theta)]).flatten()\n",
        "            t[ix, j] = 1\n",
        "\n",
        "    return x, t\n"
      ],
      "metadata": {
        "id": "a2v0Zjm1a925"
      },
      "execution_count": null,
      "outputs": []
    },
    {
      "cell_type": "code",
      "source": [
        "import matplotlib.pyplot as plt\n",
        "x,t = load_data()\n",
        "print('x',x.shape)\n",
        "print('t',t.shape)"
      ],
      "metadata": {
        "colab": {
          "base_uri": "https://localhost:8080/"
        },
        "id": "VQ0WIPPLYm8J",
        "outputId": "668078ab-11b9-4087-a551-0960ee59d508"
      },
      "execution_count": null,
      "outputs": [
        {
          "output_type": "stream",
          "name": "stdout",
          "text": [
            "x (300, 2)\n",
            "t (300, 3)\n"
          ]
        },
        {
          "output_type": "stream",
          "name": "stderr",
          "text": [
            "/usr/local/lib/python3.7/dist-packages/ipykernel_launcher.py:12: DeprecationWarning: `np.int` is a deprecated alias for the builtin `int`. To silence this warning, use `int` by itself. Doing this will not modify any behavior and is safe. When replacing `np.int`, you may wish to use e.g. `np.int64` or `np.int32` to specify the precision. If you wish to review your current use, check the release note link for additional information.\n",
            "Deprecated in NumPy 1.20; for more details and guidance: https://numpy.org/devdocs/release/1.20.0-notes.html#deprecations\n",
            "  if sys.path[0] == '':\n"
          ]
        }
      ]
    },
    {
      "cell_type": "code",
      "source": [
        "x"
      ],
      "metadata": {
        "id": "LmgzoZmJsfIb"
      },
      "execution_count": null,
      "outputs": []
    },
    {
      "cell_type": "code",
      "source": [
        "t"
      ],
      "metadata": {
        "id": "CBfUKj95skAm"
      },
      "execution_count": null,
      "outputs": []
    },
    {
      "cell_type": "markdown",
      "source": [
        "##### 隐藏层神经网络\n"
      ],
      "metadata": {
        "id": "Xj_sXIFduRl2"
      }
    },
    {
      "cell_type": "markdown",
      "source": [
        "## Charpter 2 单词的分布式表示 (before deep learning) "
      ],
      "metadata": {
        "id": "xxLdGBbhyxHc"
      }
    },
    {
      "cell_type": "markdown",
      "source": [
        "### 自然语言处理\n",
        "\n",
        "\n",
        "\n",
        "> 目标: 让计算机理解人说的话,进而完成对我们有帮助的事情\n",
        "\n",
        "\n",
        ">所以理解单词含义就很重要. 单词是含义的最小单位\n",
        "\n",
        "\n",
        "\n",
        "\n"
      ],
      "metadata": {
        "id": "9pQQUNDGy6Sv"
      }
    },
    {
      "cell_type": "markdown",
      "source": [
        "### 基于同义词词典的方法\n",
        "\n",
        "\n",
        "> 用同义词词典 把相同含义或者类似含义的单词归为一组\n",
        "\n",
        "\n",
        "> 上下位关系,整体部分关系--> 近义词集合, 并用**图**表示各个单词的关系,利用'单词网络'教会计算机单词之间的相关性. \n",
        "\n",
        "\n",
        "> 问题& 为什么不用? 时代在变化, 人力成本高,无法表示单词的微妙差异\n",
        "\n",
        "\n",
        "\n",
        "\n",
        "\n"
      ],
      "metadata": {
        "id": "e8JRw4Y4zV9T"
      }
    },
    {
      "cell_type": "code",
      "source": [
        "#WordNet\n"
      ],
      "metadata": {
        "id": "xqr56xjA2xmz"
      },
      "execution_count": null,
      "outputs": []
    },
    {
      "cell_type": "markdown",
      "source": [
        "### 基于计数的方法\n",
        "\n",
        "\n",
        "> 语料库(corpus): 大量的文本数据.\n",
        "\n",
        "\n",
        "> 目标: 从这些富有实践知识的语料库中,自动且高效的提取本质\n",
        "\n",
        "\n",
        "> 或许有额外的操作, 并不是单纯一个文本: eg: 标记词性,采用**树结构**等数据形式\n",
        "\n",
        "\n",
        "\n",
        "\n",
        "\n",
        "\n"
      ],
      "metadata": {
        "id": "sZTzL3cLz3Py"
      }
    },
    {
      "cell_type": "markdown",
      "source": [
        "#### 文本预处理 将文本编程语料库\n",
        "\n",
        "\n",
        "\n",
        "> 分词-->单词ID列表\n",
        "\n"
      ],
      "metadata": {
        "id": "D6kykANTmShZ"
      }
    },
    {
      "cell_type": "code",
      "source": [
        "text = 'You say goodbye and I say hello.'\n",
        "text = text.lower()\n",
        "text = text.replace('.',' .')\n",
        "print(text)\n",
        "words = text.split(' ')\n",
        "words"
      ],
      "metadata": {
        "colab": {
          "base_uri": "https://localhost:8080/"
        },
        "id": "F7RKcO6v4qY1",
        "outputId": "c3bcab1f-6354-4a2a-9f9c-19609554d470"
      },
      "execution_count": null,
      "outputs": [
        {
          "output_type": "stream",
          "name": "stdout",
          "text": [
            "you say goodbye and i say hello .\n"
          ]
        },
        {
          "output_type": "execute_result",
          "data": {
            "text/plain": [
              "['you', 'say', 'goodbye', 'and', 'i', 'say', 'hello', '.']"
            ]
          },
          "metadata": {},
          "execution_count": 3
        }
      ]
    },
    {
      "cell_type": "code",
      "source": [
        "# 用字典来创建单词id和单词的对应表\n",
        "word_to_id = {}\n",
        "id_to_word = {}\n",
        "for word in words: \n",
        "  if word not in word_to_id:\n",
        "    new_id = len(word_to_id)\n",
        "    word_to_id[word] = new_id \n",
        "    id_to_word[new_id] = word"
      ],
      "metadata": {
        "id": "6euX8ciPn5AW"
      },
      "execution_count": null,
      "outputs": []
    },
    {
      "cell_type": "code",
      "source": [
        "id_to_word"
      ],
      "metadata": {
        "colab": {
          "base_uri": "https://localhost:8080/"
        },
        "id": "ktJnS95qpTbK",
        "outputId": "1669dd56-03ba-4325-fb90-32802ac825c1"
      },
      "execution_count": null,
      "outputs": [
        {
          "output_type": "execute_result",
          "data": {
            "text/plain": [
              "{0: 'you', 1: 'say', 2: 'goodbye', 3: 'and', 4: 'i', 5: 'hello', 6: '.'}"
            ]
          },
          "metadata": {},
          "execution_count": 9
        }
      ]
    },
    {
      "cell_type": "code",
      "source": [
        "word_to_id"
      ],
      "metadata": {
        "colab": {
          "base_uri": "https://localhost:8080/"
        },
        "id": "9oXcI0TjpU2W",
        "outputId": "65ee3ce7-721a-41f5-a375-3feefaadbc1b"
      },
      "execution_count": null,
      "outputs": [
        {
          "output_type": "execute_result",
          "data": {
            "text/plain": [
              "{'.': 6, 'and': 3, 'goodbye': 2, 'hello': 5, 'i': 4, 'say': 1, 'you': 0}"
            ]
          },
          "metadata": {},
          "execution_count": 10
        }
      ]
    },
    {
      "cell_type": "code",
      "source": [
        "#单词ID列表\n",
        "\n",
        "corpus = [word_to_id[w] for w in words]\n",
        "corpus = np.array(corpus)   #numpy 数组\n",
        "corpus"
      ],
      "metadata": {
        "colab": {
          "base_uri": "https://localhost:8080/"
        },
        "id": "Eci3YZ5Mp6Bu",
        "outputId": "8a400130-d9c5-48c1-faf4-c05a2bc138eb"
      },
      "execution_count": null,
      "outputs": [
        {
          "output_type": "execute_result",
          "data": {
            "text/plain": [
              "array([0, 1, 2, 3, 4, 1, 5, 6])"
            ]
          },
          "metadata": {},
          "execution_count": 11
        }
      ]
    },
    {
      "cell_type": "code",
      "source": [
        ""
      ],
      "metadata": {
        "id": "Fgrk7QQoq1YP"
      },
      "execution_count": null,
      "outputs": []
    },
    {
      "cell_type": "code",
      "source": [
        "def preprocess(text):\n",
        "  text = text.lower()\n",
        "  text = text.replace('.',' .')\n",
        "  words = text.split(' ')\n",
        "  word_to_id = {}\n",
        "  id_to_word = {}\n",
        "  for word in words:\n",
        "    if word not in word_to_id:\n",
        "      new_id = len(word_to_id)\n",
        "      word_to_id[word] = new_id\n",
        "      id_to_word[new_id] = word\n",
        "  \n",
        "  corpus = [word_to_id[w] for w in words]\n",
        "  corpus = np.array(corpus)\n",
        "  return corpus, word_to_id,id_to_word\n"
      ],
      "metadata": {
        "id": "B8cHm4t9rAA2"
      },
      "execution_count": null,
      "outputs": []
    },
    {
      "cell_type": "code",
      "source": [
        "test = 'You are best and i am best Too'\n",
        "corpus,word_to_id,id_to_word = preprocess(test)\n",
        "corpus,word_to_id,id_to_word"
      ],
      "metadata": {
        "colab": {
          "base_uri": "https://localhost:8080/"
        },
        "id": "Rhx3z8HrsJOc",
        "outputId": "883c995a-f3f6-4f61-f634-04881c4c6bb9"
      },
      "execution_count": null,
      "outputs": [
        {
          "output_type": "execute_result",
          "data": {
            "text/plain": [
              "(array([0, 1, 2, 3, 4, 5, 2, 6]),\n",
              " {'am': 5, 'and': 3, 'are': 1, 'best': 2, 'i': 4, 'too': 6, 'you': 0},\n",
              " {0: 'you', 1: 'are', 2: 'best', 3: 'and', 4: 'i', 5: 'am', 6: 'too'})"
            ]
          },
          "metadata": {},
          "execution_count": 16
        }
      ]
    },
    {
      "cell_type": "code",
      "source": [
        "len(corpus)"
      ],
      "metadata": {
        "colab": {
          "base_uri": "https://localhost:8080/"
        },
        "id": "Z4EwGSEkxO93",
        "outputId": "e42da903-b00d-4245-947b-302bc0ffda0c"
      },
      "execution_count": null,
      "outputs": [
        {
          "output_type": "execute_result",
          "data": {
            "text/plain": [
              "8"
            ]
          },
          "metadata": {},
          "execution_count": 17
        }
      ]
    },
    {
      "cell_type": "markdown",
      "source": [
        "#### 单词的分布式表示\n",
        "\n",
        "\n",
        "> 颜色的三维向量表示   (R,G,B) = (201,23,30) 可以通过向量来判断颜色的相似度\n",
        "\n",
        "\n",
        ">单词的分布式表示: 将单词表示为固定长度的向量. (密集向量) 向量的各个元素(大多数)是由非0实数来表示的.  eg: [0.22,-0.34,0.83]\n",
        "\n",
        "\n",
        "\n"
      ],
      "metadata": {
        "id": "-FYwkcvcshvM"
      }
    },
    {
      "cell_type": "markdown",
      "source": [
        "#### 构建分布式表示的前提: 分布式假设(distributional hypothesis) \n",
        "\n",
        "\n",
        ">单词本身没有含义, 单词的含义由它所在的上下文(语境)形成的\n",
        "\n",
        "\n",
        "> window size: 上下文的大小, 周围单词有多少个\n",
        "\n",
        "\n",
        "\n",
        "\n"
      ],
      "metadata": {
        "id": "-vnWfAe3uBr4"
      }
    },
    {
      "cell_type": "markdown",
      "source": [
        "#### 用共现矩阵 表示\n",
        "\n",
        "\n",
        "> 基于计数的方法 = 基于统计的方法: 关注某个单词的情况下,对它的周围出现了多少次什么单词进行计数, 然后再汇总.\n",
        "\n",
        "\n",
        "> co-occurence matrix: 用向量表示了单词\n",
        "\n",
        "\n",
        "\n"
      ],
      "metadata": {
        "id": "qzOEdPCKu_zr"
      }
    },
    {
      "cell_type": "code",
      "source": [
        "for idx,word_id in enumerate(corpus):\n",
        "  print(idx)\n",
        "  print('word id:' ,word_id)"
      ],
      "metadata": {
        "colab": {
          "base_uri": "https://localhost:8080/"
        },
        "id": "PN8qHKEDxpCm",
        "outputId": "de37e14d-deac-4ebd-dd46-0d312beadabf"
      },
      "execution_count": null,
      "outputs": [
        {
          "output_type": "stream",
          "name": "stdout",
          "text": [
            "0\n",
            "word id: 0\n",
            "1\n",
            "word id: 1\n",
            "2\n",
            "word id: 2\n",
            "3\n",
            "word id: 3\n",
            "4\n",
            "word id: 4\n",
            "5\n",
            "word id: 5\n",
            "6\n",
            "word id: 2\n",
            "7\n",
            "word id: 6\n"
          ]
        }
      ]
    },
    {
      "cell_type": "markdown",
      "source": [
        "把corpus 中的单词一字排开 不重复的\n",
        "看关注词的上下文 出现的单词频数"
      ],
      "metadata": {
        "id": "sgaLcXkk9Eqz"
      }
    },
    {
      "cell_type": "code",
      "source": [
        ""
      ],
      "metadata": {
        "id": "7sjFnbt0HWeJ"
      },
      "execution_count": null,
      "outputs": []
    },
    {
      "cell_type": "code",
      "source": [
        "# create co-occurence matrix\n",
        "def create_co_matrix(corpus,vocab_size,window_size=1):   # vocab_size= 7 , len(corpus) = 8 \n",
        "  corpus_size = len(corpus)\n",
        "  co_matrix = np.zeros((vocab_size,vocab_size),dtype =np.int32)\n",
        "\n",
        "  for idx,word_id in enumerate(corpus):\n",
        "    for i in range(1,window_size + 1):\n",
        "      left_idx = idx -i \n",
        "      right_idx = idx +i\n",
        "      if left_idx >= 0:\n",
        "        left_word_id = corpus[left_idx]\n",
        "        co_matrix[word_id,left_word_id] += 1\n",
        "\n",
        "      if right_idx < corpus_size:\n",
        "        right_word_id = corpus[right_idx]\n",
        "        co_matrix[word_id,right_word_id] += 1\n",
        "\n",
        "  return co_matrix\n"
      ],
      "metadata": {
        "id": "JPmcr7Jqv9-s"
      },
      "execution_count": null,
      "outputs": []
    },
    {
      "cell_type": "code",
      "source": [
        "seasons = ['Spring', 'Spring', 'Fall', 'Winter']\n",
        "list(enumerate(seasons))"
      ],
      "metadata": {
        "colab": {
          "base_uri": "https://localhost:8080/"
        },
        "id": "N_vcx1yb7AeX",
        "outputId": "a7a0b8fc-d0bf-409a-ae74-98cf8df46099"
      },
      "execution_count": null,
      "outputs": [
        {
          "output_type": "execute_result",
          "data": {
            "text/plain": [
              "[(0, 'Spring'), (1, 'Spring'), (2, 'Fall'), (3, 'Winter')]"
            ]
          },
          "metadata": {},
          "execution_count": 1
        }
      ]
    },
    {
      "cell_type": "code",
      "source": [
        "co_matrix[1,1]"
      ],
      "metadata": {
        "colab": {
          "base_uri": "https://localhost:8080/"
        },
        "id": "aVX-WLfUIFxE",
        "outputId": "bf979697-19a7-4173-ce89-36b9408c68ac"
      },
      "execution_count": null,
      "outputs": [
        {
          "output_type": "execute_result",
          "data": {
            "text/plain": [
              "0"
            ]
          },
          "metadata": {},
          "execution_count": 28
        }
      ]
    },
    {
      "cell_type": "code",
      "source": [
        "co_matrix=create_co_matrix(corpus,7,1)\n",
        "co_matrix"
      ],
      "metadata": {
        "colab": {
          "base_uri": "https://localhost:8080/"
        },
        "id": "bwvATTk2sV7S",
        "outputId": "28ff6a00-4819-45c9-be83-763ef73d0dbe"
      },
      "execution_count": null,
      "outputs": [
        {
          "output_type": "execute_result",
          "data": {
            "text/plain": [
              "array([[0, 1, 0, 0, 0, 0, 0],\n",
              "       [1, 0, 1, 0, 1, 1, 0],\n",
              "       [0, 1, 0, 1, 0, 0, 0],\n",
              "       [0, 0, 1, 0, 1, 0, 0],\n",
              "       [0, 1, 0, 1, 0, 0, 0],\n",
              "       [0, 1, 0, 0, 0, 0, 1],\n",
              "       [0, 0, 0, 0, 0, 1, 0]], dtype=int32)"
            ]
          },
          "metadata": {},
          "execution_count": 20
        }
      ]
    },
    {
      "cell_type": "code",
      "source": [
        "co_matrix.shape[0]\n",
        "co_matrix.shape[1]"
      ],
      "metadata": {
        "colab": {
          "base_uri": "https://localhost:8080/"
        },
        "id": "MTPD_uto7MIv",
        "outputId": "3b95b662-7aa3-42e2-cd09-858f5ea94c8a"
      },
      "execution_count": null,
      "outputs": [
        {
          "output_type": "execute_result",
          "data": {
            "text/plain": [
              "7"
            ]
          },
          "metadata": {},
          "execution_count": 22
        }
      ]
    },
    {
      "cell_type": "markdown",
      "source": [
        "#### 单词的相似度: 余弦相似度\n",
        "\n",
        "\n",
        "> 两个向量多大程度指向同一个方向 取值范围[-1,1]\n",
        "\n",
        "\n",
        "\n"
      ],
      "metadata": {
        "id": "IhJCVliNsB5D"
      }
    },
    {
      "cell_type": "code",
      "source": [
        "def cos_similarity(x,y):\n",
        "  nx = x / np.sqrt(np.sum(x**2))\n",
        "  ny = y / np.sqrt(np.sum(y**2))\n",
        "  return np.dot(nx,ny)"
      ],
      "metadata": {
        "id": "zbk6gxiVlxlm"
      },
      "execution_count": null,
      "outputs": []
    },
    {
      "cell_type": "markdown",
      "source": [
        "防止分母为0,引入微小数\n",
        "\n"
      ],
      "metadata": {
        "id": "o7oEGpbToeXv"
      }
    },
    {
      "cell_type": "code",
      "source": [
        "def cos_similarity(x,y,eps = 1e-8):\n",
        "  nx = x / np.sqrt(np.sum(x**2) +eps)\n",
        "  ny = y / np.sqrt(np.sum(y**2) +eps)\n",
        "  return np.dot(nx,ny)"
      ],
      "metadata": {
        "id": "BxIryq-Hp3uD"
      },
      "execution_count": null,
      "outputs": []
    },
    {
      "cell_type": "code",
      "source": [
        "text = 'You say goodbye and i say hello.'\n",
        "corpus,word_to_id,id_to_word = preprocess(text)\n",
        "vocab_side = len(word_to_id)\n",
        "print(vocab_side,corpus,word_to_id,id_to_word )\n",
        "C = create_co_matrix(corpus,vocab_side,1)\n",
        "c0 = C[word_to_id['you']]\n",
        "c1 = C[word_to_id['i']]\n",
        "print(cos_similarity(c0,c1))\n"
      ],
      "metadata": {
        "colab": {
          "base_uri": "https://localhost:8080/"
        },
        "id": "i17k8YpYqMSZ",
        "outputId": "3b803a2a-fe0b-47db-836c-1ff9335b6300"
      },
      "execution_count": null,
      "outputs": [
        {
          "output_type": "stream",
          "name": "stdout",
          "text": [
            "7 [0 1 2 3 4 1 5 6] {'you': 0, 'say': 1, 'goodbye': 2, 'and': 3, 'i': 4, 'hello': 5, '.': 6} {0: 'you', 1: 'say', 2: 'goodbye', 3: 'and', 4: 'i', 5: 'hello', 6: '.'}\n",
            "0.7071067758832467\n"
          ]
        }
      ]
    },
    {
      "cell_type": "markdown",
      "source": [
        "#### 相似单词的排序\n",
        "语料库中最相似的几个单词"
      ],
      "metadata": {
        "id": "bmR0HOq2rxjL"
      }
    },
    {
      "cell_type": "code",
      "source": [
        "def most_similar(query,word_to_id,id_to_word,word_matrix,top=5):\n",
        "  if query not in word_to_id:\n",
        "    print ('%s is not found'  % query)\n",
        "    return print ('\\n[query]' + query)\n",
        "  query_id = word_to_id[query]\n",
        "  query_vec = word_matrix[query_id]\n",
        "\n",
        "  vocab_side = len(id_to_word)\n",
        "  similarity = np.zeros(vocab_side)\n",
        "  for i in range(vocab_side):\n",
        "    similarity[i] = cos_similarity(word_matrix[i],query_vec)\n",
        "\n",
        "  #基于余弦相似度, 按降序输出值\n",
        "  count = 0 \n",
        "  for i in (-1 * similarity).argsort():\n",
        "    if  id_to_word[i] == query:\n",
        "      continue\n",
        "    print ('%s:%s' %(id_to_word[i],similarity[i]))\n",
        "\n",
        "    count +=1\n",
        "    if count >= top:\n",
        "      return\n",
        " "
      ],
      "metadata": {
        "id": "TxVrPbZ3rxLj"
      },
      "execution_count": null,
      "outputs": []
    },
    {
      "cell_type": "code",
      "source": [
        "most_similar('you',word_to_id,id_to_word,C,top =5)"
      ],
      "metadata": {
        "colab": {
          "base_uri": "https://localhost:8080/"
        },
        "id": "2uEfBF8gwyuj",
        "outputId": "9d696495-d286-485e-f25a-841cdbced387"
      },
      "execution_count": null,
      "outputs": [
        {
          "output_type": "stream",
          "name": "stdout",
          "text": [
            "goodbye:0.7071067758832467\n",
            "i:0.7071067758832467\n",
            "hello:0.7071067758832467\n",
            "say:0.0\n",
            "and:0.0\n"
          ]
        }
      ]
    },
    {
      "cell_type": "markdown",
      "source": [
        "### 基于计数的方法改进\n",
        "\n",
        "\n",
        "> 改进共现矩阵: 单纯的词频 不足以表现相似度, 比如 the 这个词,出现了很多次. 那么它与其他数的共现次数就会很大. \n",
        "\n",
        "\n"
      ],
      "metadata": {
        "id": "Ai_yGk35xwAc"
      }
    },
    {
      "cell_type": "markdown",
      "source": [
        "#### PMI: pointwise mutual information\n",
        "\n",
        "P(x,y): 表示x,y 同时发生的概率, pmi越高,相关性越强\n",
        "\n",
        "\n"
      ],
      "metadata": {
        "id": "Tc1NosvtyzR0"
      }
    },
    {
      "cell_type": "markdown",
      "source": [
        "PPMI: PMI也有一个问题, 当两个单词的共现次数为0时, log2 **0**  = 无穷小\n",
        "\n",
        "\n",
        "> PPMI 的功能时: 当PMI 为负数时, 将其视为 0 \n",
        "\n"
      ],
      "metadata": {
        "id": "yY_UM5Ucz3UT"
      }
    },
    {
      "cell_type": "code",
      "source": [
        "def ppmi(C,verbose = False, eps =1e-8):\n",
        "  M =np.zeros_like(C,dtype = np.float32)\n",
        "  N = np.sum(C)\n",
        "  S = np.sum(C,axis=0)\n",
        "  total = C.shape[0] * C.shape[1]\n",
        "  cnt = 0\n",
        "  for i in range(C.shape[0]):\n",
        "    for j in range(C.shape[1]):\n",
        "      pmi = np.log2(C[i, j] * N / (S[j]*S[i]) + eps)  #pmi\n",
        "      M[i, j] = max(0, pmi)    # ppmi\n",
        "      if verbose:\n",
        "        cnt += 1\n",
        "        if cnt % (total//100+1) == 0:\n",
        "          print('%.1f%% done' % (100*cnt/total))\n",
        "  return M"
      ],
      "metadata": {
        "id": "l-kRicwB1Eue"
      },
      "execution_count": null,
      "outputs": []
    },
    {
      "cell_type": "code",
      "source": [
        "text = 'You say goodbye and I say hello.'\n",
        "corpus, word_to_id, id_to_word = preprocess(text)\n",
        "vocab_size = len(word_to_id)\n",
        "C = create_co_matrix(corpus, vocab_size)\n",
        "W = ppmi(C)\n",
        "np.set_printoptions(precision=3) # 有效位数为3位\n",
        "print('covariance matrix')\n",
        "print(C)\n",
        "print('-'*50)\n",
        "print('PPMI')\n",
        "print(W)"
      ],
      "metadata": {
        "colab": {
          "base_uri": "https://localhost:8080/"
        },
        "id": "q9D2sim28QHf",
        "outputId": "fbadef6a-a92b-40a4-87e6-7ccce3d53845"
      },
      "execution_count": null,
      "outputs": [
        {
          "output_type": "stream",
          "name": "stdout",
          "text": [
            "covariance matrix\n",
            "[[0 1 0 0 0 0 0]\n",
            " [1 0 1 0 1 1 0]\n",
            " [0 1 0 1 0 0 0]\n",
            " [0 0 1 0 1 0 0]\n",
            " [0 1 0 1 0 0 0]\n",
            " [0 1 0 0 0 0 1]\n",
            " [0 0 0 0 0 1 0]]\n",
            "--------------------------------------------------\n",
            "PPMI\n",
            "[[0.    1.807 0.    0.    0.    0.    0.   ]\n",
            " [1.807 0.    0.807 0.    0.807 0.807 0.   ]\n",
            " [0.    0.807 0.    1.807 0.    0.    0.   ]\n",
            " [0.    0.    1.807 0.    1.807 0.    0.   ]\n",
            " [0.    0.807 0.    1.807 0.    0.    0.   ]\n",
            " [0.    0.807 0.    0.    0.    0.    2.807]\n",
            " [0.    0.    0.    0.    0.    2.807 0.   ]]\n"
          ]
        }
      ]
    },
    {
      "cell_type": "markdown",
      "source": [
        "#### 降维: \n",
        "为什么要降维?\n",
        "\n",
        "\n",
        "1.   共现矩阵中, 随着语料库的词汇量增加,各个单词向量的维数也会增加. \n",
        "2.   共现矩阵中, 有很多元素是0, 这些元素重要性很低\n",
        "\n",
        "\n",
        "\n",
        "> 在稀疏向量中找出重要的轴, 用更少的维度对其重新表示.\n",
        "\n",
        "\n"
      ],
      "metadata": {
        "id": "AsPfPuD31wTh"
      }
    },
    {
      "cell_type": "markdown",
      "source": [
        "##### SVD降维: singular value Decomposition"
      ],
      "metadata": {
        "id": "9QOJq5hmHq9B"
      }
    },
    {
      "cell_type": "code",
      "source": [
        ""
      ],
      "metadata": {
        "id": "cpyBqKZCIci2"
      },
      "execution_count": null,
      "outputs": []
    },
    {
      "cell_type": "markdown",
      "source": [
        "#### 基于计数的方法的总结: \n",
        "\n",
        "\n",
        "> 从语料库自动提取单词含义,将其表示为向量,创建单词的共现矩阵,并将其转化为PPMI矩阵,在基于SVD降维以提高稳健性, 最后获得了每个单词的分布式表示. 这里的假设是: 含义或者语法相近的单词在向量空间上位置相近.\n",
        "\n"
      ],
      "metadata": {
        "id": "0Z0mexvrHzYo"
      }
    },
    {
      "cell_type": "markdown",
      "source": [
        "### 基于推理的方法( word2vec)"
      ],
      "metadata": {
        "id": "ft3a949Iz7PO"
      }
    },
    {
      "cell_type": "markdown",
      "source": [
        "基于计数的方法是一次性处理全部学习数据,反之,基于推理的方法使用部分学习数据逐步学习. 都基于单词的含义由上下文构成这个假设\n",
        "\n",
        "\n",
        "> 推理: 当给出周围的单词(上下文)时,预测 关注词会出现什么单词.\n",
        "\n",
        "\n",
        "\n",
        "> 给上下文-->通过模型(神经网络: 用语料库来学习)---> 输出每个单词的出现概率  --> 得到单词的分布式表示\n",
        "\n",
        "\n",
        "\n"
      ],
      "metadata": {
        "id": "dCYW4Qhcn3qd"
      }
    },
    {
      "cell_type": "markdown",
      "source": [
        "#### 神经网络的单词的处理方法:\n",
        "将单词转化为固定长度的向量. one-hot (一个元素时1, 其他都是0)\n",
        "![image.png](data:image/png;base64,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)"
      ],
      "metadata": {
        "id": "wkuuMSRpP4-h"
      }
    },
    {
      "cell_type": "markdown",
      "source": [
        "7个单词对应着7个输入层\n",
        "假设有三个隐藏层\n",
        "W 就为 7x3的矩阵  (matmul) 省略偏置 \n"
      ],
      "metadata": {
        "id": "Ec-k4zZ4_b8A"
      }
    },
    {
      "cell_type": "markdown",
      "source": [
        "有了输入层以后, word2vec 就相当于一个神经网络模型."
      ],
      "metadata": {
        "id": "66cbSgJMAT7y"
      }
    },
    {
      "cell_type": "markdown",
      "source": [
        "## Word2vec"
      ],
      "metadata": {
        "id": "J8Mtwdtb0Dzl"
      }
    },
    {
      "cell_type": "markdown",
      "source": [
        "### CBOW continuous bag of words\n",
        "\n",
        "\n",
        "> cbow模型是根据上下文预测目标词的神经网络\n",
        "> cbow的上下文只有两个单词,所以有两个输入层\n",
        "> 从输入层到中间层的变化有全连接层完成, 这个全连接层的W权重就是单词的分布式,通过反复学习,不断更新各个单词的分布式.\n",
        "![image.png](data:image/png;base64,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)\n"
      ],
      "metadata": {
        "id": "nOVwTWy1BtfR"
      }
    },
    {
      "cell_type": "code",
      "source": [
        "class MatMul:\n",
        "    def __init__(self, W):\n",
        "        self.params = [W]\n",
        "        self.grads = [np.zeros_like(W)]\n",
        "        self.x = None\n",
        "\n",
        "    def forward(self, x):\n",
        "        W, = self.params\n",
        "        out = np.dot(x, W)\n",
        "        self.x = x\n",
        "        return out\n",
        "\n",
        "    def backward(self, dout):\n",
        "        W, = self.params\n",
        "        dx = np.dot(dout, W.T)\n",
        "        dW = np.dot(self.x.T, dout)\n",
        "        self.grads[0][...] = dW\n",
        "        return dx"
      ],
      "metadata": {
        "id": "PzMIvzkQE8Hx"
      },
      "execution_count": null,
      "outputs": []
    },
    {
      "cell_type": "code",
      "source": [
        "c2 =np.array([1,0,0,0,0,0,0])\n",
        "print(c2.shape) # 一维数组\n",
        "\n",
        "#样本上下文\n",
        "c0 =np.array([[1,0,0,0,0,0,0]])\n",
        "print(c0.shape) # 二维数组"
      ],
      "metadata": {
        "colab": {
          "base_uri": "https://localhost:8080/"
        },
        "id": "cFXKLdhlOYi0",
        "outputId": "30782d55-a55f-4dc3-ad86-7a16cfa082a5"
      },
      "execution_count": null,
      "outputs": [
        {
          "output_type": "stream",
          "name": "stdout",
          "text": [
            "(7,)\n",
            "(1, 7)\n"
          ]
        }
      ]
    },
    {
      "cell_type": "markdown",
      "source": [
        "#### CBOW 模型的推理 求出得分的过程"
      ],
      "metadata": {
        "id": "sM7Tnr3bF0Fy"
      }
    },
    {
      "cell_type": "code",
      "source": [
        "c2 =np.array([1,0,0,0,0,0,0])\n",
        "c2.shape # 一维数组\n",
        "\n",
        "#样本上下文\n",
        "c0 =np.array([[1,0,0,0,0,0,0]])\n",
        "c0.shape # 二维数组\n",
        "c1 =np.array([[0,0,1,0,0,0,0]])\n",
        "\n",
        "#权重的初始值\n",
        "W_in= np.random.randn(7,3)\n",
        "W_out = np.random.randn(3,7)\n",
        "\n",
        "# 生成层\n",
        "in_layer0 = MatMul(W_in)\n",
        "in_layer1 = MatMul(W_in)\n",
        "out_layer0 = MatMul(W_out)\n",
        "\n",
        "#正向传播\n",
        "h0 = in_layer0.forward(c0)\n",
        "h1 = in_layer1.forward(c1)\n",
        "h = 0.5 * (h0 + h1)\n",
        "s = out_layer0.forward(h)\n",
        "s\n"
      ],
      "metadata": {
        "colab": {
          "base_uri": "https://localhost:8080/"
        },
        "id": "yRnq774pFyEe",
        "outputId": "d8628a63-7caf-43ee-ded5-4471d622a909"
      },
      "execution_count": null,
      "outputs": [
        {
          "output_type": "execute_result",
          "data": {
            "text/plain": [
              "array([[-1.82737149,  0.32856919,  0.45996611, -1.40133485, -1.71717601,\n",
              "         2.96869583, -0.9784055 ]])"
            ]
          },
          "metadata": {},
          "execution_count": 19
        }
      ]
    },
    {
      "cell_type": "markdown",
      "source": [
        "#### CBOW 模型的学习\n",
        "> CBOW模型只是学习语料库中单词的出现模式,如果语料库不一样,学习到的单词的分布式表示也不一样"
      ],
      "metadata": {
        "id": "uy3NI9YYI_ft"
      }
    },
    {
      "cell_type": "markdown",
      "source": [
        "##### 学习数据的准备\n",
        "> 输入: 上下文 target: 上下文包围在中间的单词(目标词) \n",
        ">目标: 当向神经网络输入上下文时,使目标词出现的概率高\n"
      ],
      "metadata": {
        "id": "jPYTQxp8K8aO"
      }
    },
    {
      "cell_type": "code",
      "source": [
        "text ='You say goodbye and I say hello.'\n",
        "corpus, word_to_id,id_to_word = preprocess(text)\n",
        "print(corpus)\n",
        "print(id_to_word)"
      ],
      "metadata": {
        "colab": {
          "base_uri": "https://localhost:8080/"
        },
        "id": "OLxxaBAALZKW",
        "outputId": "0897e7a1-957c-4e5d-f53f-e2ad55607bfa"
      },
      "execution_count": null,
      "outputs": [
        {
          "output_type": "stream",
          "name": "stdout",
          "text": [
            "[0 1 2 3 4 1 5 6]\n",
            "{0: 'you', 1: 'say', 2: 'goodbye', 3: 'and', 4: 'i', 5: 'hello', 6: '.'}\n"
          ]
        }
      ]
    },
    {
      "cell_type": "markdown",
      "source": [
        "###### create content and target "
      ],
      "metadata": {
        "id": "TF26p7ePKNox"
      }
    },
    {
      "cell_type": "code",
      "source": [
        "# create content and target \n",
        "def create_contexts_target(corpus, window_size=1):\n",
        "    target = corpus[window_size:-window_size]\n",
        "    contexts = []\n",
        "\n",
        "    for idx in range(window_size, len(corpus)-window_size):\n",
        "        cs = []\n",
        "        for t in range(-window_size, window_size + 1):\n",
        "            if t == 0:\n",
        "                continue\n",
        "            cs.append(corpus[idx + t])\n",
        "        contexts.append(cs)\n",
        "\n",
        "    return np.array(contexts), np.array(target)"
      ],
      "metadata": {
        "id": "pV6V27R2Shbi"
      },
      "execution_count": null,
      "outputs": []
    },
    {
      "cell_type": "markdown",
      "source": [
        "######  convert word id to one hot"
      ],
      "metadata": {
        "id": "XKQoVBvcKJ4V"
      }
    },
    {
      "cell_type": "code",
      "source": [
        "# convert word id to one hot\n",
        "def convert_one_hot(corpus, vocab_size):\n",
        "    N = corpus.shape[0]\n",
        "\n",
        "    if corpus.ndim == 1:\n",
        "        one_hot = np.zeros((N, vocab_size), dtype=np.int32)\n",
        "        for idx, word_id in enumerate(corpus):\n",
        "            one_hot[idx, word_id] = 1\n",
        "\n",
        "    elif corpus.ndim == 2:\n",
        "        C = corpus.shape[1]\n",
        "        one_hot = np.zeros((N, C, vocab_size), dtype=np.int32)\n",
        "        for idx_0, word_ids in enumerate(corpus):\n",
        "            for idx_1, word_id in enumerate(word_ids):\n",
        "                one_hot[idx_0, idx_1, word_id] = 1\n",
        "\n",
        "    return one_hot\n"
      ],
      "metadata": {
        "id": "AmHvV8f9WHO5"
      },
      "execution_count": null,
      "outputs": []
    },
    {
      "cell_type": "code",
      "source": [
        "contexts, target = create_contexts_target(corpus,window_size=1)\n",
        "vocab_size = len(word_to_id)\n",
        "target = convert_one_hot(target,vocab_size)\n",
        "contexts = convert_one_hot(contexts,vocab_size)\n",
        "contexts"
      ],
      "metadata": {
        "colab": {
          "base_uri": "https://localhost:8080/"
        },
        "id": "NFRrSybyW5ph",
        "outputId": "be211db1-b1df-4d62-9f8a-c13bc3c3c553"
      },
      "execution_count": null,
      "outputs": [
        {
          "output_type": "execute_result",
          "data": {
            "text/plain": [
              "array([[[1, 0, 0, 0, 0, 0, 0],\n",
              "        [0, 0, 1, 0, 0, 0, 0]],\n",
              "\n",
              "       [[0, 1, 0, 0, 0, 0, 0],\n",
              "        [0, 0, 0, 1, 0, 0, 0]],\n",
              "\n",
              "       [[0, 0, 1, 0, 0, 0, 0],\n",
              "        [0, 0, 0, 0, 1, 0, 0]],\n",
              "\n",
              "       [[0, 0, 0, 1, 0, 0, 0],\n",
              "        [0, 1, 0, 0, 0, 0, 0]],\n",
              "\n",
              "       [[0, 0, 0, 0, 1, 0, 0],\n",
              "        [0, 0, 0, 0, 0, 1, 0]],\n",
              "\n",
              "       [[0, 1, 0, 0, 0, 0, 0],\n",
              "        [0, 0, 0, 0, 0, 0, 1]]], dtype=int32)"
            ]
          },
          "metadata": {},
          "execution_count": 27
        }
      ]
    },
    {
      "cell_type": "markdown",
      "source": [
        "##### Simple CBOW 模型的实现\n"
      ],
      "metadata": {
        "id": "TBlBDj-7_vxn"
      }
    },
    {
      "cell_type": "code",
      "source": [
        "W_in = 0.01 * np.random.randn(5, 6).astype('f')\n",
        "W_in"
      ],
      "metadata": {
        "colab": {
          "base_uri": "https://localhost:8080/"
        },
        "id": "PfnFPsSUNBRA",
        "outputId": "86092852-48e4-4b26-e5f6-32733f09f1ac"
      },
      "execution_count": null,
      "outputs": [
        {
          "output_type": "execute_result",
          "data": {
            "text/plain": [
              "array([[-0.00353308, -0.00416555, -0.01046171,  0.01070634,  0.00608121,\n",
              "         0.01644649],\n",
              "       [ 0.00318731, -0.00035069,  0.00928434,  0.00993016,  0.00580308,\n",
              "        -0.01137446],\n",
              "       [-0.00042086, -0.00555464,  0.01732996,  0.01428477, -0.00934618,\n",
              "        -0.00402116],\n",
              "       [ 0.00179994,  0.00794101, -0.00187573, -0.00923088, -0.01845981,\n",
              "         0.01434825],\n",
              "       [ 0.00304508,  0.00105705, -0.00128674, -0.00280351,  0.01491726,\n",
              "        -0.00555424]], dtype=float32)"
            ]
          },
          "metadata": {},
          "execution_count": 21
        }
      ]
    },
    {
      "cell_type": "code",
      "source": [
        "# import Matmul, Softmax with Loss\n",
        "\n",
        "class SimpleCBOW:\n",
        "    def __init__(self, vocab_size, hidden_size):\n",
        "        V, H = vocab_size, hidden_size\n",
        "\n",
        "        # 初始化权重\n",
        "        W_in = 0.01 * np.random.randn(V, H).astype('f')   #将使用32位浮点型\n",
        "        W_out = 0.01 * np.random.randn(H, V).astype('f')\n",
        "\n",
        "        # 生成层\n",
        "        self.in_layer0 = MatMul(W_in)\n",
        "        self.in_layer1 = MatMul(W_in)\n",
        "        self.out_layer = MatMul(W_out)\n",
        "        self.loss_layer = SoftmaxWithLoss()\n",
        "\n",
        "        # 将所有权重和梯度整理到列表中\n",
        "        layers = [self.in_layer0, self.in_layer1, self.out_layer]\n",
        "        self.params, self.grads = [], []\n",
        "        for layer in layers:\n",
        "            self.params += layer.params\n",
        "            self.grads += layer.grads\n",
        "\n",
        "        # 将单词的分布式表示设置为成员变量\n",
        "        self.word_vecs = W_in\n",
        "\n",
        "    def forward(self, contexts, target):\n",
        "        h0 = self.in_layer0.forward(contexts[:, 0])\n",
        "        h1 = self.in_layer1.forward(contexts[:, 1])\n",
        "        h = (h0 + h1) * 0.5\n",
        "        score = self.out_layer.forward(h)\n",
        "        loss = self.loss_layer.forward(score, target)\n",
        "        return loss\n",
        "\n",
        "    def backward(self, dout=1):\n",
        "        ds = self.loss_layer.backward(dout)\n",
        "        da = self.out_layer.backward(ds)\n",
        "        da *= 0.5\n",
        "        self.in_layer1.backward(da)\n",
        "        self.in_layer0.backward(da)\n",
        "        return None"
      ],
      "metadata": {
        "id": "58oAPGzuBlC0"
      },
      "execution_count": null,
      "outputs": []
    },
    {
      "cell_type": "markdown",
      "source": [
        "##### 学习实现\n"
      ],
      "metadata": {
        "id": "QYeQ1VWUI2YA"
      }
    },
    {
      "cell_type": "markdown",
      "source": [
        ""
      ],
      "metadata": {
        "id": "zO1nhHDOI91i"
      }
    },
    {
      "cell_type": "code",
      "source": [
        "# clip_grads\n",
        "def clip_grads(grads, max_norm):\n",
        "    total_norm = 0\n",
        "    for grad in grads:\n",
        "        total_norm += np.sum(grad ** 2)\n",
        "    total_norm = np.sqrt(total_norm)\n",
        "\n",
        "    rate = max_norm / (total_norm + 1e-6)\n",
        "    if rate < 1:\n",
        "        for grad in grads:\n",
        "            grad *= rate"
      ],
      "metadata": {
        "id": "kIPXwvcSJcLa"
      },
      "execution_count": null,
      "outputs": []
    },
    {
      "cell_type": "code",
      "source": [
        "import numpy\n",
        "import time\n",
        "import matplotlib.pyplot as plt\n",
        "\n",
        "class Trainer:\n",
        "    def __init__(self, model, optimizer):\n",
        "        self.model = model\n",
        "        self.optimizer = optimizer\n",
        "        self.loss_list = []\n",
        "        self.eval_interval = None\n",
        "        self.current_epoch = 0\n",
        "\n",
        "    def fit(self, x, t, max_epoch=10, batch_size=32, max_grad=None, eval_interval=20):\n",
        "        data_size = len(x)\n",
        "        max_iters = data_size // batch_size\n",
        "        self.eval_interval = eval_interval\n",
        "        model, optimizer = self.model, self.optimizer\n",
        "        total_loss = 0\n",
        "        loss_count = 0\n",
        "\n",
        "        start_time = time.time()\n",
        "        for epoch in range(max_epoch):\n",
        "            # シャッフル\n",
        "            idx = numpy.random.permutation(numpy.arange(data_size))\n",
        "            x = x[idx]\n",
        "            t = t[idx]\n",
        "\n",
        "            for iters in range(max_iters):\n",
        "                batch_x = x[iters*batch_size:(iters+1)*batch_size]\n",
        "                batch_t = t[iters*batch_size:(iters+1)*batch_size]\n",
        "\n",
        "                # 勾配を求め、パラメータを更新\n",
        "                loss = model.forward(batch_x, batch_t)\n",
        "                model.backward()\n",
        "                params, grads = remove_duplicate(model.params, model.grads)  # 共有された重みを1つに集約\n",
        "                if max_grad is not None:\n",
        "                    clip_grads(grads, max_grad)\n",
        "                optimizer.update(params, grads)\n",
        "                total_loss += loss\n",
        "                loss_count += 1\n",
        "\n",
        "                # 評価\n",
        "                if (eval_interval is not None) and (iters % eval_interval) == 0:\n",
        "                    avg_loss = total_loss / loss_count\n",
        "                    elapsed_time = time.time() - start_time\n",
        "                    print('| epoch %d |  iter %d / %d | time %d[s] | loss %.2f'\n",
        "                          % (self.current_epoch + 1, iters + 1, max_iters, elapsed_time, avg_loss))\n",
        "                    self.loss_list.append(float(avg_loss))\n",
        "                    total_loss, loss_count = 0, 0\n",
        "\n",
        "            self.current_epoch += 1\n",
        "\n",
        "    def plot(self, ylim=None):\n",
        "        x = numpy.arange(len(self.loss_list))\n",
        "        if ylim is not None:\n",
        "            plt.ylim(*ylim)\n",
        "        plt.plot(x, self.loss_list, label='train')\n",
        "        plt.xlabel('iterations (x' + str(self.eval_interval) + ')')\n",
        "        plt.ylabel('loss')\n",
        "        plt.show()"
      ],
      "metadata": {
        "id": "6rd8xBtTJNaH"
      },
      "execution_count": null,
      "outputs": []
    },
    {
      "cell_type": "code",
      "source": [
        "class Adam:\n",
        "    '''\n",
        "    Adam (http://arxiv.org/abs/1412.6980v8)\n",
        "    '''\n",
        "    def __init__(self, lr=0.001, beta1=0.9, beta2=0.999):\n",
        "        self.lr = lr\n",
        "        self.beta1 = beta1\n",
        "        self.beta2 = beta2\n",
        "        self.iter = 0\n",
        "        self.m = None\n",
        "        self.v = None\n",
        "        \n",
        "    def update(self, params, grads):\n",
        "        if self.m is None:\n",
        "            self.m, self.v = [], []\n",
        "            for param in params:\n",
        "                self.m.append(np.zeros_like(param))\n",
        "                self.v.append(np.zeros_like(param))\n",
        "        \n",
        "        self.iter += 1\n",
        "        lr_t = self.lr * np.sqrt(1.0 - self.beta2**self.iter) / (1.0 - self.beta1**self.iter)\n",
        "\n",
        "        for i in range(len(params)):\n",
        "            self.m[i] += (1 - self.beta1) * (grads[i] - self.m[i])\n",
        "            self.v[i] += (1 - self.beta2) * (grads[i]**2 - self.v[i])\n",
        "            \n",
        "            params[i] -= lr_t * self.m[i] / (np.sqrt(self.v[i]) + 1e-7)"
      ],
      "metadata": {
        "id": "_Xr1xFYAJpsx"
      },
      "execution_count": null,
      "outputs": []
    },
    {
      "cell_type": "markdown",
      "source": [
        "###### Preprocess "
      ],
      "metadata": {
        "id": "QPfvai_jKWq0"
      }
    },
    {
      "cell_type": "code",
      "source": [
        "def preprocess(text):\n",
        "    text = text.lower()\n",
        "    text = text.replace('.', ' .')\n",
        "    words = text.split(' ')\n",
        "\n",
        "    word_to_id = {}\n",
        "    id_to_word = {}\n",
        "    for word in words:\n",
        "        if word not in word_to_id:\n",
        "            new_id = len(word_to_id)\n",
        "            word_to_id[word] = new_id\n",
        "            id_to_word[new_id] = word\n",
        "\n",
        "    corpus = np.array([word_to_id[w] for w in words])\n",
        "\n",
        "    return corpus, word_to_id, id_to_word"
      ],
      "metadata": {
        "id": "1xWfyWqcJ_nG"
      },
      "execution_count": null,
      "outputs": []
    },
    {
      "cell_type": "code",
      "source": [
        ""
      ],
      "metadata": {
        "id": "OJZ-yfC-KBYs"
      },
      "execution_count": null,
      "outputs": []
    },
    {
      "cell_type": "code",
      "source": [
        " \n",
        "#from common.util import preprocess, create_contexts_target, convert_one_hot\n",
        "\n",
        "\n",
        "window_size = 1\n",
        "hidden_size = 5\n",
        "batch_size = 3\n",
        "max_epoch = 1000\n",
        "\n",
        "text = 'You say goodbye and I say hello.'\n",
        "corpus, word_to_id, id_to_word = preprocess(text)\n",
        "\n",
        "vocab_size = len(word_to_id)\n",
        "print('vocab_size' ,vocab_size)\n",
        "contexts, target = create_contexts_target(corpus, window_size)\n",
        "target = convert_one_hot(target, vocab_size)\n",
        "print('target:' ,target)\n",
        "contexts = convert_one_hot(contexts, vocab_size)\n",
        "print('contexts:', contexts)\n",
        "model = SimpleCBOW(vocab_size, hidden_size)\n",
        "optimizer = Adam()\n",
        "trainer = Trainer(model, optimizer)\n",
        "\n",
        "trainer.fit(contexts, target, max_epoch, batch_size)\n",
        "trainer.plot()\n",
        "\n",
        "word_vecs = model.word_vecs\n",
        "for word_id, word in id_to_word.items():\n",
        "    print(word, word_vecs[word_id])\n"
      ],
      "metadata": {
        "colab": {
          "base_uri": "https://localhost:8080/",
          "height": 841
        },
        "id": "kyU80Bt_Js6i",
        "outputId": "30d2f300-c0c5-45cd-91cf-20071f03ba4f"
      },
      "execution_count": null,
      "outputs": [
        {
          "output_type": "stream",
          "name": "stdout",
          "text": [
            "vocab_size 7\n",
            "target: [[0 1 0 0 0 0 0]\n",
            " [0 0 1 0 0 0 0]\n",
            " [0 0 0 1 0 0 0]\n",
            " [0 0 0 0 1 0 0]\n",
            " [0 1 0 0 0 0 0]\n",
            " [0 0 0 0 0 1 0]]\n",
            "contexts: [[[1 0 0 0 0 0 0]\n",
            "  [0 0 1 0 0 0 0]]\n",
            "\n",
            " [[0 1 0 0 0 0 0]\n",
            "  [0 0 0 1 0 0 0]]\n",
            "\n",
            " [[0 0 1 0 0 0 0]\n",
            "  [0 0 0 0 1 0 0]]\n",
            "\n",
            " [[0 0 0 1 0 0 0]\n",
            "  [0 1 0 0 0 0 0]]\n",
            "\n",
            " [[0 0 0 0 1 0 0]\n",
            "  [0 0 0 0 0 1 0]]\n",
            "\n",
            " [[0 1 0 0 0 0 0]\n",
            "  [0 0 0 0 0 0 1]]]\n"
          ]
        },
        {
          "output_type": "error",
          "ename": "NameError",
          "evalue": "ignored",
          "traceback": [
            "\u001b[0;31m---------------------------------------------------------------------------\u001b[0m",
            "\u001b[0;31mNameError\u001b[0m                                 Traceback (most recent call last)",
            "\u001b[0;32m<ipython-input-23-672d3e32ebf1>\u001b[0m in \u001b[0;36m<module>\u001b[0;34m()\u001b[0m\n\u001b[1;32m     22\u001b[0m \u001b[0mtrainer\u001b[0m \u001b[0;34m=\u001b[0m \u001b[0mTrainer\u001b[0m\u001b[0;34m(\u001b[0m\u001b[0mmodel\u001b[0m\u001b[0;34m,\u001b[0m \u001b[0moptimizer\u001b[0m\u001b[0;34m)\u001b[0m\u001b[0;34m\u001b[0m\u001b[0;34m\u001b[0m\u001b[0m\n\u001b[1;32m     23\u001b[0m \u001b[0;34m\u001b[0m\u001b[0m\n\u001b[0;32m---> 24\u001b[0;31m \u001b[0mtrainer\u001b[0m\u001b[0;34m.\u001b[0m\u001b[0mfit\u001b[0m\u001b[0;34m(\u001b[0m\u001b[0mcontexts\u001b[0m\u001b[0;34m,\u001b[0m \u001b[0mtarget\u001b[0m\u001b[0;34m,\u001b[0m \u001b[0mmax_epoch\u001b[0m\u001b[0;34m,\u001b[0m \u001b[0mbatch_size\u001b[0m\u001b[0;34m)\u001b[0m\u001b[0;34m\u001b[0m\u001b[0;34m\u001b[0m\u001b[0m\n\u001b[0m\u001b[1;32m     25\u001b[0m \u001b[0mtrainer\u001b[0m\u001b[0;34m.\u001b[0m\u001b[0mplot\u001b[0m\u001b[0;34m(\u001b[0m\u001b[0;34m)\u001b[0m\u001b[0;34m\u001b[0m\u001b[0;34m\u001b[0m\u001b[0m\n\u001b[1;32m     26\u001b[0m \u001b[0;34m\u001b[0m\u001b[0m\n",
            "\u001b[0;32m<ipython-input-9-8636cb34bc88>\u001b[0m in \u001b[0;36mfit\u001b[0;34m(self, x, t, max_epoch, batch_size, max_grad, eval_interval)\u001b[0m\n\u001b[1;32m     31\u001b[0m \u001b[0;34m\u001b[0m\u001b[0m\n\u001b[1;32m     32\u001b[0m                 \u001b[0;31m# 勾配を求め、パラメータを更新\u001b[0m\u001b[0;34m\u001b[0m\u001b[0;34m\u001b[0m\u001b[0;34m\u001b[0m\u001b[0m\n\u001b[0;32m---> 33\u001b[0;31m                 \u001b[0mloss\u001b[0m \u001b[0;34m=\u001b[0m \u001b[0mmodel\u001b[0m\u001b[0;34m.\u001b[0m\u001b[0mforward\u001b[0m\u001b[0;34m(\u001b[0m\u001b[0mbatch_x\u001b[0m\u001b[0;34m,\u001b[0m \u001b[0mbatch_t\u001b[0m\u001b[0;34m)\u001b[0m\u001b[0;34m\u001b[0m\u001b[0;34m\u001b[0m\u001b[0m\n\u001b[0m\u001b[1;32m     34\u001b[0m                 \u001b[0mmodel\u001b[0m\u001b[0;34m.\u001b[0m\u001b[0mbackward\u001b[0m\u001b[0;34m(\u001b[0m\u001b[0;34m)\u001b[0m\u001b[0;34m\u001b[0m\u001b[0;34m\u001b[0m\u001b[0m\n\u001b[1;32m     35\u001b[0m                 \u001b[0mparams\u001b[0m\u001b[0;34m,\u001b[0m \u001b[0mgrads\u001b[0m \u001b[0;34m=\u001b[0m \u001b[0mremove_duplicate\u001b[0m\u001b[0;34m(\u001b[0m\u001b[0mmodel\u001b[0m\u001b[0;34m.\u001b[0m\u001b[0mparams\u001b[0m\u001b[0;34m,\u001b[0m \u001b[0mmodel\u001b[0m\u001b[0;34m.\u001b[0m\u001b[0mgrads\u001b[0m\u001b[0;34m)\u001b[0m  \u001b[0;31m# 共有された重みを1つに集約\u001b[0m\u001b[0;34m\u001b[0m\u001b[0;34m\u001b[0m\u001b[0m\n",
            "\u001b[0;32m<ipython-input-18-84ec0adb64c5>\u001b[0m in \u001b[0;36mforward\u001b[0;34m(self, contexts, target)\u001b[0m\n\u001b[1;32m     26\u001b[0m \u001b[0;34m\u001b[0m\u001b[0m\n\u001b[1;32m     27\u001b[0m     \u001b[0;32mdef\u001b[0m \u001b[0mforward\u001b[0m\u001b[0;34m(\u001b[0m\u001b[0mself\u001b[0m\u001b[0;34m,\u001b[0m \u001b[0mcontexts\u001b[0m\u001b[0;34m,\u001b[0m \u001b[0mtarget\u001b[0m\u001b[0;34m)\u001b[0m\u001b[0;34m:\u001b[0m\u001b[0;34m\u001b[0m\u001b[0;34m\u001b[0m\u001b[0m\n\u001b[0;32m---> 28\u001b[0;31m         \u001b[0mh0\u001b[0m \u001b[0;34m=\u001b[0m \u001b[0mself\u001b[0m\u001b[0;34m.\u001b[0m\u001b[0min_layer0\u001b[0m\u001b[0;34m.\u001b[0m\u001b[0mforward\u001b[0m\u001b[0;34m(\u001b[0m\u001b[0mcontexts\u001b[0m\u001b[0;34m[\u001b[0m\u001b[0;34m:\u001b[0m\u001b[0;34m,\u001b[0m \u001b[0;36m0\u001b[0m\u001b[0;34m]\u001b[0m\u001b[0;34m)\u001b[0m\u001b[0;34m\u001b[0m\u001b[0;34m\u001b[0m\u001b[0m\n\u001b[0m\u001b[1;32m     29\u001b[0m         \u001b[0mh1\u001b[0m \u001b[0;34m=\u001b[0m \u001b[0mself\u001b[0m\u001b[0;34m.\u001b[0m\u001b[0min_layer1\u001b[0m\u001b[0;34m.\u001b[0m\u001b[0mforward\u001b[0m\u001b[0;34m(\u001b[0m\u001b[0mcontexts\u001b[0m\u001b[0;34m[\u001b[0m\u001b[0;34m:\u001b[0m\u001b[0;34m,\u001b[0m \u001b[0;36m1\u001b[0m\u001b[0;34m]\u001b[0m\u001b[0;34m)\u001b[0m\u001b[0;34m\u001b[0m\u001b[0;34m\u001b[0m\u001b[0m\n\u001b[1;32m     30\u001b[0m         \u001b[0mh\u001b[0m \u001b[0;34m=\u001b[0m \u001b[0;34m(\u001b[0m\u001b[0mh0\u001b[0m \u001b[0;34m+\u001b[0m \u001b[0mh1\u001b[0m\u001b[0;34m)\u001b[0m \u001b[0;34m*\u001b[0m \u001b[0;36m0.5\u001b[0m\u001b[0;34m\u001b[0m\u001b[0;34m\u001b[0m\u001b[0m\n",
            "\u001b[0;32m<ipython-input-16-4011f5cca2dc>\u001b[0m in \u001b[0;36mforward\u001b[0;34m(self, x)\u001b[0m\n\u001b[1;32m      7\u001b[0m   \u001b[0;32mdef\u001b[0m \u001b[0mforward\u001b[0m\u001b[0;34m(\u001b[0m\u001b[0mself\u001b[0m\u001b[0;34m,\u001b[0m\u001b[0mx\u001b[0m\u001b[0;34m)\u001b[0m\u001b[0;34m:\u001b[0m\u001b[0;34m\u001b[0m\u001b[0;34m\u001b[0m\u001b[0m\n\u001b[1;32m      8\u001b[0m     \u001b[0mW\u001b[0m\u001b[0;34m,\u001b[0m \u001b[0;34m=\u001b[0m \u001b[0mself\u001b[0m\u001b[0;34m.\u001b[0m\u001b[0mparams\u001b[0m\u001b[0;34m\u001b[0m\u001b[0;34m\u001b[0m\u001b[0m\n\u001b[0;32m----> 9\u001b[0;31m     \u001b[0mout\u001b[0m \u001b[0;34m=\u001b[0m \u001b[0mnp\u001b[0m\u001b[0;34m.\u001b[0m\u001b[0mdot\u001b[0m\u001b[0;34m(\u001b[0m\u001b[0mx\u001b[0m\u001b[0;34m,\u001b[0m\u001b[0mw\u001b[0m\u001b[0;34m)\u001b[0m\u001b[0;34m\u001b[0m\u001b[0;34m\u001b[0m\u001b[0m\n\u001b[0m\u001b[1;32m     10\u001b[0m     \u001b[0mself\u001b[0m\u001b[0;34m.\u001b[0m\u001b[0mx\u001b[0m \u001b[0;34m=\u001b[0m \u001b[0mx\u001b[0m\u001b[0;34m\u001b[0m\u001b[0;34m\u001b[0m\u001b[0m\n\u001b[1;32m     11\u001b[0m     \u001b[0;32mreturn\u001b[0m \u001b[0mout\u001b[0m\u001b[0;34m\u001b[0m\u001b[0;34m\u001b[0m\u001b[0m\n",
            "\u001b[0;31mNameError\u001b[0m: name 'w' is not defined"
          ]
        }
      ]
    },
    {
      "cell_type": "markdown",
      "source": [
        "#### 从概率的角度看CBOW"
      ],
      "metadata": {
        "id": "OzlYJ8LCXo0Q"
      }
    },
    {
      "cell_type": "markdown",
      "source": [
        "给定 目标词上下文, 目标词出现的概率\n",
        "wt 发生, 这一事件是正确解, \n",
        "CBOW 的损失函数\n"
      ],
      "metadata": {
        "id": "G3YWks6WOX8E"
      }
    },
    {
      "cell_type": "markdown",
      "source": [
        "### Skip-gram 模型:\n",
        "\n",
        "\n",
        ">根据目标词去推导周围的词\n",
        "\n",
        "![image.png](data:image/png;base64,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)\n"
      ],
      "metadata": {
        "id": "Ze2jo5h8Q1qB"
      }
    },
    {
      "cell_type": "markdown",
      "source": [
        "#### CBOW 与 Skip-gram 两者对比:\n",
        "我们应该使用CBOW模型和skip-gram模型中的哪一个呢？答案应该是skip-gram模型。这是因为，从单词的分布式表示的准确度来看，在大多数情况下，skip-grm模型的结果更好。特别是随着语料库规模的增大，在低频词和类推问题的性能方面，skip-gram模型往往会有更好的表现（单词的分布式表示的评价方法会在4.4.2节说明）。此外，就学习速度而言， CBOW模型比skip-gram模型要快。这是因为skip-gram模型需要根据上下文数量计算相应个数的损失，计算成本变大。"
      ],
      "metadata": {
        "id": "YKZvtDZlReUL"
      }
    },
    {
      "cell_type": "markdown",
      "source": [
        "### 基于计数与基于推理的对比\n",
        "到目前为止，我们已经了解了基于计数的方法和基于推理的方法（特别是word2vec）。两种方法在学习机制上存在显著差异：基于计数的方法通过对整个语料库的统计数据进行一次学习来获得单词的分布式表示，而基于推理的方法则反复观察语料库的一部分数据进行学习（mini-batch学习）。这里，我们就其他方面来对比一下这两种方法。首先，我们考虑需要向词汇表添加新词并更新单词的分布式表示的场景。此时，基于计数的方法需要从头开始计算。即便是想稍微修改一下单词的分布式表示，也需要重新完成生成共现矩阵、进行SVD等一系列操作。相反，基于推理的方法（word2vec）允许参数的增量学习。具体来说，可以将之前学习到的权重作为下一次学习的初始值，在不损失之前学习到的经验的情况下，高效地更新单词的分布式表示。在这方面，基于推理的方法（word2vec）具有优势。\n",
        "\n",
        "其次，两种方法得到的单词的分布式表示的性质和准确度有什么差异呢？就分布式表示的性质而言，基于计数的方法主要是编码单词的相似性，而word2vec（特别是skip-gram模型）除了单词的相似性以外，还能理解更复杂的单词之间的模式。关于这一点，word2vec因能解开“king-man+woman=queen”这样的类推问题而知名（关于类推问题，我们将在4.4.2节说明）。这里有一个常见的误解，那就是基于推理的方法在准确度方面优于基于计数的方法。实际上，有研究表明，就单词相似性的定量评价而言，基于推理的方法和基于计数的方法难分上下[25]"
      ],
      "metadata": {
        "id": "Z2pdr3eVRu53"
      }
    },
    {
      "cell_type": "markdown",
      "source": [
        "### GloVe方法\n",
        "融合了基于推理的方法和基于计数的方法。该方法的思想是，将整个语料库的统计数据的信息纳入损失函数，进行mini-batch学习（具体请参考论文[27]）。据此，这两个方法论成功地被融合在了一起。"
      ],
      "metadata": {
        "id": "FVx-Gy04SZ40"
      }
    },
    {
      "cell_type": "markdown",
      "source": [
        "## Word2Vec 的高速化\n",
        "\n",
        "\n",
        "> 对 Word2Vec 从两方面进行改进:\n",
        "\n",
        "\n",
        "1.   引入 Embedding 层\n",
        "2.   引入 Negative Sampling 的新损失函数\n",
        "\n",
        "\n",
        "\n"
      ],
      "metadata": {
        "id": "V299ZVSj_lpi"
      }
    },
    {
      "cell_type": "markdown",
      "source": [
        "## RNN"
      ],
      "metadata": {
        "id": "hHIc7oD6_ler"
      }
    },
    {
      "cell_type": "markdown",
      "source": [
        ""
      ],
      "metadata": {
        "id": "4oZrwsoGUB9y"
      }
    },
    {
      "cell_type": "markdown",
      "source": [
        "## Gated RNN\n"
      ],
      "metadata": {
        "id": "ZBWAgGNG_lXt"
      }
    },
    {
      "cell_type": "markdown",
      "source": [
        "## 基于RNN生成文本"
      ],
      "metadata": {
        "id": "dxA4Y_WY_lRx"
      }
    },
    {
      "cell_type": "markdown",
      "source": [
        "## Attention\n"
      ],
      "metadata": {
        "id": "_mFoABuO_lLB"
      }
    },
    {
      "cell_type": "markdown",
      "source": [
        ""
      ],
      "metadata": {
        "id": "gExkfzjN_lCQ"
      }
    }
  ]
}